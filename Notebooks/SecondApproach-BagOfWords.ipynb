{
 "cells": [
  {
   "cell_type": "code",
   "execution_count": 1,
   "id": "78c1c7d2-5627-4624-a659-cf1ccc0d3fcd",
   "metadata": {},
   "outputs": [],
   "source": [
    "import pandas as pd\n",
    "import numpy as np\n",
    "import datetime\n",
    "from sklearn.feature_extraction.text import CountVectorizer\n",
    "from sklearn.model_selection import train_test_split\n",
    "from sklearn.feature_selection import SelectKBest\n",
    "import os\n",
    "from tensorflow import keras\n",
    "import time\n",
    "import matplotlib.pyplot as plt\n",
    "import tensorflow as tf\n",
    "import zipfile"
   ]
  },
  {
   "cell_type": "markdown",
   "id": "0037cedb-3c99-48a6-9111-9665deca4e40",
   "metadata": {},
   "source": [
    "# Load Reddit comments"
   ]
  },
  {
   "cell_type": "code",
   "execution_count": 2,
   "id": "b876b357-656f-47e5-a798-72602d92b1a5",
   "metadata": {},
   "outputs": [],
   "source": [
    "with zipfile.ZipFile('../Data/RawBitcoinComments/bitcoin2020-09.zip', 'r') as zip_ref:\n",
    "    zip_ref.extractall('../Data/RawBitcoinComments/')"
   ]
  },
  {
   "cell_type": "code",
   "execution_count": 3,
   "id": "f8023d35-a410-4e1e-8a7e-f4070ec02a27",
   "metadata": {},
   "outputs": [],
   "source": [
    "with zipfile.ZipFile('../Data/RawBitcoinComments/bitcoin2020-10.zip', 'r') as zip_ref:\n",
    "    zip_ref.extractall('../Data/RawBitcoinComments/')"
   ]
  },
  {
   "cell_type": "code",
   "execution_count": 4,
   "id": "b9d147d4-8258-4694-b785-a10663fc44ed",
   "metadata": {},
   "outputs": [],
   "source": [
    "with zipfile.ZipFile('../Data/RawBitcoinComments/bitcoin2020-11.zip', 'r') as zip_ref:\n",
    "    zip_ref.extractall('../Data/RawBitcoinComments/')"
   ]
  },
  {
   "cell_type": "code",
   "execution_count": 5,
   "id": "8a9a67e5-5118-4b29-99e2-11d5c4fce0e9",
   "metadata": {},
   "outputs": [],
   "source": [
    "with zipfile.ZipFile('../Data/RawBitcoinComments/bitcoin2020-12.zip', 'r') as zip_ref:\n",
    "    zip_ref.extractall('../Data/RawBitcoinComments/')"
   ]
  },
  {
   "cell_type": "code",
   "execution_count": 6,
   "id": "ea0deeb6-e7d2-4efd-90fd-63682667e827",
   "metadata": {},
   "outputs": [],
   "source": [
    "with zipfile.ZipFile('../Data/RawBitcoinComments/bitcoin2021-01.zip', 'r') as zip_ref:\n",
    "    zip_ref.extractall('../Data/RawBitcoinComments/')"
   ]
  },
  {
   "cell_type": "code",
   "execution_count": 7,
   "id": "3580be54-7799-4a2d-8229-2725e3e57d76",
   "metadata": {},
   "outputs": [],
   "source": [
    "with zipfile.ZipFile('../Data/RawBitcoinComments/bitcoin2021-02.zip', 'r') as zip_ref:\n",
    "    zip_ref.extractall('../Data/RawBitcoinComments/')"
   ]
  },
  {
   "cell_type": "code",
   "execution_count": 8,
   "id": "35617ff0-ca53-4be5-bdd2-f921f98de242",
   "metadata": {},
   "outputs": [],
   "source": [
    "with zipfile.ZipFile('../Data/RawBitcoinComments/bitcoin2021-03.zip', 'r') as zip_ref:\n",
    "    zip_ref.extractall('../Data/RawBitcoinComments/')"
   ]
  },
  {
   "cell_type": "code",
   "execution_count": 9,
   "id": "91b29d90-5781-4fdc-8049-6474b3d651d9",
   "metadata": {},
   "outputs": [],
   "source": [
    "with zipfile.ZipFile('../Data/RawBitcoinComments/bitcoin2021-04.zip', 'r') as zip_ref:\n",
    "    zip_ref.extractall('../Data/RawBitcoinComments/')"
   ]
  },
  {
   "cell_type": "code",
   "execution_count": 10,
   "id": "e7223b32-dbf0-4315-b106-1a10a806e327",
   "metadata": {},
   "outputs": [],
   "source": [
    "with zipfile.ZipFile('../Data/RawBitcoinComments/bitcoin2021-05.zip', 'r') as zip_ref:\n",
    "    zip_ref.extractall('../Data/RawBitcoinComments/')"
   ]
  },
  {
   "cell_type": "code",
   "execution_count": 11,
   "id": "06c039b7-5753-46c8-bbae-08ec340f4702",
   "metadata": {},
   "outputs": [],
   "source": [
    "with zipfile.ZipFile('../Data/RawBitcoinComments/bitcoin2021-06.zip', 'r') as zip_ref:\n",
    "    zip_ref.extractall('../Data/RawBitcoinComments/')"
   ]
  },
  {
   "cell_type": "code",
   "execution_count": 64,
   "id": "f5dc7f1a-4162-4a51-b8c0-254ca8370d03",
   "metadata": {},
   "outputs": [
    {
     "name": "stderr",
     "output_type": "stream",
     "text": [
      "c:\\users\\emaibach\\appdata\\local\\programs\\python\\python39\\lib\\site-packages\\IPython\\core\\interactiveshell.py:3169: DtypeWarning: Columns (10) have mixed types.Specify dtype option on import or set low_memory=False.\n",
      "  has_raised = await self.run_ast_nodes(code_ast.body, cell_name,\n"
     ]
    }
   ],
   "source": [
    "dfdtypes = {'author_premium': bool,'body': object,'controversiality': np.int64,'created_utc': np.int64,'id': object,'locked': bool,'no_follow': bool,'score': np.int64}\n",
    "\n",
    "li = []\n",
    "df1 = pd.read_csv('../Data/RawBitcoinComments/bitcoin2020-01.csv', dtype=dfdtypes)\n",
    "li.append(df1)\n",
    "df2 = pd.read_csv('../Data/RawBitcoinComments/bitcoin2020-02.csv', dtype=dfdtypes)\n",
    "li.append(df2)\n",
    "df3 = pd.read_csv('../Data/RawBitcoinComments/bitcoin2020-03.csv', dtype=dfdtypes)\n",
    "li.append(df3)\n",
    "df4 = pd.read_csv('../Data/RawBitcoinComments/bitcoin2020-04.csv', dtype=dfdtypes)\n",
    "li.append(df4)\n",
    "df5 = pd.read_csv('../Data/RawBitcoinComments/bitcoin2020-05.csv', dtype=dfdtypes)\n",
    "li.append(df5)\n",
    "df6 = pd.read_csv('../Data/RawBitcoinComments/bitcoin2020-06.csv', dtype=dfdtypes)\n",
    "li.append(df6)\n",
    "df7 = pd.read_csv('../Data/RawBitcoinComments/bitcoin2020-07.csv', dtype=dfdtypes)\n",
    "li.append(df7)\n",
    "df8 = pd.read_csv('../Data/RawBitcoinComments/bitcoin2020-08.csv', dtype=dfdtypes)\n",
    "li.append(df8)\n",
    "df9 = pd.read_csv('../Data/RawBitcoinComments/bitcoin2020-09.csv', dtype=dfdtypes)\n",
    "li.append(df9)\n",
    "df10 = pd.read_csv('../Data/RawBitcoinComments/bitcoin2020-10.csv', dtype=dfdtypes)\n",
    "li.append(df10)\n",
    "df11 = pd.read_csv('../Data/RawBitcoinComments/bitcoin2020-11.csv', dtype=dfdtypes)\n",
    "li.append(df11)\n",
    "df12 = pd.read_csv('../Data/RawBitcoinComments/bitcoin2020-12.csv', dtype=dfdtypes)\n",
    "li.append(df12)\n",
    "df13 = pd.read_csv('../Data/RawBitcoinComments/bitcoin2021-01.csv', dtype=dfdtypes)\n",
    "li.append(df13)\n",
    "df14 = pd.read_csv('../Data/RawBitcoinComments/bitcoin2021-02.csv', dtype=dfdtypes)\n",
    "li.append(df14)\n",
    "df15 = pd.read_csv('../Data/RawBitcoinComments/bitcoin2021-03.csv', dtype=dfdtypes)\n",
    "li.append(df15)\n",
    "df16 = pd.read_csv('../Data/RawBitcoinComments/bitcoin2021-04.csv', dtype=dfdtypes)\n",
    "li.append(df16)\n",
    "df17 = pd.read_csv('../Data/RawBitcoinComments/bitcoin2021-05.csv', dtype=dfdtypes)\n",
    "li.append(df17)\n",
    "df18 = pd.read_csv('../Data/RawBitcoinComments/bitcoin2021-06.csv', dtype=dfdtypes)\n",
    "li.append(df18)\n",
    "\n",
    "df = pd.concat(li, axis=0, ignore_index=True)"
   ]
  },
  {
   "cell_type": "code",
   "execution_count": 65,
   "id": "e2b625e9-fa8a-4daf-a8e2-833948625d16",
   "metadata": {},
   "outputs": [],
   "source": [
    "df[\"created_utc\"] = pd.to_datetime(df[\"created_utc\"],unit='s')"
   ]
  },
  {
   "cell_type": "code",
   "execution_count": 66,
   "id": "25f59e12-2e21-4ddc-bde1-bf1b8927e127",
   "metadata": {},
   "outputs": [],
   "source": [
    "df[\"retrieved_on\"] = pd.to_datetime(df[\"retrieved_on\"],unit='s')"
   ]
  },
  {
   "cell_type": "code",
   "execution_count": 67,
   "id": "608a93c1-a4f5-4bc7-85f9-179851e1f7de",
   "metadata": {},
   "outputs": [],
   "source": [
    "df = df[df['body'] != \"[removed]\"]"
   ]
  },
  {
   "cell_type": "code",
   "execution_count": 68,
   "id": "e8169350-1625-49df-a98b-ec8d3038c576",
   "metadata": {},
   "outputs": [],
   "source": [
    "df = df[df['body'] != \"[deleted]\"]"
   ]
  },
  {
   "cell_type": "code",
   "execution_count": 69,
   "id": "38b9c6a6-8609-4812-9773-c1b70bafa3f1",
   "metadata": {},
   "outputs": [],
   "source": [
    "df[\"created_utc\"] = pd.to_datetime(df[\"created_utc\"].dt.date)"
   ]
  },
  {
   "cell_type": "code",
   "execution_count": 70,
   "id": "be537032-7d47-4d59-be94-90d535367088",
   "metadata": {},
   "outputs": [],
   "source": [
    "df[\"body\"] = df[\"body\"].astype(str)"
   ]
  },
  {
   "cell_type": "code",
   "execution_count": 71,
   "id": "4e25febb-9357-4cfa-ad8f-cb93a4d905a0",
   "metadata": {},
   "outputs": [],
   "source": [
    "df = df[df['body'].isna() == False]"
   ]
  },
  {
   "cell_type": "code",
   "execution_count": 72,
   "id": "6d774db1-7955-4119-8342-b202265f8d03",
   "metadata": {},
   "outputs": [],
   "source": [
    "df['body'] = df['body'].str.lower()"
   ]
  },
  {
   "cell_type": "markdown",
   "id": "44e4ca0b-716d-4076-a8a4-fd2f7c73ee97",
   "metadata": {},
   "source": [
    "# Group Comments By Day And Do Bag Of Words Counts"
   ]
  },
  {
   "cell_type": "code",
   "execution_count": 73,
   "id": "843826c2-9296-4ecc-82c1-a58ba745bf5a",
   "metadata": {},
   "outputs": [],
   "source": [
    "dfbyday = df[[\"created_utc\",\"id\",\"author_premium\",\"controversiality\", \"locked\", \"no_follow\", \"score\", \"body\"]].groupby([\"created_utc\"]).agg({\"id\": [\"count\"], \"author_premium\": [\"sum\"], \"controversiality\": [\"sum\"], \"locked\" : [\"sum\"], \"no_follow\" : [\"sum\"], \"score\" : [np.mean], \"body\": ' '.join})"
   ]
  },
  {
   "cell_type": "code",
   "execution_count": 74,
   "id": "6e77d7fb-927a-4df9-8fee-e816dc6b35df",
   "metadata": {},
   "outputs": [],
   "source": [
    "dfbyday = dfbyday.droplevel(axis=1, level=0).reset_index().set_axis([\"Date\", \"CommentCount\", \"PremiumCount\", \"Controversiality\", \"LockedCount\", \"FollowCount\", \"Score\", \"Body\"], axis=1, inplace=False)"
   ]
  },
  {
   "cell_type": "code",
   "execution_count": 75,
   "id": "357f3841-9d1c-40a6-9a19-024d5a54e830",
   "metadata": {},
   "outputs": [],
   "source": [
    "vectorizer = CountVectorizer(min_df=0.10, max_df=0.90, ngram_range=(1,3))"
   ]
  },
  {
   "cell_type": "code",
   "execution_count": 76,
   "id": "34b970da-c42c-4d8b-bf8e-2d9621531e36",
   "metadata": {},
   "outputs": [],
   "source": [
    "wordvector = vectorizer.fit_transform(dfbyday['Body'])"
   ]
  },
  {
   "cell_type": "code",
   "execution_count": 82,
   "id": "1b07864b-ba10-49bd-b5e4-0c796a50762b",
   "metadata": {},
   "outputs": [],
   "source": [
    "wordvectordf = pd.DataFrame(wordvector.todense(), columns=vectorizer.get_feature_names_out())"
   ]
  },
  {
   "cell_type": "code",
   "execution_count": 83,
   "id": "2fb68ac2-2c85-4554-937f-99bfc80d8bad",
   "metadata": {},
   "outputs": [],
   "source": [
    "dfbydayvector = pd.concat([dfbyday[[\"Date\"]], wordvectordf], axis=1)"
   ]
  },
  {
   "cell_type": "markdown",
   "id": "9fe80263-89cd-4b3e-9a6f-4454484913e2",
   "metadata": {},
   "source": [
    "# Load BitCoin price history"
   ]
  },
  {
   "cell_type": "code",
   "execution_count": 77,
   "id": "b4afd436-562b-4711-b65a-180195d7c1c5",
   "metadata": {},
   "outputs": [],
   "source": [
    "dfprice = pd.read_csv('../Data/BitcoinPrice/bitcoinprice2020-21.csv')"
   ]
  },
  {
   "cell_type": "code",
   "execution_count": 78,
   "id": "55abf6a9-da9d-48de-b9ef-10fbaf54b703",
   "metadata": {},
   "outputs": [],
   "source": [
    "dfprice[\"Date\"] = pd.to_datetime(dfprice[\"Date\"], infer_datetime_format=True)  "
   ]
  },
  {
   "cell_type": "code",
   "execution_count": 79,
   "id": "f3f4396e-b965-406a-852c-6ae502b9bcd6",
   "metadata": {},
   "outputs": [],
   "source": [
    "dfprice[\"Change %\"] = dfprice[\"Change %\"].str.rstrip('%').astype('float') / 100.0"
   ]
  },
  {
   "cell_type": "code",
   "execution_count": 80,
   "id": "6cdf03ce-15f2-4810-8dfb-481fb54efa69",
   "metadata": {},
   "outputs": [],
   "source": [
    "dfprice[\"NextDayChange\"] = dfprice[\"Change %\"].shift(-1)"
   ]
  },
  {
   "cell_type": "code",
   "execution_count": 84,
   "id": "7d20a0d0-7e51-4254-ac37-09fb5ff074dd",
   "metadata": {},
   "outputs": [],
   "source": [
    "dfvectorprice = pd.merge(dfbydayvector, dfprice[[\"Date\", \"NextDayChange\"]], left_on=\"Date\", right_on=\"Date\", how=\"outer\")"
   ]
  },
  {
   "cell_type": "code",
   "execution_count": 30,
   "id": "4a26767e-6aba-423b-851e-21748f61fb78",
   "metadata": {},
   "outputs": [],
   "source": [
    "dfvectorprice = dfvectorprice[dfvectorprice['0000'].isna() == False].copy()"
   ]
  },
  {
   "cell_type": "code",
   "execution_count": 31,
   "id": "8e2bf54b-7719-42cf-b45e-77d41695103d",
   "metadata": {},
   "outputs": [],
   "source": [
    "conditions = [\n",
    "               (dfvectorprice[\"NextDayChange\"] <= -0.025), \n",
    "               (dfvectorprice[\"NextDayChange\"] > -0.025) & (dfvectorprice[\"NextDayChange\"] < 0.025),\n",
    "               (dfvectorprice[\"NextDayChange\"] >= 0.025)\n",
    "             ]\n",
    "values = [0, 1, 2]\n",
    "dfvectorprice['ChangeGroup'] = np.select(conditions, values)"
   ]
  },
  {
   "cell_type": "code",
   "execution_count": 32,
   "id": "0cd1c04e-c73c-4b76-9c9b-e463f0ec4fdb",
   "metadata": {},
   "outputs": [],
   "source": [
    "dfvectorprice = dfvectorprice.drop(['NextDayChange', 'Date'], axis=1)"
   ]
  },
  {
   "cell_type": "markdown",
   "id": "5ae41159-75e8-4d23-8cba-0fd7b15d462c",
   "metadata": {},
   "source": [
    "# Create Train, Test, and Validation data sets"
   ]
  },
  {
   "cell_type": "code",
   "execution_count": 33,
   "id": "c6d332ae-5585-4e90-ac50-b0bb7932c232",
   "metadata": {},
   "outputs": [],
   "source": [
    "dfvectorprice_train, dfvectorprice_test = train_test_split(dfvectorprice, test_size=0.4)"
   ]
  },
  {
   "cell_type": "code",
   "execution_count": 34,
   "id": "d17347c5-23d3-4cc0-a308-67c0207ab2dc",
   "metadata": {},
   "outputs": [],
   "source": [
    "dfvectorprice_test, dfvectorprice_valid = train_test_split(dfvectorprice_test, test_size=0.5)"
   ]
  },
  {
   "cell_type": "code",
   "execution_count": 35,
   "id": "067fc027-ad8e-4d9b-af10-3983a957d546",
   "metadata": {},
   "outputs": [],
   "source": [
    "X_train = dfvectorprice_train.drop(['ChangeGroup'], axis=1).to_numpy()"
   ]
  },
  {
   "cell_type": "code",
   "execution_count": 36,
   "id": "0a5d33eb-7abb-43b8-9ea0-d95781013778",
   "metadata": {},
   "outputs": [],
   "source": [
    "y_train = dfvectorprice_train[[\"ChangeGroup\"]].to_numpy()"
   ]
  },
  {
   "cell_type": "code",
   "execution_count": 37,
   "id": "853b729a-bb5d-4f33-b704-520bb679127f",
   "metadata": {},
   "outputs": [],
   "source": [
    "X_test = dfvectorprice_test.drop(['ChangeGroup'], axis=1).to_numpy()"
   ]
  },
  {
   "cell_type": "code",
   "execution_count": 38,
   "id": "862c0d16-13b8-47c5-a1a0-9f1ea5c69ce7",
   "metadata": {},
   "outputs": [],
   "source": [
    "y_test = dfvectorprice_test[[\"ChangeGroup\"]].to_numpy()"
   ]
  },
  {
   "cell_type": "code",
   "execution_count": 39,
   "id": "36c15913-99c6-4922-b8bb-c47fc6ada4f2",
   "metadata": {},
   "outputs": [],
   "source": [
    "X_valid = dfvectorprice_valid.drop(['ChangeGroup'], axis=1).to_numpy()"
   ]
  },
  {
   "cell_type": "code",
   "execution_count": 40,
   "id": "bcb1aab6-eeeb-4671-85b6-16a0a443fa68",
   "metadata": {},
   "outputs": [],
   "source": [
    "y_valid = dfvectorprice_valid[[\"ChangeGroup\"]].to_numpy()"
   ]
  },
  {
   "cell_type": "markdown",
   "id": "3adaeb1b-3dd2-4539-8696-5065259bc398",
   "metadata": {},
   "source": [
    "# Analyze"
   ]
  },
  {
   "cell_type": "code",
   "execution_count": 41,
   "id": "67554833-0e07-4af1-b980-cf139006bea8",
   "metadata": {},
   "outputs": [],
   "source": [
    "cgdf = dfvectorprice_train[[\"ChangeGroup\"]].copy()"
   ]
  },
  {
   "cell_type": "code",
   "execution_count": 42,
   "id": "6b4c4714-76cb-4137-b1d5-d7afa13644d1",
   "metadata": {},
   "outputs": [],
   "source": [
    "cgdf[\"Change Group\"] = \"\""
   ]
  },
  {
   "cell_type": "code",
   "execution_count": 43,
   "id": "b29ffa28-8468-4086-b329-2e6cf993bd1f",
   "metadata": {},
   "outputs": [],
   "source": [
    "cgdf.loc[cgdf['ChangeGroup'] == 0, 'Change Group'] = \"Decrease\"\n",
    "cgdf.loc[cgdf['ChangeGroup'] == 1, 'Change Group'] = \"No Change\"\n",
    "cgdf.loc[cgdf['ChangeGroup'] == 2, 'Change Group'] = \"Increase\""
   ]
  },
  {
   "cell_type": "code",
   "execution_count": 44,
   "id": "4933c8ca-50c3-4550-8aef-579bd13a0bfd",
   "metadata": {},
   "outputs": [
    {
     "data": {
      "text/plain": [
       "Text(0, 0.5, '')"
      ]
     },
     "execution_count": 44,
     "metadata": {},
     "output_type": "execute_result"
    },
    {
     "data": {
      "image/png": "[encoded data removed]",
      "text/plain": [
       "<Figure size 432x288 with 1 Axes>"
      ]
     },
     "metadata": {},
     "output_type": "display_data"
    }
   ],
   "source": [
    "ax = cgdf[\"Change Group\"].value_counts().plot.pie(autopct='%1.0f%%', title=\"Change Group\", legend=False)\n",
    "ax.set_ylabel('')"
   ]
  },
  {
   "cell_type": "markdown",
   "id": "3d3edade-e04e-452b-846f-2363689f231d",
   "metadata": {},
   "source": [
    "# Find 20 Best Words For Predicting Price"
   ]
  },
  {
   "cell_type": "code",
   "execution_count": 45,
   "id": "24481bee-14ec-48e5-a2ea-d45e3011f65a",
   "metadata": {},
   "outputs": [],
   "source": [
    "seletbest = SelectKBest(k=20).fit(X_train, y_train.ravel())"
   ]
  },
  {
   "cell_type": "code",
   "execution_count": 46,
   "id": "1cc452a7-f34a-41f7-b15c-4a830d94e7df",
   "metadata": {},
   "outputs": [],
   "source": [
    "X_trainnew = seletbest.transform(X_train)"
   ]
  },
  {
   "cell_type": "code",
   "execution_count": 47,
   "id": "b02439dd-69c2-4029-9941-93bc90b6383b",
   "metadata": {},
   "outputs": [],
   "source": [
    "X_testnew = seletbest.transform(X_test)"
   ]
  },
  {
   "cell_type": "code",
   "execution_count": 48,
   "id": "0b5776fe-0eff-4b92-85fb-1f4db8c25212",
   "metadata": {},
   "outputs": [],
   "source": [
    "X_validnew = seletbest.transform(X_valid)"
   ]
  },
  {
   "cell_type": "markdown",
   "id": "49925237-344a-41e8-a402-dfae04a81fbf",
   "metadata": {},
   "source": [
    "# Build Neural Network"
   ]
  },
  {
   "cell_type": "code",
   "execution_count": 49,
   "id": "f60c31ff-624e-4c85-8bac-8f26dcba6485",
   "metadata": {},
   "outputs": [],
   "source": [
    "root_logdir = os.path.join(os.curdir, \"tensor_logs\")\n",
    "def get_run_logdir():\n",
    "    run_id = time.strftime(\"run_%Y_%m_%d-%H_%M_%S\")\n",
    "    return os.path.join(root_logdir, run_id)"
   ]
  },
  {
   "cell_type": "code",
   "execution_count": 50,
   "id": "26cbb851-c189-4c95-9cfe-fa548d53df60",
   "metadata": {},
   "outputs": [],
   "source": [
    "model = keras.models.Sequential()\n",
    "model.add(keras.layers.InputLayer(input_shape=[20,]))\n",
    "model.add(keras.layers.Dense(300, activation=\"relu\"))\n",
    "model.add(keras.layers.Dense(100, activation=\"relu\"))\n",
    "model.add(keras.layers.Dense(3, activation=\"softmax\"))"
   ]
  },
  {
   "cell_type": "code",
   "execution_count": 51,
   "id": "dda58d9f-41bf-463a-a97b-ab898436e795",
   "metadata": {},
   "outputs": [],
   "source": [
    "model.compile(loss=\"sparse_categorical_crossentropy\", optimizer=\"sgd\", metrics=[\"accuracy\"])"
   ]
  },
  {
   "cell_type": "code",
   "execution_count": 52,
   "id": "7233d749-1469-4020-a28f-352e701d1dac",
   "metadata": {},
   "outputs": [
    {
     "name": "stdout",
     "output_type": "stream",
     "text": [
      "Epoch 1/30\n",
      "11/11 [==============================] - 1s 98ms/step - loss: 1.0858 - accuracy: 0.4268 - val_loss: 1.1432 - val_accuracy: 0.3727\n",
      "Epoch 2/30\n",
      "11/11 [==============================] - 0s 13ms/step - loss: 1.0523 - accuracy: 0.5213 - val_loss: 1.0488 - val_accuracy: 0.5545\n",
      "Epoch 3/30\n",
      "11/11 [==============================] - 0s 5ms/step - loss: 1.0050 - accuracy: 0.6098 - val_loss: 1.0195 - val_accuracy: 0.5727\n",
      "Epoch 4/30\n",
      "11/11 [==============================] - 0s 5ms/step - loss: 0.9790 - accuracy: 0.6646 - val_loss: 1.0251 - val_accuracy: 0.6000\n",
      "Epoch 5/30\n",
      "11/11 [==============================] - 0s 5ms/step - loss: 0.9541 - accuracy: 0.6646 - val_loss: 0.9934 - val_accuracy: 0.5909\n",
      "Epoch 6/30\n",
      "11/11 [==============================] - 0s 4ms/step - loss: 0.9356 - accuracy: 0.6921 - val_loss: 0.9856 - val_accuracy: 0.5909\n",
      "Epoch 7/30\n",
      "11/11 [==============================] - 0s 6ms/step - loss: 0.9183 - accuracy: 0.6890 - val_loss: 0.9776 - val_accuracy: 0.6091\n",
      "Epoch 8/30\n",
      "11/11 [==============================] - 0s 4ms/step - loss: 0.8965 - accuracy: 0.7195 - val_loss: 0.9715 - val_accuracy: 0.5909\n",
      "Epoch 9/30\n",
      "11/11 [==============================] - 0s 5ms/step - loss: 0.8845 - accuracy: 0.6982 - val_loss: 0.9575 - val_accuracy: 0.6000\n",
      "Epoch 10/30\n",
      "11/11 [==============================] - 0s 5ms/step - loss: 0.8711 - accuracy: 0.7134 - val_loss: 0.9560 - val_accuracy: 0.6091\n",
      "Epoch 11/30\n",
      "11/11 [==============================] - 0s 5ms/step - loss: 0.8552 - accuracy: 0.7134 - val_loss: 0.9590 - val_accuracy: 0.5818\n",
      "Epoch 12/30\n",
      "11/11 [==============================] - 0s 4ms/step - loss: 0.8434 - accuracy: 0.7226 - val_loss: 0.9408 - val_accuracy: 0.5818\n",
      "Epoch 13/30\n",
      "11/11 [==============================] - 0s 4ms/step - loss: 0.8288 - accuracy: 0.7165 - val_loss: 0.9832 - val_accuracy: 0.5909\n",
      "Epoch 14/30\n",
      "11/11 [==============================] - 0s 5ms/step - loss: 0.8261 - accuracy: 0.7134 - val_loss: 0.9309 - val_accuracy: 0.5909\n",
      "Epoch 15/30\n",
      "11/11 [==============================] - 0s 4ms/step - loss: 0.8090 - accuracy: 0.7226 - val_loss: 0.9416 - val_accuracy: 0.5909\n",
      "Epoch 16/30\n",
      "11/11 [==============================] - 0s 5ms/step - loss: 0.7966 - accuracy: 0.7317 - val_loss: 0.9359 - val_accuracy: 0.6091\n",
      "Epoch 17/30\n",
      "11/11 [==============================] - 0s 5ms/step - loss: 0.7879 - accuracy: 0.7287 - val_loss: 0.9468 - val_accuracy: 0.6000\n",
      "Epoch 18/30\n",
      "11/11 [==============================] - 0s 5ms/step - loss: 0.7786 - accuracy: 0.7287 - val_loss: 0.9158 - val_accuracy: 0.6182\n",
      "Epoch 19/30\n",
      "11/11 [==============================] - 0s 4ms/step - loss: 0.7753 - accuracy: 0.7256 - val_loss: 0.9337 - val_accuracy: 0.5909\n",
      "Epoch 20/30\n",
      "11/11 [==============================] - 0s 4ms/step - loss: 0.7650 - accuracy: 0.7256 - val_loss: 1.0345 - val_accuracy: 0.5636\n",
      "Epoch 21/30\n",
      "11/11 [==============================] - 0s 5ms/step - loss: 0.7692 - accuracy: 0.7104 - val_loss: 0.9275 - val_accuracy: 0.6182\n",
      "Epoch 22/30\n",
      "11/11 [==============================] - 0s 4ms/step - loss: 0.7576 - accuracy: 0.7226 - val_loss: 0.9462 - val_accuracy: 0.5909\n",
      "Epoch 23/30\n",
      "11/11 [==============================] - 0s 4ms/step - loss: 0.7443 - accuracy: 0.7317 - val_loss: 0.9386 - val_accuracy: 0.5909\n",
      "Epoch 24/30\n",
      "11/11 [==============================] - 0s 4ms/step - loss: 0.7409 - accuracy: 0.7256 - val_loss: 0.9621 - val_accuracy: 0.6000\n",
      "Epoch 25/30\n",
      "11/11 [==============================] - 0s 4ms/step - loss: 0.7371 - accuracy: 0.7317 - val_loss: 0.9870 - val_accuracy: 0.5636\n",
      "Epoch 26/30\n",
      "11/11 [==============================] - 0s 5ms/step - loss: 0.7265 - accuracy: 0.7287 - val_loss: 1.0125 - val_accuracy: 0.5636\n",
      "Epoch 27/30\n",
      "11/11 [==============================] - 0s 4ms/step - loss: 0.7222 - accuracy: 0.7348 - val_loss: 0.9560 - val_accuracy: 0.5818\n",
      "Epoch 28/30\n",
      "11/11 [==============================] - 0s 5ms/step - loss: 0.7146 - accuracy: 0.7317 - val_loss: 0.9826 - val_accuracy: 0.5727\n",
      "Epoch 29/30\n",
      "11/11 [==============================] - 0s 5ms/step - loss: 0.7093 - accuracy: 0.7317 - val_loss: 0.9465 - val_accuracy: 0.5818\n",
      "Epoch 30/30\n",
      "11/11 [==============================] - 0s 4ms/step - loss: 0.6991 - accuracy: 0.7409 - val_loss: 0.9369 - val_accuracy: 0.5909\n"
     ]
    }
   ],
   "source": [
    "run_logdir = get_run_logdir()\n",
    "tensorboard_cb = keras.callbacks.TensorBoard(run_logdir)\n",
    "history = model.fit(X_trainnew, y_train, epochs=30, validation_data=(X_validnew, y_valid), callbacks=[tensorboard_cb])"
   ]
  },
  {
   "cell_type": "code",
   "execution_count": 53,
   "id": "cc2ff93d-b56d-4002-b7a1-5a0b8d54e4c9",
   "metadata": {},
   "outputs": [
    {
     "data": {
      "image/png": "[encoded data removed]",
      "text/plain": [
       "<Figure size 576x360 with 1 Axes>"
      ]
     },
     "metadata": {
      "needs_background": "light"
     },
     "output_type": "display_data"
    }
   ],
   "source": [
    "pd.DataFrame(history.history).plot(figsize=(8,5))\n",
    "plt.grid(True)\n",
    "plt.gca().set_ylim(0,1)\n",
    "plt.show()"
   ]
  },
  {
   "cell_type": "code",
   "execution_count": 54,
   "id": "2b6be09e-e29a-4e74-8a12-ca4827ef9d7d",
   "metadata": {},
   "outputs": [
    {
     "name": "stdout",
     "output_type": "stream",
     "text": [
      "4/4 [==============================] - 0s 2ms/step - loss: 0.9196 - accuracy: 0.5963\n"
     ]
    },
    {
     "data": {
      "text/plain": [
       "[0.9196133613586426, 0.5963302850723267]"
      ]
     },
     "execution_count": 54,
     "metadata": {},
     "output_type": "execute_result"
    }
   ],
   "source": [
    "model.evaluate(X_testnew, y_test)"
   ]
  },
  {
   "cell_type": "code",
   "execution_count": 55,
   "id": "4d3cca50-f2ab-4c26-952f-bf4c337c2bbf",
   "metadata": {},
   "outputs": [
    {
     "data": {
      "text/plain": [
       "<tf.Tensor: shape=(109,), dtype=int64, numpy=\n",
       "array([1, 1, 1, 1, 1, 1, 1, 1, 1, 1, 1, 1, 1, 2, 1, 1, 1, 2, 1, 1, 2, 1,\n",
       "       1, 1, 1, 1, 1, 1, 1, 1, 2, 1, 2, 0, 1, 1, 1, 1, 1, 1, 2, 1, 2, 1,\n",
       "       1, 2, 1, 1, 1, 1, 1, 1, 1, 2, 2, 1, 2, 1, 1, 1, 1, 1, 1, 1, 1, 1,\n",
       "       1, 1, 1, 1, 1, 2, 2, 1, 1, 1, 2, 1, 1, 1, 2, 2, 1, 1, 1, 1, 1, 1,\n",
       "       1, 2, 1, 0, 1, 1, 1, 1, 1, 1, 1, 1, 1, 1, 1, 1, 1, 1, 1, 0, 1],\n",
       "      dtype=int64)>"
      ]
     },
     "execution_count": 55,
     "metadata": {},
     "output_type": "execute_result"
    }
   ],
   "source": [
    "y_proba = model.predict(X_testnew)\n",
    "indexes = tf.argmax(y_proba, axis=1)\n",
    "indexes"
   ]
  },
  {
   "cell_type": "code",
   "execution_count": null,
   "id": "9a429f66-69f0-4490-9d9d-e840e3148d25",
   "metadata": {},
   "outputs": [],
   "source": []
  },
  {
   "cell_type": "code",
   "execution_count": 57,
   "id": "c8cd8fb6-487b-4be9-ba58-03b63e9019ab",
   "metadata": {},
   "outputs": [],
   "source": [
    "resultdf = pd.DataFrame(indexes)\n",
    "resultdf[\"Change Group\"] = \"Unknown\"\n",
    "resultdf.loc[resultdf[0] == 0, 'Change Group'] = \"Decrease\"\n",
    "resultdf.loc[resultdf[0] == 1, 'Change Group'] = \"No Change\"\n",
    "resultdf.loc[resultdf[0] == 2, 'Change Group'] = \"Increase\""
   ]
  },
  {
   "cell_type": "code",
   "execution_count": 58,
   "id": "737df464-8718-47c5-9a76-986d6000e5f6",
   "metadata": {},
   "outputs": [
    {
     "data": {
      "text/plain": [
       "Text(0, 0.5, '')"
      ]
     },
     "execution_count": 58,
     "metadata": {},
     "output_type": "execute_result"
    },
    {
     "data": {
      "image/png": "[encoded data removed]",
      "text/plain": [
       "<Figure size 432x288 with 1 Axes>"
      ]
     },
     "metadata": {},
     "output_type": "display_data"
    }
   ],
   "source": [
    "ax = resultdf[\"Change Group\"].value_counts().plot.pie(autopct='%1.0f%%', title=\"Change Group\", legend=False)\n",
    "ax.set_ylabel('')"
   ]
  },
  {
   "cell_type": "code",
   "execution_count": 63,
   "id": "687f97b4-6089-48b5-a961-ca285f3889cf",
   "metadata": {},
   "outputs": [
    {
     "data": {
      "text/html": [
       "<div>\n",
       "<style scoped>\n",
       "    .dataframe tbody tr th:only-of-type {\n",
       "        vertical-align: middle;\n",
       "    }\n",
       "\n",
       "    .dataframe tbody tr th {\n",
       "        vertical-align: top;\n",
       "    }\n",
       "\n",
       "    .dataframe thead th {\n",
       "        text-align: right;\n",
       "    }\n",
       "</style>\n",
       "<table border=\"1\" class=\"dataframe\">\n",
       "  <thead>\n",
       "    <tr style=\"text-align: right;\">\n",
       "      <th></th>\n",
       "      <th>0_x</th>\n",
       "      <th>Change Group</th>\n",
       "      <th>0_y</th>\n",
       "    </tr>\n",
       "  </thead>\n",
       "  <tbody>\n",
       "    <tr>\n",
       "      <th>13</th>\n",
       "      <td>2</td>\n",
       "      <td>Increase</td>\n",
       "      <td>1</td>\n",
       "    </tr>\n",
       "    <tr>\n",
       "      <th>17</th>\n",
       "      <td>2</td>\n",
       "      <td>Increase</td>\n",
       "      <td>2</td>\n",
       "    </tr>\n",
       "    <tr>\n",
       "      <th>20</th>\n",
       "      <td>2</td>\n",
       "      <td>Increase</td>\n",
       "      <td>2</td>\n",
       "    </tr>\n",
       "    <tr>\n",
       "      <th>30</th>\n",
       "      <td>2</td>\n",
       "      <td>Increase</td>\n",
       "      <td>1</td>\n",
       "    </tr>\n",
       "    <tr>\n",
       "      <th>32</th>\n",
       "      <td>2</td>\n",
       "      <td>Increase</td>\n",
       "      <td>2</td>\n",
       "    </tr>\n",
       "    <tr>\n",
       "      <th>40</th>\n",
       "      <td>2</td>\n",
       "      <td>Increase</td>\n",
       "      <td>1</td>\n",
       "    </tr>\n",
       "    <tr>\n",
       "      <th>42</th>\n",
       "      <td>2</td>\n",
       "      <td>Increase</td>\n",
       "      <td>1</td>\n",
       "    </tr>\n",
       "    <tr>\n",
       "      <th>45</th>\n",
       "      <td>2</td>\n",
       "      <td>Increase</td>\n",
       "      <td>1</td>\n",
       "    </tr>\n",
       "    <tr>\n",
       "      <th>53</th>\n",
       "      <td>2</td>\n",
       "      <td>Increase</td>\n",
       "      <td>1</td>\n",
       "    </tr>\n",
       "    <tr>\n",
       "      <th>54</th>\n",
       "      <td>2</td>\n",
       "      <td>Increase</td>\n",
       "      <td>2</td>\n",
       "    </tr>\n",
       "    <tr>\n",
       "      <th>56</th>\n",
       "      <td>2</td>\n",
       "      <td>Increase</td>\n",
       "      <td>2</td>\n",
       "    </tr>\n",
       "    <tr>\n",
       "      <th>71</th>\n",
       "      <td>2</td>\n",
       "      <td>Increase</td>\n",
       "      <td>0</td>\n",
       "    </tr>\n",
       "    <tr>\n",
       "      <th>72</th>\n",
       "      <td>2</td>\n",
       "      <td>Increase</td>\n",
       "      <td>0</td>\n",
       "    </tr>\n",
       "    <tr>\n",
       "      <th>76</th>\n",
       "      <td>2</td>\n",
       "      <td>Increase</td>\n",
       "      <td>1</td>\n",
       "    </tr>\n",
       "    <tr>\n",
       "      <th>80</th>\n",
       "      <td>2</td>\n",
       "      <td>Increase</td>\n",
       "      <td>2</td>\n",
       "    </tr>\n",
       "    <tr>\n",
       "      <th>81</th>\n",
       "      <td>2</td>\n",
       "      <td>Increase</td>\n",
       "      <td>0</td>\n",
       "    </tr>\n",
       "    <tr>\n",
       "      <th>89</th>\n",
       "      <td>2</td>\n",
       "      <td>Increase</td>\n",
       "      <td>2</td>\n",
       "    </tr>\n",
       "  </tbody>\n",
       "</table>\n",
       "</div>"
      ],
      "text/plain": [
       "    0_x Change Group  0_y\n",
       "13    2     Increase    1\n",
       "17    2     Increase    2\n",
       "20    2     Increase    2\n",
       "30    2     Increase    1\n",
       "32    2     Increase    2\n",
       "40    2     Increase    1\n",
       "42    2     Increase    1\n",
       "45    2     Increase    1\n",
       "53    2     Increase    1\n",
       "54    2     Increase    2\n",
       "56    2     Increase    2\n",
       "71    2     Increase    0\n",
       "72    2     Increase    0\n",
       "76    2     Increase    1\n",
       "80    2     Increase    2\n",
       "81    2     Increase    0\n",
       "89    2     Increase    2"
      ]
     },
     "execution_count": 63,
     "metadata": {},
     "output_type": "execute_result"
    }
   ],
   "source": [
    "resultdf[resultdf[0] == 2].join(pd.DataFrame(y_test), lsuffix='_x', rsuffix='_y')"
   ]
  },
  {
   "cell_type": "code",
   "execution_count": null,
   "id": "b8b10538-f5eb-4274-87a0-c21144c2559a",
   "metadata": {},
   "outputs": [],
   "source": []
  },
  {
   "cell_type": "code",
   "execution_count": 64,
   "id": "a3ddf50c-f00a-43f0-a61c-5c1fbea7d77c",
   "metadata": {},
   "outputs": [],
   "source": [
    "seletbest = SelectKBest(k=100).fit(X_train, y_train.ravel())"
   ]
  },
  {
   "cell_type": "code",
   "execution_count": 65,
   "id": "84df2589-62c4-4790-a3fc-6197f1ffdf80",
   "metadata": {},
   "outputs": [],
   "source": [
    "X_trainnew = seletbest.transform(X_train)"
   ]
  },
  {
   "cell_type": "code",
   "execution_count": 66,
   "id": "e8c65b38-7989-4d30-b038-8277670eb6db",
   "metadata": {},
   "outputs": [],
   "source": [
    "X_testnew = seletbest.transform(X_test)"
   ]
  },
  {
   "cell_type": "code",
   "execution_count": 67,
   "id": "87a179ca-1a40-4d7a-a7eb-3f78c157bd8b",
   "metadata": {},
   "outputs": [],
   "source": [
    "X_validnew = seletbest.transform(X_valid)"
   ]
  },
  {
   "cell_type": "code",
   "execution_count": 71,
   "id": "2a0b2d1a-2b12-41f0-9241-9bda03fdd541",
   "metadata": {},
   "outputs": [],
   "source": [
    "model = keras.models.Sequential()\n",
    "model.add(keras.layers.InputLayer(input_shape=[100,]))\n",
    "model.add(keras.layers.Dense(300, activation=\"relu\"))\n",
    "model.add(keras.layers.Dense(100, activation=\"relu\"))\n",
    "model.add(keras.layers.Dense(3, activation=\"softmax\"))"
   ]
  },
  {
   "cell_type": "code",
   "execution_count": 72,
   "id": "c6d6a2af-0473-458b-a5fd-7de8c445b91f",
   "metadata": {},
   "outputs": [],
   "source": [
    "model.compile(loss=\"sparse_categorical_crossentropy\", optimizer=\"sgd\", metrics=[\"accuracy\"])"
   ]
  },
  {
   "cell_type": "code",
   "execution_count": 73,
   "id": "70bf430e-0c80-437f-bb5e-0ae3f1884c03",
   "metadata": {},
   "outputs": [
    {
     "name": "stdout",
     "output_type": "stream",
     "text": [
      "Epoch 1/30\n",
      "11/11 [==============================] - 1s 65ms/step - loss: 1.3280 - accuracy: 0.4207 - val_loss: 1.1908 - val_accuracy: 0.5364\n",
      "Epoch 2/30\n",
      "11/11 [==============================] - 0s 4ms/step - loss: 1.1129 - accuracy: 0.5610 - val_loss: 1.9216 - val_accuracy: 0.3000\n",
      "Epoch 3/30\n",
      "11/11 [==============================] - 0s 4ms/step - loss: 1.1622 - accuracy: 0.5152 - val_loss: 1.0534 - val_accuracy: 0.5727\n",
      "Epoch 4/30\n",
      "11/11 [==============================] - 0s 4ms/step - loss: 0.8901 - accuracy: 0.6677 - val_loss: 1.4701 - val_accuracy: 0.5636\n",
      "Epoch 5/30\n",
      "11/11 [==============================] - 0s 4ms/step - loss: 0.8983 - accuracy: 0.7012 - val_loss: 0.9969 - val_accuracy: 0.5818\n",
      "Epoch 6/30\n",
      "11/11 [==============================] - 0s 4ms/step - loss: 0.7873 - accuracy: 0.7165 - val_loss: 1.5738 - val_accuracy: 0.3818\n",
      "Epoch 7/30\n",
      "11/11 [==============================] - 0s 4ms/step - loss: 0.8571 - accuracy: 0.6982 - val_loss: 0.9812 - val_accuracy: 0.6182\n",
      "Epoch 8/30\n",
      "11/11 [==============================] - 0s 4ms/step - loss: 0.6859 - accuracy: 0.7683 - val_loss: 1.0525 - val_accuracy: 0.6091\n",
      "Epoch 9/30\n",
      "11/11 [==============================] - 0s 4ms/step - loss: 0.6920 - accuracy: 0.7683 - val_loss: 1.0321 - val_accuracy: 0.5909\n",
      "Epoch 10/30\n",
      "11/11 [==============================] - 0s 4ms/step - loss: 0.6292 - accuracy: 0.7988 - val_loss: 1.1235 - val_accuracy: 0.6182\n",
      "Epoch 11/30\n",
      "11/11 [==============================] - 0s 4ms/step - loss: 0.6071 - accuracy: 0.8049 - val_loss: 1.0369 - val_accuracy: 0.5909\n",
      "Epoch 12/30\n",
      "11/11 [==============================] - 0s 4ms/step - loss: 0.5809 - accuracy: 0.8201 - val_loss: 1.1200 - val_accuracy: 0.5909\n",
      "Epoch 13/30\n",
      "11/11 [==============================] - 0s 4ms/step - loss: 0.5762 - accuracy: 0.8079 - val_loss: 1.0511 - val_accuracy: 0.5909\n",
      "Epoch 14/30\n",
      "11/11 [==============================] - 0s 4ms/step - loss: 0.5452 - accuracy: 0.8415 - val_loss: 1.1911 - val_accuracy: 0.6000\n",
      "Epoch 15/30\n",
      "11/11 [==============================] - 0s 4ms/step - loss: 0.5408 - accuracy: 0.8079 - val_loss: 1.0493 - val_accuracy: 0.6000\n",
      "Epoch 16/30\n",
      "11/11 [==============================] - 0s 4ms/step - loss: 0.5135 - accuracy: 0.8476 - val_loss: 1.0926 - val_accuracy: 0.6091\n",
      "Epoch 17/30\n",
      "11/11 [==============================] - 0s 4ms/step - loss: 0.4893 - accuracy: 0.8476 - val_loss: 1.0963 - val_accuracy: 0.6000\n",
      "Epoch 18/30\n",
      "11/11 [==============================] - 0s 4ms/step - loss: 0.4776 - accuracy: 0.8476 - val_loss: 1.7554 - val_accuracy: 0.5727\n",
      "Epoch 19/30\n",
      "11/11 [==============================] - 0s 4ms/step - loss: 0.6212 - accuracy: 0.7927 - val_loss: 1.0831 - val_accuracy: 0.6000\n",
      "Epoch 20/30\n",
      "11/11 [==============================] - 0s 7ms/step - loss: 0.4514 - accuracy: 0.8720 - val_loss: 1.1584 - val_accuracy: 0.6273\n",
      "Epoch 21/30\n",
      "11/11 [==============================] - 0s 4ms/step - loss: 0.4347 - accuracy: 0.8811 - val_loss: 1.4741 - val_accuracy: 0.5909\n",
      "Epoch 22/30\n",
      "11/11 [==============================] - 0s 4ms/step - loss: 0.4397 - accuracy: 0.8720 - val_loss: 1.1822 - val_accuracy: 0.5727\n",
      "Epoch 23/30\n",
      "11/11 [==============================] - 0s 4ms/step - loss: 0.4313 - accuracy: 0.8780 - val_loss: 1.1303 - val_accuracy: 0.5909\n",
      "Epoch 24/30\n",
      "11/11 [==============================] - 0s 4ms/step - loss: 0.4003 - accuracy: 0.8994 - val_loss: 1.1567 - val_accuracy: 0.6000\n",
      "Epoch 25/30\n",
      "11/11 [==============================] - 0s 4ms/step - loss: 0.3857 - accuracy: 0.8963 - val_loss: 1.3067 - val_accuracy: 0.5909\n",
      "Epoch 26/30\n",
      "11/11 [==============================] - 0s 4ms/step - loss: 0.3731 - accuracy: 0.8963 - val_loss: 1.1780 - val_accuracy: 0.6182\n",
      "Epoch 27/30\n",
      "11/11 [==============================] - 0s 5ms/step - loss: 0.3652 - accuracy: 0.8933 - val_loss: 1.1606 - val_accuracy: 0.6000\n",
      "Epoch 28/30\n",
      "11/11 [==============================] - 0s 4ms/step - loss: 0.3608 - accuracy: 0.9146 - val_loss: 1.2115 - val_accuracy: 0.6273\n",
      "Epoch 29/30\n",
      "11/11 [==============================] - 0s 4ms/step - loss: 0.3445 - accuracy: 0.9116 - val_loss: 1.2881 - val_accuracy: 0.6182\n",
      "Epoch 30/30\n",
      "11/11 [==============================] - 0s 4ms/step - loss: 0.3353 - accuracy: 0.9146 - val_loss: 1.5238 - val_accuracy: 0.5727\n"
     ]
    }
   ],
   "source": [
    "run_logdir = get_run_logdir()\n",
    "tensorboard_cb = keras.callbacks.TensorBoard(run_logdir)\n",
    "history = model.fit(X_trainnew, y_train, epochs=30, validation_data=(X_validnew, y_valid), callbacks=[tensorboard_cb])"
   ]
  },
  {
   "cell_type": "code",
   "execution_count": 74,
   "id": "c22c0c98-d5e7-484e-bc82-4f653ce3a266",
   "metadata": {},
   "outputs": [
    {
     "data": {
      "image/png": "[encoded data removed]",
      "text/plain": [
       "<Figure size 576x360 with 1 Axes>"
      ]
     },
     "metadata": {
      "needs_background": "light"
     },
     "output_type": "display_data"
    }
   ],
   "source": [
    "pd.DataFrame(history.history).plot(figsize=(8,5))\n",
    "plt.grid(True)\n",
    "plt.gca().set_ylim(0,1)\n",
    "plt.show()"
   ]
  },
  {
   "cell_type": "code",
   "execution_count": 75,
   "id": "440502c1-2bde-4417-a672-79484b5d2b32",
   "metadata": {},
   "outputs": [
    {
     "name": "stdout",
     "output_type": "stream",
     "text": [
      "4/4 [==============================] - 0s 1ms/step - loss: 1.5535 - accuracy: 0.5872\n"
     ]
    },
    {
     "data": {
      "text/plain": [
       "[1.5535143613815308, 0.5871559381484985]"
      ]
     },
     "execution_count": 75,
     "metadata": {},
     "output_type": "execute_result"
    }
   ],
   "source": [
    "model.evaluate(X_testnew, y_test)"
   ]
  },
  {
   "cell_type": "code",
   "execution_count": null,
   "id": "fb54af61-751c-4084-99a6-74de0f41a6d8",
   "metadata": {},
   "outputs": [],
   "source": []
  }
 ],
 "metadata": {
  "kernelspec": {
   "display_name": "Python 3",
   "language": "python",
   "name": "python3"
  },
  "language_info": {
   "codemirror_mode": {
    "name": "ipython",
    "version": 3
   },
   "file_extension": ".py",
   "mimetype": "text/x-python",
   "name": "python",
   "nbconvert_exporter": "python",
   "pygments_lexer": "ipython3",
   "version": "3.9.5"
  }
 },
 "nbformat": 4,
 "nbformat_minor": 5
}
