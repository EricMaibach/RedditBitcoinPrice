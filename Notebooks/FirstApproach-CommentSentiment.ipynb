{
 "cells": [
  {
   "cell_type": "code",
   "execution_count": 2,
   "id": "06cffdd8-7c28-4ab5-bfdd-d12eaf9ac9e5",
   "metadata": {},
   "outputs": [],
   "source": [
    "import pandas as pd\n",
    "import numpy as np\n",
    "import datetime\n",
    "from sklearn.model_selection import train_test_split\n",
    "import matplotlib.pyplot as plt\n",
    "import os\n",
    "from tensorflow import keras\n",
    "import time\n",
    "import tensorflow as tf"
   ]
  },
  {
   "cell_type": "markdown",
   "id": "414d44b5-b384-4572-bd77-f9ad203bc78e",
   "metadata": {},
   "source": [
    "# Load Reddit comments"
   ]
  },
  {
   "cell_type": "code",
   "execution_count": 6,
   "id": "c3889320-22b4-431a-b5f3-4277350883e7",
   "metadata": {},
   "outputs": [],
   "source": [
    "li = []\n",
    "df1 = pd.read_csv('../Data/BitcoinSubredditComments/bitcoinsubreddit01.csv')\n",
    "li.append(df1)\n",
    "df2 = pd.read_csv('../Data/BitcoinSubredditComments/bitcoinsubreddit02.csv')\n",
    "li.append(df2)\n",
    "df3 = pd.read_csv('../Data/BitcoinSubredditComments/bitcoinsubreddit03.csv')\n",
    "li.append(df3)\n",
    "df4 = pd.read_csv('../Data/BitcoinSubredditComments/bitcoinsubreddit04.csv')\n",
    "li.append(df4)\n",
    "df5 = pd.read_csv('../Data/BitcoinSubredditComments/bitcoinsubreddit05.csv')\n",
    "li.append(df5)\n",
    "df6 = pd.read_csv('../Data/BitcoinSubredditComments/bitcoinsubreddit06.csv')\n",
    "li.append(df6)\n",
    "\n",
    "df = pd.concat(li, axis=0, ignore_index=True)"
   ]
  },
  {
   "cell_type": "code",
   "execution_count": 7,
   "id": "0d22a55d-ec2e-433f-ac55-5147c535ece4",
   "metadata": {},
   "outputs": [],
   "source": [
    "df[\"created_utc\"] = pd.to_datetime(df[\"created_utc\"],unit='s')"
   ]
  },
  {
   "cell_type": "code",
   "execution_count": 8,
   "id": "a3b1c07a-e0b4-4739-8fa8-9a930ba8154a",
   "metadata": {},
   "outputs": [],
   "source": [
    "df[\"retrieved_on\"] = pd.to_datetime(df[\"retrieved_on\"],unit='s')"
   ]
  },
  {
   "cell_type": "markdown",
   "id": "7e37e2e7-946b-4751-b15f-7a9b860618a0",
   "metadata": {},
   "source": [
    "# Load BitCoin price history"
   ]
  },
  {
   "cell_type": "code",
   "execution_count": 10,
   "id": "1a6225b1-7486-4303-8377-a5e676bd4de8",
   "metadata": {},
   "outputs": [],
   "source": [
    "dfprice = pd.read_csv('../Data/BitcoinPrice/bitcoinprice2020-21.csv')"
   ]
  },
  {
   "cell_type": "code",
   "execution_count": 11,
   "id": "774b8605-411c-48e3-8989-dc556dd8cbd5",
   "metadata": {},
   "outputs": [],
   "source": [
    "dfprice[\"Date\"] = pd.to_datetime(dfprice[\"Date\"], infer_datetime_format=True)  "
   ]
  },
  {
   "cell_type": "markdown",
   "id": "31c80085-d810-4c8f-a1e9-a0b2bc40bb9b",
   "metadata": {},
   "source": [
    "# Filter comments to correct date range and do necessary transformations"
   ]
  },
  {
   "cell_type": "code",
   "execution_count": 12,
   "id": "e5e34298-741a-4ee9-aefd-5e74e74041bd",
   "metadata": {},
   "outputs": [],
   "source": [
    "dfjune = df[df[\"created_utc\"] >= '02/01/2021']"
   ]
  },
  {
   "cell_type": "code",
   "execution_count": 13,
   "id": "fc8eff0c-1a79-49e5-a584-a1208b83907e",
   "metadata": {},
   "outputs": [],
   "source": [
    "dfjune = dfjune[dfjune[\"created_utc\"] < '07/01/2021']"
   ]
  },
  {
   "cell_type": "code",
   "execution_count": 14,
   "id": "2d2577d4-4021-4516-9312-eb507dfaa86b",
   "metadata": {},
   "outputs": [],
   "source": [
    "dfjune[\"created_utc\"] = pd.to_datetime(dfjune[\"created_utc\"].dt.date)"
   ]
  },
  {
   "cell_type": "code",
   "execution_count": 15,
   "id": "bdb710dd-9a87-4db1-8720-5b99bcbe6a9d",
   "metadata": {},
   "outputs": [],
   "source": [
    "dfjune[\"author_premium\"] = dfjune[\"author_premium\"].astype(int)"
   ]
  },
  {
   "cell_type": "code",
   "execution_count": 16,
   "id": "0cdb4d1c-7c7c-4b94-b916-b35cdda9e6f7",
   "metadata": {},
   "outputs": [],
   "source": [
    "dfjune[\"locked\"] = dfjune[\"locked\"].astype(int)"
   ]
  },
  {
   "cell_type": "code",
   "execution_count": 17,
   "id": "0bd82c45-b1b3-4ebb-bc35-7e77d0b07e09",
   "metadata": {},
   "outputs": [],
   "source": [
    "dfjune[\"no_follow\"] = dfjune[\"no_follow\"].astype(int)"
   ]
  },
  {
   "cell_type": "code",
   "execution_count": 18,
   "id": "510cd150-7559-4b6e-8b8b-a4340b0a6006",
   "metadata": {},
   "outputs": [],
   "source": [
    "dfjune[\"quarantined\"] = dfjune[\"quarantined\"].astype(int)"
   ]
  },
  {
   "cell_type": "markdown",
   "id": "9d697819-bb48-4e02-bdde-d69903854875",
   "metadata": {},
   "source": [
    "# Filter BitCoin price data to appropriate data range"
   ]
  },
  {
   "cell_type": "code",
   "execution_count": 19,
   "id": "f95302a1-c388-4cee-ac4f-cb52c590897c",
   "metadata": {},
   "outputs": [],
   "source": [
    "dfpricejune = dfprice[dfprice[\"Date\"] >= '02/01/2021']"
   ]
  },
  {
   "cell_type": "code",
   "execution_count": 20,
   "id": "808d800f-7d98-490b-a622-bfc9b8421d73",
   "metadata": {},
   "outputs": [],
   "source": [
    "dfpricejune = dfpricejune[dfpricejune[\"Date\"] < '07/01/2021']"
   ]
  },
  {
   "cell_type": "markdown",
   "id": "0299d964-2823-446b-ad9c-3928b31221c8",
   "metadata": {},
   "source": [
    "# Filter out invalid comments"
   ]
  },
  {
   "cell_type": "code",
   "execution_count": 21,
   "id": "a3fa028c-f5d2-4837-a56d-3f9502cb01d2",
   "metadata": {},
   "outputs": [],
   "source": [
    "dfjunevalidcomments = dfjune[dfjune['body'] != \"[removed]\"]"
   ]
  },
  {
   "cell_type": "code",
   "execution_count": 22,
   "id": "377cfcef-4b4e-417d-b788-858db1904afe",
   "metadata": {},
   "outputs": [],
   "source": [
    "dfjunevalidcomments = dfjunevalidcomments[dfjunevalidcomments['body'] != \"[deleted]\"]"
   ]
  },
  {
   "cell_type": "markdown",
   "id": "1e95599e-f5db-466d-b174-acd7949091f6",
   "metadata": {},
   "source": [
    "# Get comment sentiment for each day (Skip this, go to Load Saved Sentiments)\n",
    "## First get a sampleof 165 comments from each day"
   ]
  },
  {
   "cell_type": "code",
   "execution_count": 89,
   "id": "7ba6f02d-5467-4ba2-bd28-c9b495ce1caf",
   "metadata": {},
   "outputs": [],
   "source": [
    "currentday = datetime.datetime(2021,2,1)\n",
    "\n",
    "li = []\n",
    "num = 28\n",
    "for x in range(num):\n",
    "    dfjuneday = dfjunevalidcomments[dfjunevalidcomments[\"created_utc\"] == currentday].sample(n=165)\n",
    "    li.append(dfjuneday)\n",
    "    currentday = currentday + datetime.timedelta(days=1)\n",
    "    \n",
    "dfjunesample = pd.concat(li, axis=0, ignore_index=True)"
   ]
  },
  {
   "cell_type": "markdown",
   "id": "1e07535d-518f-4969-bde1-433a288b3edd",
   "metadata": {},
   "source": [
    "## Trim comments to 5,120 characters\n",
    "\n",
    "The service being used to get comment sentiment can only accept strings up to 5,120 characters so we need to trim any comments longer than that."
   ]
  },
  {
   "cell_type": "code",
   "execution_count": 90,
   "id": "33c0faf3-a891-41c4-a18e-648efc098308",
   "metadata": {},
   "outputs": [],
   "source": [
    "dfjunesample[\"body\"] = dfjunesample[\"body\"].str.slice(0,5120)"
   ]
  },
  {
   "cell_type": "markdown",
   "id": "b8da18d4-ec48-4e0f-a3de-3d21676afacc",
   "metadata": {},
   "source": [
    "## Set the sentiment field to 'Not Set'\n",
    "\n",
    "Sometimes getting sentiments has to be done in batches, this allows us to track which comments we have already gotten the sentiment for."
   ]
  },
  {
   "cell_type": "code",
   "execution_count": 91,
   "id": "ea7de293-764e-4b16-b8aa-130ab7e75d69",
   "metadata": {},
   "outputs": [],
   "source": [
    "dfjunesample[\"sentiment\"] = \"Not Set\""
   ]
  },
  {
   "cell_type": "markdown",
   "id": "89512f54-8933-466b-9bb9-09cb882ce414",
   "metadata": {},
   "source": [
    "## Setup method for getting sentiment"
   ]
  },
  {
   "cell_type": "code",
   "execution_count": 92,
   "id": "b71b1cf0-8985-44ce-8e67-8c13fb740d97",
   "metadata": {},
   "outputs": [],
   "source": [
    "key = \"{enter key here}\""
   ]
  },
  {
   "cell_type": "code",
   "execution_count": 93,
   "id": "b2a054f5-bfba-4236-ab7e-c7fd0174aa8c",
   "metadata": {},
   "outputs": [],
   "source": [
    "endpoint = \"https://masterssentiment.cognitiveservices.azure.com/\""
   ]
  },
  {
   "cell_type": "code",
   "execution_count": 94,
   "id": "3dc1e93e-98ca-4d17-8890-df4dc32fd9f0",
   "metadata": {},
   "outputs": [],
   "source": [
    "from azure.ai.textanalytics import TextAnalyticsClient\n",
    "from azure.core.credentials import AzureKeyCredential\n",
    "\n",
    "def authenticate_client():\n",
    "    ta_credential = AzureKeyCredential(key)\n",
    "    text_analytics_client = TextAnalyticsClient(\n",
    "            endpoint=endpoint, \n",
    "            credential=ta_credential)\n",
    "    return text_analytics_client\n",
    "\n",
    "client = authenticate_client()"
   ]
  },
  {
   "cell_type": "code",
   "execution_count": 110,
   "id": "e7aa5fa5-7662-4586-b02b-793b3ab3e352",
   "metadata": {},
   "outputs": [
    {
     "data": {
      "text/html": [
       "<div>\n",
       "<style scoped>\n",
       "    .dataframe tbody tr th:only-of-type {\n",
       "        vertical-align: middle;\n",
       "    }\n",
       "\n",
       "    .dataframe tbody tr th {\n",
       "        vertical-align: top;\n",
       "    }\n",
       "\n",
       "    .dataframe thead th {\n",
       "        text-align: right;\n",
       "    }\n",
       "</style>\n",
       "<table border=\"1\" class=\"dataframe\">\n",
       "  <thead>\n",
       "    <tr style=\"text-align: right;\">\n",
       "      <th></th>\n",
       "      <th>author_premium</th>\n",
       "      <th>body</th>\n",
       "      <th>controversiality</th>\n",
       "      <th>created_utc</th>\n",
       "      <th>distinguished</th>\n",
       "      <th>id</th>\n",
       "      <th>locked</th>\n",
       "      <th>no_follow</th>\n",
       "      <th>parent_id</th>\n",
       "      <th>quarantined</th>\n",
       "      <th>removal_reason</th>\n",
       "      <th>retrieved_on</th>\n",
       "      <th>score</th>\n",
       "      <th>subreddit</th>\n",
       "      <th>sentiment</th>\n",
       "    </tr>\n",
       "  </thead>\n",
       "  <tbody>\n",
       "  </tbody>\n",
       "</table>\n",
       "</div>"
      ],
      "text/plain": [
       "Empty DataFrame\n",
       "Columns: [author_premium, body, controversiality, created_utc, distinguished, id, locked, no_follow, parent_id, quarantined, removal_reason, retrieved_on, score, subreddit, sentiment]\n",
       "Index: []"
      ]
     },
     "execution_count": 110,
     "metadata": {},
     "output_type": "execute_result"
    }
   ],
   "source": [
    "dfjunesample[dfjunesample[\"sentiment\"] == \"Not Set\"]"
   ]
  },
  {
   "cell_type": "markdown",
   "id": "6e7986ca-3597-468d-82e3-e5a3a2bd6800",
   "metadata": {},
   "source": [
    "## Get the sentiment for the comments"
   ]
  },
  {
   "cell_type": "code",
   "execution_count": 109,
   "id": "2ac2baaa-a407-4b4d-ba69-d2a8537dc5d2",
   "metadata": {},
   "outputs": [],
   "source": [
    "for i in dfjunesample[dfjunesample[\"sentiment\"] == \"Not Set\"].head(800).index:\n",
    "    print(i)\n",
    "    docs = dfjunesample.iloc[i][[\"body\"]].values.tolist()\n",
    "    response = client.analyze_sentiment(documents=docs)\n",
    "    for r in response:\n",
    "        dfjunesample.at[i, \"sentiment\"] = r.sentiment"
   ]
  },
  {
   "cell_type": "markdown",
   "id": "bf2ce541-2eaf-4cb4-b3fe-66d1709c7bc3",
   "metadata": {},
   "source": [
    "## Create a separate field to count each sentiment"
   ]
  },
  {
   "cell_type": "code",
   "execution_count": 15,
   "id": "47d74ab5-2171-40a0-868c-534f3b7600a2",
   "metadata": {},
   "outputs": [],
   "source": [
    "dfjunesample[\"PositiveSentiment\"] = np.where(dfjunesample[\"sentiment\"] == \"positive\", 1, 0)"
   ]
  },
  {
   "cell_type": "code",
   "execution_count": 16,
   "id": "5fd624d7-74a6-4b4f-a388-7ba5c95f0e9d",
   "metadata": {},
   "outputs": [],
   "source": [
    "dfjunesample[\"MixedSentiment\"] = np.where(dfjunesample[\"sentiment\"] == \"mixed\", 1, 0)"
   ]
  },
  {
   "cell_type": "code",
   "execution_count": 17,
   "id": "985950bf-c94f-4a53-96d5-05195f1437e3",
   "metadata": {},
   "outputs": [],
   "source": [
    "dfjunesample[\"NeutralSentiment\"] = np.where(dfjunesample[\"sentiment\"] == \"neutral\", 1, 0)"
   ]
  },
  {
   "cell_type": "code",
   "execution_count": 18,
   "id": "b172e748-fe56-4fe9-8ec7-9a9ba6fd16e5",
   "metadata": {},
   "outputs": [],
   "source": [
    "dfjunesample[\"NegativeSentiment\"] = np.where(dfjunesample[\"sentiment\"] == \"negative\", 1, 0)"
   ]
  },
  {
   "cell_type": "markdown",
   "id": "3369d3c4-a910-401d-8be9-e77aa59a7543",
   "metadata": {},
   "source": [
    "## Save the comment sentiments\n",
    "There is a cost involved in getting comment sentiments, so after getting the first time, save them."
   ]
  },
  {
   "cell_type": "code",
   "execution_count": 120,
   "id": "1e5835ca-63be-4294-b04a-576fe7a6a68e",
   "metadata": {},
   "outputs": [],
   "source": [
    "dfjunesample.to_csv(\"commentsentiment.csv\")"
   ]
  },
  {
   "cell_type": "markdown",
   "id": "0bbf2307-373a-473c-b46e-f89d159ad083",
   "metadata": {},
   "source": [
    "## Load saved sentiments\n",
    "When repeating this script this is where you should start"
   ]
  },
  {
   "cell_type": "code",
   "execution_count": 23,
   "id": "bccf6849-6c97-404c-aee4-daad0c81cbba",
   "metadata": {},
   "outputs": [],
   "source": [
    "dfcommsent = pd.read_csv(\"../Data/RedditCommentSentiment/commentsentiment.csv\")"
   ]
  },
  {
   "cell_type": "code",
   "execution_count": 24,
   "id": "5b0dfab4-fb1e-47f0-a8bd-3a0982623a6f",
   "metadata": {},
   "outputs": [],
   "source": [
    "dfcommsent[\"created_utc\"] = pd.to_datetime(dfcommsent[\"created_utc\"], infer_datetime_format=True) "
   ]
  },
  {
   "cell_type": "code",
   "execution_count": 25,
   "id": "c8834262-31d8-4fd4-8df6-edbff2f07bc7",
   "metadata": {},
   "outputs": [
    {
     "data": {
      "text/html": [
       "<div>\n",
       "<style scoped>\n",
       "    .dataframe tbody tr th:only-of-type {\n",
       "        vertical-align: middle;\n",
       "    }\n",
       "\n",
       "    .dataframe tbody tr th {\n",
       "        vertical-align: top;\n",
       "    }\n",
       "\n",
       "    .dataframe thead th {\n",
       "        text-align: right;\n",
       "    }\n",
       "</style>\n",
       "<table border=\"1\" class=\"dataframe\">\n",
       "  <thead>\n",
       "    <tr style=\"text-align: right;\">\n",
       "      <th></th>\n",
       "      <th>Unnamed: 0</th>\n",
       "      <th>Unnamed: 0.1</th>\n",
       "      <th>author_premium</th>\n",
       "      <th>body</th>\n",
       "      <th>controversiality</th>\n",
       "      <th>created_utc</th>\n",
       "      <th>distinguished</th>\n",
       "      <th>id</th>\n",
       "      <th>locked</th>\n",
       "      <th>no_follow</th>\n",
       "      <th>...</th>\n",
       "      <th>NeutralSentiment</th>\n",
       "      <th>NegativeSentiment</th>\n",
       "      <th>Unnamed: 0.1.1</th>\n",
       "      <th>Unnamed: 0.1.1.1</th>\n",
       "      <th>Unnamed: 0.1.1.1.1</th>\n",
       "      <th>Unnamed: 0.1.1.1.1.1</th>\n",
       "      <th>Unnamed: 0.1.1.1.1.1.1</th>\n",
       "      <th>Unnamed: 0.1.1.1.1.1.1.1</th>\n",
       "      <th>Unnamed: 0.1.1.1.1.1.1.1.1</th>\n",
       "      <th>Unnamed: 0.1.1.1.1.1.1.1.1.1</th>\n",
       "    </tr>\n",
       "  </thead>\n",
       "  <tbody>\n",
       "    <tr>\n",
       "      <th>0</th>\n",
       "      <td>0</td>\n",
       "      <td>0</td>\n",
       "      <td>0</td>\n",
       "      <td>oh, you know why they want to know.</td>\n",
       "      <td>0</td>\n",
       "      <td>2021-02-01</td>\n",
       "      <td>NaN</td>\n",
       "      <td>glkajf5</td>\n",
       "      <td>0</td>\n",
       "      <td>1</td>\n",
       "      <td>...</td>\n",
       "      <td>1</td>\n",
       "      <td>0</td>\n",
       "      <td>NaN</td>\n",
       "      <td>NaN</td>\n",
       "      <td>NaN</td>\n",
       "      <td>NaN</td>\n",
       "      <td>NaN</td>\n",
       "      <td>NaN</td>\n",
       "      <td>NaN</td>\n",
       "      <td>NaN</td>\n",
       "    </tr>\n",
       "    <tr>\n",
       "      <th>1</th>\n",
       "      <td>1</td>\n",
       "      <td>1</td>\n",
       "      <td>0</td>\n",
       "      <td>lmao this is great</td>\n",
       "      <td>0</td>\n",
       "      <td>2021-02-01</td>\n",
       "      <td>NaN</td>\n",
       "      <td>glm0x2k</td>\n",
       "      <td>0</td>\n",
       "      <td>0</td>\n",
       "      <td>...</td>\n",
       "      <td>0</td>\n",
       "      <td>0</td>\n",
       "      <td>NaN</td>\n",
       "      <td>NaN</td>\n",
       "      <td>NaN</td>\n",
       "      <td>NaN</td>\n",
       "      <td>NaN</td>\n",
       "      <td>NaN</td>\n",
       "      <td>NaN</td>\n",
       "      <td>NaN</td>\n",
       "    </tr>\n",
       "    <tr>\n",
       "      <th>2</th>\n",
       "      <td>2</td>\n",
       "      <td>2</td>\n",
       "      <td>0</td>\n",
       "      <td>Goosebump.</td>\n",
       "      <td>0</td>\n",
       "      <td>2021-02-01</td>\n",
       "      <td>NaN</td>\n",
       "      <td>glmw4xr</td>\n",
       "      <td>0</td>\n",
       "      <td>0</td>\n",
       "      <td>...</td>\n",
       "      <td>1</td>\n",
       "      <td>0</td>\n",
       "      <td>NaN</td>\n",
       "      <td>NaN</td>\n",
       "      <td>NaN</td>\n",
       "      <td>NaN</td>\n",
       "      <td>NaN</td>\n",
       "      <td>NaN</td>\n",
       "      <td>NaN</td>\n",
       "      <td>NaN</td>\n",
       "    </tr>\n",
       "    <tr>\n",
       "      <th>3</th>\n",
       "      <td>3</td>\n",
       "      <td>3</td>\n",
       "      <td>0</td>\n",
       "      <td>just the gay mods</td>\n",
       "      <td>0</td>\n",
       "      <td>2021-02-01</td>\n",
       "      <td>NaN</td>\n",
       "      <td>glnpl7y</td>\n",
       "      <td>0</td>\n",
       "      <td>0</td>\n",
       "      <td>...</td>\n",
       "      <td>0</td>\n",
       "      <td>0</td>\n",
       "      <td>NaN</td>\n",
       "      <td>NaN</td>\n",
       "      <td>NaN</td>\n",
       "      <td>NaN</td>\n",
       "      <td>NaN</td>\n",
       "      <td>NaN</td>\n",
       "      <td>NaN</td>\n",
       "      <td>NaN</td>\n",
       "    </tr>\n",
       "    <tr>\n",
       "      <th>4</th>\n",
       "      <td>4</td>\n",
       "      <td>4</td>\n",
       "      <td>1</td>\n",
       "      <td>If you look at the trend of the price right no...</td>\n",
       "      <td>0</td>\n",
       "      <td>2021-02-01</td>\n",
       "      <td>NaN</td>\n",
       "      <td>glktbrz</td>\n",
       "      <td>0</td>\n",
       "      <td>1</td>\n",
       "      <td>...</td>\n",
       "      <td>1</td>\n",
       "      <td>0</td>\n",
       "      <td>NaN</td>\n",
       "      <td>NaN</td>\n",
       "      <td>NaN</td>\n",
       "      <td>NaN</td>\n",
       "      <td>NaN</td>\n",
       "      <td>NaN</td>\n",
       "      <td>NaN</td>\n",
       "      <td>NaN</td>\n",
       "    </tr>\n",
       "    <tr>\n",
       "      <th>...</th>\n",
       "      <td>...</td>\n",
       "      <td>...</td>\n",
       "      <td>...</td>\n",
       "      <td>...</td>\n",
       "      <td>...</td>\n",
       "      <td>...</td>\n",
       "      <td>...</td>\n",
       "      <td>...</td>\n",
       "      <td>...</td>\n",
       "      <td>...</td>\n",
       "      <td>...</td>\n",
       "      <td>...</td>\n",
       "      <td>...</td>\n",
       "      <td>...</td>\n",
       "      <td>...</td>\n",
       "      <td>...</td>\n",
       "      <td>...</td>\n",
       "      <td>...</td>\n",
       "      <td>...</td>\n",
       "      <td>...</td>\n",
       "      <td>...</td>\n",
       "    </tr>\n",
       "    <tr>\n",
       "      <th>24745</th>\n",
       "      <td>24745</td>\n",
       "      <td>20125</td>\n",
       "      <td>0</td>\n",
       "      <td>What a cracker, thanks.\\n\\nWell worth the read...</td>\n",
       "      <td>0</td>\n",
       "      <td>2021-06-30</td>\n",
       "      <td>NaN</td>\n",
       "      <td>h3ioicu</td>\n",
       "      <td>0</td>\n",
       "      <td>1</td>\n",
       "      <td>...</td>\n",
       "      <td>0</td>\n",
       "      <td>0</td>\n",
       "      <td>15010.0</td>\n",
       "      <td>10060.0</td>\n",
       "      <td>4945.0</td>\n",
       "      <td>4945.0</td>\n",
       "      <td>4945.0</td>\n",
       "      <td>NaN</td>\n",
       "      <td>NaN</td>\n",
       "      <td>NaN</td>\n",
       "    </tr>\n",
       "    <tr>\n",
       "      <th>24746</th>\n",
       "      <td>24746</td>\n",
       "      <td>20126</td>\n",
       "      <td>0</td>\n",
       "      <td>Right, those restrictions are only for direct ...</td>\n",
       "      <td>0</td>\n",
       "      <td>2021-06-30</td>\n",
       "      <td>NaN</td>\n",
       "      <td>h3k6jj6</td>\n",
       "      <td>0</td>\n",
       "      <td>0</td>\n",
       "      <td>...</td>\n",
       "      <td>0</td>\n",
       "      <td>1</td>\n",
       "      <td>15011.0</td>\n",
       "      <td>10061.0</td>\n",
       "      <td>4946.0</td>\n",
       "      <td>4946.0</td>\n",
       "      <td>4946.0</td>\n",
       "      <td>NaN</td>\n",
       "      <td>NaN</td>\n",
       "      <td>NaN</td>\n",
       "    </tr>\n",
       "    <tr>\n",
       "      <th>24747</th>\n",
       "      <td>24747</td>\n",
       "      <td>20127</td>\n",
       "      <td>0</td>\n",
       "      <td>Oh it's so true, and it's gambling short term ...</td>\n",
       "      <td>0</td>\n",
       "      <td>2021-06-30</td>\n",
       "      <td>NaN</td>\n",
       "      <td>h3iypnx</td>\n",
       "      <td>0</td>\n",
       "      <td>1</td>\n",
       "      <td>...</td>\n",
       "      <td>0</td>\n",
       "      <td>0</td>\n",
       "      <td>15012.0</td>\n",
       "      <td>10062.0</td>\n",
       "      <td>4947.0</td>\n",
       "      <td>4947.0</td>\n",
       "      <td>4947.0</td>\n",
       "      <td>NaN</td>\n",
       "      <td>NaN</td>\n",
       "      <td>NaN</td>\n",
       "    </tr>\n",
       "    <tr>\n",
       "      <th>24748</th>\n",
       "      <td>24748</td>\n",
       "      <td>20128</td>\n",
       "      <td>0</td>\n",
       "      <td>Why aren't we doing this with Niagara Falls?</td>\n",
       "      <td>0</td>\n",
       "      <td>2021-06-30</td>\n",
       "      <td>NaN</td>\n",
       "      <td>h3ja80z</td>\n",
       "      <td>0</td>\n",
       "      <td>0</td>\n",
       "      <td>...</td>\n",
       "      <td>0</td>\n",
       "      <td>1</td>\n",
       "      <td>15013.0</td>\n",
       "      <td>10063.0</td>\n",
       "      <td>4948.0</td>\n",
       "      <td>4948.0</td>\n",
       "      <td>4948.0</td>\n",
       "      <td>NaN</td>\n",
       "      <td>NaN</td>\n",
       "      <td>NaN</td>\n",
       "    </tr>\n",
       "    <tr>\n",
       "      <th>24749</th>\n",
       "      <td>24749</td>\n",
       "      <td>20129</td>\n",
       "      <td>1</td>\n",
       "      <td>That's.... why it's legal. Someone lobbied for...</td>\n",
       "      <td>0</td>\n",
       "      <td>2021-06-30</td>\n",
       "      <td>NaN</td>\n",
       "      <td>h3m61n4</td>\n",
       "      <td>0</td>\n",
       "      <td>0</td>\n",
       "      <td>...</td>\n",
       "      <td>1</td>\n",
       "      <td>0</td>\n",
       "      <td>15014.0</td>\n",
       "      <td>10064.0</td>\n",
       "      <td>4949.0</td>\n",
       "      <td>4949.0</td>\n",
       "      <td>4949.0</td>\n",
       "      <td>NaN</td>\n",
       "      <td>NaN</td>\n",
       "      <td>NaN</td>\n",
       "    </tr>\n",
       "  </tbody>\n",
       "</table>\n",
       "<p>24750 rows × 29 columns</p>\n",
       "</div>"
      ],
      "text/plain": [
       "       Unnamed: 0  Unnamed: 0.1  author_premium  \\\n",
       "0               0             0               0   \n",
       "1               1             1               0   \n",
       "2               2             2               0   \n",
       "3               3             3               0   \n",
       "4               4             4               1   \n",
       "...           ...           ...             ...   \n",
       "24745       24745         20125               0   \n",
       "24746       24746         20126               0   \n",
       "24747       24747         20127               0   \n",
       "24748       24748         20128               0   \n",
       "24749       24749         20129               1   \n",
       "\n",
       "                                                    body  controversiality  \\\n",
       "0                    oh, you know why they want to know.                 0   \n",
       "1                                     lmao this is great                 0   \n",
       "2                                             Goosebump.                 0   \n",
       "3                                      just the gay mods                 0   \n",
       "4      If you look at the trend of the price right no...                 0   \n",
       "...                                                  ...               ...   \n",
       "24745  What a cracker, thanks.\\n\\nWell worth the read...                 0   \n",
       "24746  Right, those restrictions are only for direct ...                 0   \n",
       "24747  Oh it's so true, and it's gambling short term ...                 0   \n",
       "24748       Why aren't we doing this with Niagara Falls?                 0   \n",
       "24749  That's.... why it's legal. Someone lobbied for...                 0   \n",
       "\n",
       "      created_utc distinguished       id  locked  no_follow  ...  \\\n",
       "0      2021-02-01           NaN  glkajf5       0          1  ...   \n",
       "1      2021-02-01           NaN  glm0x2k       0          0  ...   \n",
       "2      2021-02-01           NaN  glmw4xr       0          0  ...   \n",
       "3      2021-02-01           NaN  glnpl7y       0          0  ...   \n",
       "4      2021-02-01           NaN  glktbrz       0          1  ...   \n",
       "...           ...           ...      ...     ...        ...  ...   \n",
       "24745  2021-06-30           NaN  h3ioicu       0          1  ...   \n",
       "24746  2021-06-30           NaN  h3k6jj6       0          0  ...   \n",
       "24747  2021-06-30           NaN  h3iypnx       0          1  ...   \n",
       "24748  2021-06-30           NaN  h3ja80z       0          0  ...   \n",
       "24749  2021-06-30           NaN  h3m61n4       0          0  ...   \n",
       "\n",
       "      NeutralSentiment  NegativeSentiment  Unnamed: 0.1.1 Unnamed: 0.1.1.1  \\\n",
       "0                    1                  0             NaN              NaN   \n",
       "1                    0                  0             NaN              NaN   \n",
       "2                    1                  0             NaN              NaN   \n",
       "3                    0                  0             NaN              NaN   \n",
       "4                    1                  0             NaN              NaN   \n",
       "...                ...                ...             ...              ...   \n",
       "24745                0                  0         15010.0          10060.0   \n",
       "24746                0                  1         15011.0          10061.0   \n",
       "24747                0                  0         15012.0          10062.0   \n",
       "24748                0                  1         15013.0          10063.0   \n",
       "24749                1                  0         15014.0          10064.0   \n",
       "\n",
       "       Unnamed: 0.1.1.1.1 Unnamed: 0.1.1.1.1.1 Unnamed: 0.1.1.1.1.1.1  \\\n",
       "0                     NaN                  NaN                    NaN   \n",
       "1                     NaN                  NaN                    NaN   \n",
       "2                     NaN                  NaN                    NaN   \n",
       "3                     NaN                  NaN                    NaN   \n",
       "4                     NaN                  NaN                    NaN   \n",
       "...                   ...                  ...                    ...   \n",
       "24745              4945.0               4945.0                 4945.0   \n",
       "24746              4946.0               4946.0                 4946.0   \n",
       "24747              4947.0               4947.0                 4947.0   \n",
       "24748              4948.0               4948.0                 4948.0   \n",
       "24749              4949.0               4949.0                 4949.0   \n",
       "\n",
       "       Unnamed: 0.1.1.1.1.1.1.1  Unnamed: 0.1.1.1.1.1.1.1.1  \\\n",
       "0                           NaN                         NaN   \n",
       "1                           NaN                         NaN   \n",
       "2                           NaN                         NaN   \n",
       "3                           NaN                         NaN   \n",
       "4                           NaN                         NaN   \n",
       "...                         ...                         ...   \n",
       "24745                       NaN                         NaN   \n",
       "24746                       NaN                         NaN   \n",
       "24747                       NaN                         NaN   \n",
       "24748                       NaN                         NaN   \n",
       "24749                       NaN                         NaN   \n",
       "\n",
       "       Unnamed: 0.1.1.1.1.1.1.1.1.1  \n",
       "0                               NaN  \n",
       "1                               NaN  \n",
       "2                               NaN  \n",
       "3                               NaN  \n",
       "4                               NaN  \n",
       "...                             ...  \n",
       "24745                           NaN  \n",
       "24746                           NaN  \n",
       "24747                           NaN  \n",
       "24748                           NaN  \n",
       "24749                           NaN  \n",
       "\n",
       "[24750 rows x 29 columns]"
      ]
     },
     "execution_count": 25,
     "metadata": {},
     "output_type": "execute_result"
    }
   ],
   "source": [
    "dfcommsent"
   ]
  },
  {
   "cell_type": "markdown",
   "id": "5c28f438-a905-49b5-9827-9f1eb100fc78",
   "metadata": {},
   "source": [
    "# Get comment aggregations by day"
   ]
  },
  {
   "cell_type": "code",
   "execution_count": 21,
   "id": "021cb6e6-0330-47e7-a409-4c477d03b177",
   "metadata": {},
   "outputs": [
    {
     "data": {
      "text/html": [
       "<div>\n",
       "<style scoped>\n",
       "    .dataframe tbody tr th:only-of-type {\n",
       "        vertical-align: middle;\n",
       "    }\n",
       "\n",
       "    .dataframe tbody tr th {\n",
       "        vertical-align: top;\n",
       "    }\n",
       "\n",
       "    .dataframe thead th {\n",
       "        text-align: right;\n",
       "    }\n",
       "</style>\n",
       "<table border=\"1\" class=\"dataframe\">\n",
       "  <thead>\n",
       "    <tr style=\"text-align: right;\">\n",
       "      <th></th>\n",
       "      <th>author_premium</th>\n",
       "      <th>controversiality</th>\n",
       "      <th>locked</th>\n",
       "      <th>no_follow</th>\n",
       "      <th>quarantined</th>\n",
       "      <th>removal_reason</th>\n",
       "      <th>score</th>\n",
       "    </tr>\n",
       "  </thead>\n",
       "  <tbody>\n",
       "    <tr>\n",
       "      <th>count</th>\n",
       "      <td>1.296999e+06</td>\n",
       "      <td>1.296999e+06</td>\n",
       "      <td>1.296999e+06</td>\n",
       "      <td>1.296999e+06</td>\n",
       "      <td>1296999.0</td>\n",
       "      <td>0.0</td>\n",
       "      <td>1.296999e+06</td>\n",
       "    </tr>\n",
       "    <tr>\n",
       "      <th>mean</th>\n",
       "      <td>4.496380e-02</td>\n",
       "      <td>2.010025e-02</td>\n",
       "      <td>3.315346e-05</td>\n",
       "      <td>6.914385e-01</td>\n",
       "      <td>0.0</td>\n",
       "      <td>NaN</td>\n",
       "      <td>3.651674e+00</td>\n",
       "    </tr>\n",
       "    <tr>\n",
       "      <th>std</th>\n",
       "      <td>2.072247e-01</td>\n",
       "      <td>1.403433e-01</td>\n",
       "      <td>5.757811e-03</td>\n",
       "      <td>4.618999e-01</td>\n",
       "      <td>0.0</td>\n",
       "      <td>NaN</td>\n",
       "      <td>2.161691e+01</td>\n",
       "    </tr>\n",
       "    <tr>\n",
       "      <th>min</th>\n",
       "      <td>0.000000e+00</td>\n",
       "      <td>0.000000e+00</td>\n",
       "      <td>0.000000e+00</td>\n",
       "      <td>0.000000e+00</td>\n",
       "      <td>0.0</td>\n",
       "      <td>NaN</td>\n",
       "      <td>-1.520000e+02</td>\n",
       "    </tr>\n",
       "    <tr>\n",
       "      <th>25%</th>\n",
       "      <td>0.000000e+00</td>\n",
       "      <td>0.000000e+00</td>\n",
       "      <td>0.000000e+00</td>\n",
       "      <td>0.000000e+00</td>\n",
       "      <td>0.0</td>\n",
       "      <td>NaN</td>\n",
       "      <td>1.000000e+00</td>\n",
       "    </tr>\n",
       "    <tr>\n",
       "      <th>50%</th>\n",
       "      <td>0.000000e+00</td>\n",
       "      <td>0.000000e+00</td>\n",
       "      <td>0.000000e+00</td>\n",
       "      <td>1.000000e+00</td>\n",
       "      <td>0.0</td>\n",
       "      <td>NaN</td>\n",
       "      <td>1.000000e+00</td>\n",
       "    </tr>\n",
       "    <tr>\n",
       "      <th>75%</th>\n",
       "      <td>0.000000e+00</td>\n",
       "      <td>0.000000e+00</td>\n",
       "      <td>0.000000e+00</td>\n",
       "      <td>1.000000e+00</td>\n",
       "      <td>0.0</td>\n",
       "      <td>NaN</td>\n",
       "      <td>3.000000e+00</td>\n",
       "    </tr>\n",
       "    <tr>\n",
       "      <th>max</th>\n",
       "      <td>1.000000e+00</td>\n",
       "      <td>1.000000e+00</td>\n",
       "      <td>1.000000e+00</td>\n",
       "      <td>1.000000e+00</td>\n",
       "      <td>0.0</td>\n",
       "      <td>NaN</td>\n",
       "      <td>7.575000e+03</td>\n",
       "    </tr>\n",
       "  </tbody>\n",
       "</table>\n",
       "</div>"
      ],
      "text/plain": [
       "       author_premium  controversiality        locked     no_follow  \\\n",
       "count    1.296999e+06      1.296999e+06  1.296999e+06  1.296999e+06   \n",
       "mean     4.496380e-02      2.010025e-02  3.315346e-05  6.914385e-01   \n",
       "std      2.072247e-01      1.403433e-01  5.757811e-03  4.618999e-01   \n",
       "min      0.000000e+00      0.000000e+00  0.000000e+00  0.000000e+00   \n",
       "25%      0.000000e+00      0.000000e+00  0.000000e+00  0.000000e+00   \n",
       "50%      0.000000e+00      0.000000e+00  0.000000e+00  1.000000e+00   \n",
       "75%      0.000000e+00      0.000000e+00  0.000000e+00  1.000000e+00   \n",
       "max      1.000000e+00      1.000000e+00  1.000000e+00  1.000000e+00   \n",
       "\n",
       "       quarantined  removal_reason         score  \n",
       "count    1296999.0             0.0  1.296999e+06  \n",
       "mean           0.0             NaN  3.651674e+00  \n",
       "std            0.0             NaN  2.161691e+01  \n",
       "min            0.0             NaN -1.520000e+02  \n",
       "25%            0.0             NaN  1.000000e+00  \n",
       "50%            0.0             NaN  1.000000e+00  \n",
       "75%            0.0             NaN  3.000000e+00  \n",
       "max            0.0             NaN  7.575000e+03  "
      ]
     },
     "execution_count": 21,
     "metadata": {},
     "output_type": "execute_result"
    }
   ],
   "source": [
    "dfjune.describe()"
   ]
  },
  {
   "cell_type": "code",
   "execution_count": 22,
   "id": "e69c53b8-0104-4ec3-addf-0aac2694dc9d",
   "metadata": {},
   "outputs": [],
   "source": [
    "dfjunebyday = dfjune[[\"created_utc\",\"id\",\"author_premium\",\"controversiality\", \"locked\", \"no_follow\", \"score\"]].groupby([\"created_utc\"]).agg({\"id\": [\"count\"], \"author_premium\": [\"sum\"], \"controversiality\": [\"sum\"], \"locked\" : [\"sum\"], \"no_follow\" : [\"sum\"], \"score\" : [np.mean]})"
   ]
  },
  {
   "cell_type": "code",
   "execution_count": 23,
   "id": "16150ad4-7f47-4ea7-b2f3-8defff428c0a",
   "metadata": {},
   "outputs": [],
   "source": [
    "dfjunebyday = dfjunebyday.droplevel(axis=1, level=0).reset_index().set_axis([\"Date\", \"CommentCount\", \"PremiumCount\", \"Controversiality\", \"LockedCount\", \"FollowCount\", \"Score\"], axis=1, inplace=False)"
   ]
  },
  {
   "cell_type": "code",
   "execution_count": 24,
   "id": "8779cdca-8468-4edd-8953-61d88584341e",
   "metadata": {},
   "outputs": [
    {
     "data": {
      "text/html": [
       "<div>\n",
       "<style scoped>\n",
       "    .dataframe tbody tr th:only-of-type {\n",
       "        vertical-align: middle;\n",
       "    }\n",
       "\n",
       "    .dataframe tbody tr th {\n",
       "        vertical-align: top;\n",
       "    }\n",
       "\n",
       "    .dataframe thead th {\n",
       "        text-align: right;\n",
       "    }\n",
       "</style>\n",
       "<table border=\"1\" class=\"dataframe\">\n",
       "  <thead>\n",
       "    <tr style=\"text-align: right;\">\n",
       "      <th></th>\n",
       "      <th>Date</th>\n",
       "      <th>CommentCount</th>\n",
       "      <th>PremiumCount</th>\n",
       "      <th>Controversiality</th>\n",
       "      <th>LockedCount</th>\n",
       "      <th>FollowCount</th>\n",
       "      <th>Score</th>\n",
       "    </tr>\n",
       "  </thead>\n",
       "  <tbody>\n",
       "    <tr>\n",
       "      <th>0</th>\n",
       "      <td>2021-02-01</td>\n",
       "      <td>7078</td>\n",
       "      <td>399</td>\n",
       "      <td>97</td>\n",
       "      <td>0</td>\n",
       "      <td>5156</td>\n",
       "      <td>3.187482</td>\n",
       "    </tr>\n",
       "    <tr>\n",
       "      <th>1</th>\n",
       "      <td>2021-02-02</td>\n",
       "      <td>6805</td>\n",
       "      <td>375</td>\n",
       "      <td>66</td>\n",
       "      <td>0</td>\n",
       "      <td>4701</td>\n",
       "      <td>3.506392</td>\n",
       "    </tr>\n",
       "    <tr>\n",
       "      <th>2</th>\n",
       "      <td>2021-02-03</td>\n",
       "      <td>6960</td>\n",
       "      <td>351</td>\n",
       "      <td>69</td>\n",
       "      <td>0</td>\n",
       "      <td>4693</td>\n",
       "      <td>3.675287</td>\n",
       "    </tr>\n",
       "    <tr>\n",
       "      <th>3</th>\n",
       "      <td>2021-02-04</td>\n",
       "      <td>8392</td>\n",
       "      <td>392</td>\n",
       "      <td>118</td>\n",
       "      <td>0</td>\n",
       "      <td>5943</td>\n",
       "      <td>4.259414</td>\n",
       "    </tr>\n",
       "    <tr>\n",
       "      <th>4</th>\n",
       "      <td>2021-02-05</td>\n",
       "      <td>7534</td>\n",
       "      <td>353</td>\n",
       "      <td>138</td>\n",
       "      <td>0</td>\n",
       "      <td>5597</td>\n",
       "      <td>2.944518</td>\n",
       "    </tr>\n",
       "    <tr>\n",
       "      <th>...</th>\n",
       "      <td>...</td>\n",
       "      <td>...</td>\n",
       "      <td>...</td>\n",
       "      <td>...</td>\n",
       "      <td>...</td>\n",
       "      <td>...</td>\n",
       "      <td>...</td>\n",
       "    </tr>\n",
       "    <tr>\n",
       "      <th>145</th>\n",
       "      <td>2021-06-26</td>\n",
       "      <td>6170</td>\n",
       "      <td>250</td>\n",
       "      <td>183</td>\n",
       "      <td>0</td>\n",
       "      <td>4457</td>\n",
       "      <td>2.897893</td>\n",
       "    </tr>\n",
       "    <tr>\n",
       "      <th>146</th>\n",
       "      <td>2021-06-27</td>\n",
       "      <td>5626</td>\n",
       "      <td>269</td>\n",
       "      <td>121</td>\n",
       "      <td>0</td>\n",
       "      <td>3998</td>\n",
       "      <td>3.302524</td>\n",
       "    </tr>\n",
       "    <tr>\n",
       "      <th>147</th>\n",
       "      <td>2021-06-28</td>\n",
       "      <td>5447</td>\n",
       "      <td>315</td>\n",
       "      <td>105</td>\n",
       "      <td>0</td>\n",
       "      <td>3945</td>\n",
       "      <td>3.651735</td>\n",
       "    </tr>\n",
       "    <tr>\n",
       "      <th>148</th>\n",
       "      <td>2021-06-29</td>\n",
       "      <td>6025</td>\n",
       "      <td>334</td>\n",
       "      <td>191</td>\n",
       "      <td>0</td>\n",
       "      <td>4111</td>\n",
       "      <td>3.398506</td>\n",
       "    </tr>\n",
       "    <tr>\n",
       "      <th>149</th>\n",
       "      <td>2021-06-30</td>\n",
       "      <td>6042</td>\n",
       "      <td>316</td>\n",
       "      <td>124</td>\n",
       "      <td>0</td>\n",
       "      <td>4266</td>\n",
       "      <td>4.408143</td>\n",
       "    </tr>\n",
       "  </tbody>\n",
       "</table>\n",
       "<p>150 rows × 7 columns</p>\n",
       "</div>"
      ],
      "text/plain": [
       "          Date  CommentCount  PremiumCount  Controversiality  LockedCount  \\\n",
       "0   2021-02-01          7078           399                97            0   \n",
       "1   2021-02-02          6805           375                66            0   \n",
       "2   2021-02-03          6960           351                69            0   \n",
       "3   2021-02-04          8392           392               118            0   \n",
       "4   2021-02-05          7534           353               138            0   \n",
       "..         ...           ...           ...               ...          ...   \n",
       "145 2021-06-26          6170           250               183            0   \n",
       "146 2021-06-27          5626           269               121            0   \n",
       "147 2021-06-28          5447           315               105            0   \n",
       "148 2021-06-29          6025           334               191            0   \n",
       "149 2021-06-30          6042           316               124            0   \n",
       "\n",
       "     FollowCount     Score  \n",
       "0           5156  3.187482  \n",
       "1           4701  3.506392  \n",
       "2           4693  3.675287  \n",
       "3           5943  4.259414  \n",
       "4           5597  2.944518  \n",
       "..           ...       ...  \n",
       "145         4457  2.897893  \n",
       "146         3998  3.302524  \n",
       "147         3945  3.651735  \n",
       "148         4111  3.398506  \n",
       "149         4266  4.408143  \n",
       "\n",
       "[150 rows x 7 columns]"
      ]
     },
     "execution_count": 24,
     "metadata": {},
     "output_type": "execute_result"
    }
   ],
   "source": [
    "dfjunebyday"
   ]
  },
  {
   "cell_type": "markdown",
   "id": "6cf1c81a-4a11-4bf5-a30e-ad183a4ba16f",
   "metadata": {},
   "source": [
    "# Aggregate sentiment by day"
   ]
  },
  {
   "cell_type": "code",
   "execution_count": 25,
   "id": "01849c37-2a48-4a7d-bb3a-794b90981cd4",
   "metadata": {},
   "outputs": [],
   "source": [
    "sentimentbyday = dfcommsent[[\"created_utc\", \"id\", \"PositiveSentiment\", \"MixedSentiment\", \"NeutralSentiment\", \"NegativeSentiment\"]].groupby([\"created_utc\"]).agg({\"id\": [\"count\"], \"PositiveSentiment\" : [\"sum\"], \"MixedSentiment\" : [\"sum\"], \"NeutralSentiment\" : [\"sum\"], \"NegativeSentiment\" : [\"sum\"]})"
   ]
  },
  {
   "cell_type": "code",
   "execution_count": 26,
   "id": "468b81cf-3018-4918-92bf-424d4dc73dc6",
   "metadata": {},
   "outputs": [],
   "source": [
    "sentimentbyday = sentimentbyday.droplevel(axis=1, level=0).reset_index().set_axis([\"Date\", \"Count\", \"PositiveCount\", \"MixedCount\", \"NeutralCount\", \"NegativeCount\"], axis=1, inplace=False)"
   ]
  },
  {
   "cell_type": "code",
   "execution_count": 27,
   "id": "70f9940b-ab7b-4bef-843f-1702477f5155",
   "metadata": {},
   "outputs": [],
   "source": [
    "sentimentbyday[\"PositivePerc\"] = sentimentbyday[\"PositiveCount\"]/sentimentbyday[\"Count\"]"
   ]
  },
  {
   "cell_type": "code",
   "execution_count": 28,
   "id": "02bf8b37-d5db-49c5-a3ea-993f6a31e67f",
   "metadata": {},
   "outputs": [],
   "source": [
    "sentimentbyday[\"MixedPerc\"] = sentimentbyday[\"MixedCount\"]/sentimentbyday[\"Count\"]"
   ]
  },
  {
   "cell_type": "code",
   "execution_count": 29,
   "id": "2d7ad2dd-2d03-4035-b9c0-42b5f09d386d",
   "metadata": {},
   "outputs": [],
   "source": [
    "sentimentbyday[\"NeutralPerc\"] = sentimentbyday[\"NeutralCount\"]/sentimentbyday[\"Count\"]"
   ]
  },
  {
   "cell_type": "code",
   "execution_count": 30,
   "id": "6e66276e-4fc2-44be-9b0b-1a9c4fa0bd9a",
   "metadata": {},
   "outputs": [],
   "source": [
    "sentimentbyday[\"NegativePerc\"] = sentimentbyday[\"NegativeCount\"]/sentimentbyday[\"Count\"]"
   ]
  },
  {
   "cell_type": "code",
   "execution_count": 31,
   "id": "48d6bc39-9c30-46a6-a3ae-3db6b49de3df",
   "metadata": {},
   "outputs": [],
   "source": [
    "sentimentbyday = sentimentbyday[[\"Date\", \"PositivePerc\", \"MixedPerc\", \"NeutralPerc\", \"NegativePerc\"]]"
   ]
  },
  {
   "cell_type": "markdown",
   "id": "72727520-5ac3-4685-93cf-bfaa789ce81a",
   "metadata": {},
   "source": [
    "# Combine the comment, sentiment, and price dataframes"
   ]
  },
  {
   "cell_type": "code",
   "execution_count": 32,
   "id": "293e3ca7-ac1e-4cd4-8bde-3055d721254f",
   "metadata": {},
   "outputs": [],
   "source": [
    "dfjunewithprice = pd.merge(dfjunebyday, dfpricejune, left_on=\"Date\", right_on=\"Date\", how=\"outer\")"
   ]
  },
  {
   "cell_type": "code",
   "execution_count": 33,
   "id": "a102ae03-37bb-4c20-b961-f34c07c31eab",
   "metadata": {},
   "outputs": [],
   "source": [
    "dfbitcoin = pd.merge(dfjunewithprice, sentimentbyday, left_on=\"Date\", right_on=\"Date\", how=\"outer\")"
   ]
  },
  {
   "cell_type": "code",
   "execution_count": 34,
   "id": "75fea992-2026-4766-8d2a-811b5ccf7f18",
   "metadata": {},
   "outputs": [
    {
     "data": {
      "text/html": [
       "<div>\n",
       "<style scoped>\n",
       "    .dataframe tbody tr th:only-of-type {\n",
       "        vertical-align: middle;\n",
       "    }\n",
       "\n",
       "    .dataframe tbody tr th {\n",
       "        vertical-align: top;\n",
       "    }\n",
       "\n",
       "    .dataframe thead th {\n",
       "        text-align: right;\n",
       "    }\n",
       "</style>\n",
       "<table border=\"1\" class=\"dataframe\">\n",
       "  <thead>\n",
       "    <tr style=\"text-align: right;\">\n",
       "      <th></th>\n",
       "      <th>Date</th>\n",
       "      <th>CommentCount</th>\n",
       "      <th>PremiumCount</th>\n",
       "      <th>Controversiality</th>\n",
       "      <th>LockedCount</th>\n",
       "      <th>FollowCount</th>\n",
       "      <th>Score</th>\n",
       "      <th>Price</th>\n",
       "      <th>Open</th>\n",
       "      <th>High</th>\n",
       "      <th>Low</th>\n",
       "      <th>Vol.</th>\n",
       "      <th>Change %</th>\n",
       "      <th>PositivePerc</th>\n",
       "      <th>MixedPerc</th>\n",
       "      <th>NeutralPerc</th>\n",
       "      <th>NegativePerc</th>\n",
       "    </tr>\n",
       "  </thead>\n",
       "  <tbody>\n",
       "    <tr>\n",
       "      <th>0</th>\n",
       "      <td>2021-02-01</td>\n",
       "      <td>7078</td>\n",
       "      <td>399</td>\n",
       "      <td>97</td>\n",
       "      <td>0</td>\n",
       "      <td>5156</td>\n",
       "      <td>3.187482</td>\n",
       "      <td>33,515.7</td>\n",
       "      <td>33,106.8</td>\n",
       "      <td>34,685.6</td>\n",
       "      <td>32,324.9</td>\n",
       "      <td>126.32K</td>\n",
       "      <td>1.23%</td>\n",
       "      <td>0.315152</td>\n",
       "      <td>0.133333</td>\n",
       "      <td>0.309091</td>\n",
       "      <td>0.242424</td>\n",
       "    </tr>\n",
       "    <tr>\n",
       "      <th>1</th>\n",
       "      <td>2021-02-02</td>\n",
       "      <td>6805</td>\n",
       "      <td>375</td>\n",
       "      <td>66</td>\n",
       "      <td>0</td>\n",
       "      <td>4701</td>\n",
       "      <td>3.506392</td>\n",
       "      <td>35,485.2</td>\n",
       "      <td>33,514.0</td>\n",
       "      <td>35,976.1</td>\n",
       "      <td>33,462.4</td>\n",
       "      <td>120.85K</td>\n",
       "      <td>5.88%</td>\n",
       "      <td>0.278788</td>\n",
       "      <td>0.133333</td>\n",
       "      <td>0.315152</td>\n",
       "      <td>0.272727</td>\n",
       "    </tr>\n",
       "    <tr>\n",
       "      <th>2</th>\n",
       "      <td>2021-02-03</td>\n",
       "      <td>6960</td>\n",
       "      <td>351</td>\n",
       "      <td>69</td>\n",
       "      <td>0</td>\n",
       "      <td>4693</td>\n",
       "      <td>3.675287</td>\n",
       "      <td>37,646.8</td>\n",
       "      <td>35,486.9</td>\n",
       "      <td>37,646.8</td>\n",
       "      <td>35,401.5</td>\n",
       "      <td>131.03K</td>\n",
       "      <td>6.09%</td>\n",
       "      <td>0.206061</td>\n",
       "      <td>0.145455</td>\n",
       "      <td>0.351515</td>\n",
       "      <td>0.296970</td>\n",
       "    </tr>\n",
       "    <tr>\n",
       "      <th>3</th>\n",
       "      <td>2021-02-04</td>\n",
       "      <td>8392</td>\n",
       "      <td>392</td>\n",
       "      <td>118</td>\n",
       "      <td>0</td>\n",
       "      <td>5943</td>\n",
       "      <td>4.259414</td>\n",
       "      <td>36,982.1</td>\n",
       "      <td>37,648.9</td>\n",
       "      <td>38,707.9</td>\n",
       "      <td>36,380.8</td>\n",
       "      <td>151.44K</td>\n",
       "      <td>-1.77%</td>\n",
       "      <td>0.248485</td>\n",
       "      <td>0.133333</td>\n",
       "      <td>0.303030</td>\n",
       "      <td>0.315152</td>\n",
       "    </tr>\n",
       "    <tr>\n",
       "      <th>4</th>\n",
       "      <td>2021-02-05</td>\n",
       "      <td>7534</td>\n",
       "      <td>353</td>\n",
       "      <td>138</td>\n",
       "      <td>0</td>\n",
       "      <td>5597</td>\n",
       "      <td>2.944518</td>\n",
       "      <td>38,297.6</td>\n",
       "      <td>36,976.4</td>\n",
       "      <td>38,303.6</td>\n",
       "      <td>36,640.0</td>\n",
       "      <td>100.60K</td>\n",
       "      <td>3.56%</td>\n",
       "      <td>0.236364</td>\n",
       "      <td>0.115152</td>\n",
       "      <td>0.339394</td>\n",
       "      <td>0.309091</td>\n",
       "    </tr>\n",
       "    <tr>\n",
       "      <th>...</th>\n",
       "      <td>...</td>\n",
       "      <td>...</td>\n",
       "      <td>...</td>\n",
       "      <td>...</td>\n",
       "      <td>...</td>\n",
       "      <td>...</td>\n",
       "      <td>...</td>\n",
       "      <td>...</td>\n",
       "      <td>...</td>\n",
       "      <td>...</td>\n",
       "      <td>...</td>\n",
       "      <td>...</td>\n",
       "      <td>...</td>\n",
       "      <td>...</td>\n",
       "      <td>...</td>\n",
       "      <td>...</td>\n",
       "      <td>...</td>\n",
       "    </tr>\n",
       "    <tr>\n",
       "      <th>145</th>\n",
       "      <td>2021-06-26</td>\n",
       "      <td>6170</td>\n",
       "      <td>250</td>\n",
       "      <td>183</td>\n",
       "      <td>0</td>\n",
       "      <td>4457</td>\n",
       "      <td>2.897893</td>\n",
       "      <td>32,243.4</td>\n",
       "      <td>31,592.1</td>\n",
       "      <td>32,643.0</td>\n",
       "      <td>30,206.9</td>\n",
       "      <td>156.67K</td>\n",
       "      <td>2.06%</td>\n",
       "      <td>0.175758</td>\n",
       "      <td>0.169697</td>\n",
       "      <td>0.339394</td>\n",
       "      <td>0.315152</td>\n",
       "    </tr>\n",
       "    <tr>\n",
       "      <th>146</th>\n",
       "      <td>2021-06-27</td>\n",
       "      <td>5626</td>\n",
       "      <td>269</td>\n",
       "      <td>121</td>\n",
       "      <td>0</td>\n",
       "      <td>3998</td>\n",
       "      <td>3.302524</td>\n",
       "      <td>34,678.5</td>\n",
       "      <td>32,247.1</td>\n",
       "      <td>34,685.5</td>\n",
       "      <td>32,041.7</td>\n",
       "      <td>148.80K</td>\n",
       "      <td>7.55%</td>\n",
       "      <td>0.278788</td>\n",
       "      <td>0.115152</td>\n",
       "      <td>0.284848</td>\n",
       "      <td>0.321212</td>\n",
       "    </tr>\n",
       "    <tr>\n",
       "      <th>147</th>\n",
       "      <td>2021-06-28</td>\n",
       "      <td>5447</td>\n",
       "      <td>315</td>\n",
       "      <td>105</td>\n",
       "      <td>0</td>\n",
       "      <td>3945</td>\n",
       "      <td>3.651735</td>\n",
       "      <td>34,475.9</td>\n",
       "      <td>34,682.2</td>\n",
       "      <td>35,231.2</td>\n",
       "      <td>33,944.9</td>\n",
       "      <td>112.00K</td>\n",
       "      <td>-0.58%</td>\n",
       "      <td>0.248485</td>\n",
       "      <td>0.096970</td>\n",
       "      <td>0.387879</td>\n",
       "      <td>0.266667</td>\n",
       "    </tr>\n",
       "    <tr>\n",
       "      <th>148</th>\n",
       "      <td>2021-06-29</td>\n",
       "      <td>6025</td>\n",
       "      <td>334</td>\n",
       "      <td>191</td>\n",
       "      <td>0</td>\n",
       "      <td>4111</td>\n",
       "      <td>3.398506</td>\n",
       "      <td>35,834.7</td>\n",
       "      <td>34,477.3</td>\n",
       "      <td>36,590.3</td>\n",
       "      <td>34,247.6</td>\n",
       "      <td>97.27K</td>\n",
       "      <td>3.94%</td>\n",
       "      <td>0.254545</td>\n",
       "      <td>0.133333</td>\n",
       "      <td>0.290909</td>\n",
       "      <td>0.321212</td>\n",
       "    </tr>\n",
       "    <tr>\n",
       "      <th>149</th>\n",
       "      <td>2021-06-30</td>\n",
       "      <td>6042</td>\n",
       "      <td>316</td>\n",
       "      <td>124</td>\n",
       "      <td>0</td>\n",
       "      <td>4266</td>\n",
       "      <td>4.408143</td>\n",
       "      <td>35,026.9</td>\n",
       "      <td>35,832.6</td>\n",
       "      <td>36,089.5</td>\n",
       "      <td>34,126.6</td>\n",
       "      <td>107.07K</td>\n",
       "      <td>-2.25%</td>\n",
       "      <td>0.254545</td>\n",
       "      <td>0.115152</td>\n",
       "      <td>0.254545</td>\n",
       "      <td>0.375758</td>\n",
       "    </tr>\n",
       "  </tbody>\n",
       "</table>\n",
       "<p>150 rows × 17 columns</p>\n",
       "</div>"
      ],
      "text/plain": [
       "          Date  CommentCount  PremiumCount  Controversiality  LockedCount  \\\n",
       "0   2021-02-01          7078           399                97            0   \n",
       "1   2021-02-02          6805           375                66            0   \n",
       "2   2021-02-03          6960           351                69            0   \n",
       "3   2021-02-04          8392           392               118            0   \n",
       "4   2021-02-05          7534           353               138            0   \n",
       "..         ...           ...           ...               ...          ...   \n",
       "145 2021-06-26          6170           250               183            0   \n",
       "146 2021-06-27          5626           269               121            0   \n",
       "147 2021-06-28          5447           315               105            0   \n",
       "148 2021-06-29          6025           334               191            0   \n",
       "149 2021-06-30          6042           316               124            0   \n",
       "\n",
       "     FollowCount     Score     Price      Open      High       Low     Vol.  \\\n",
       "0           5156  3.187482  33,515.7  33,106.8  34,685.6  32,324.9  126.32K   \n",
       "1           4701  3.506392  35,485.2  33,514.0  35,976.1  33,462.4  120.85K   \n",
       "2           4693  3.675287  37,646.8  35,486.9  37,646.8  35,401.5  131.03K   \n",
       "3           5943  4.259414  36,982.1  37,648.9  38,707.9  36,380.8  151.44K   \n",
       "4           5597  2.944518  38,297.6  36,976.4  38,303.6  36,640.0  100.60K   \n",
       "..           ...       ...       ...       ...       ...       ...      ...   \n",
       "145         4457  2.897893  32,243.4  31,592.1  32,643.0  30,206.9  156.67K   \n",
       "146         3998  3.302524  34,678.5  32,247.1  34,685.5  32,041.7  148.80K   \n",
       "147         3945  3.651735  34,475.9  34,682.2  35,231.2  33,944.9  112.00K   \n",
       "148         4111  3.398506  35,834.7  34,477.3  36,590.3  34,247.6   97.27K   \n",
       "149         4266  4.408143  35,026.9  35,832.6  36,089.5  34,126.6  107.07K   \n",
       "\n",
       "    Change %  PositivePerc  MixedPerc  NeutralPerc  NegativePerc  \n",
       "0      1.23%      0.315152   0.133333     0.309091      0.242424  \n",
       "1      5.88%      0.278788   0.133333     0.315152      0.272727  \n",
       "2      6.09%      0.206061   0.145455     0.351515      0.296970  \n",
       "3     -1.77%      0.248485   0.133333     0.303030      0.315152  \n",
       "4      3.56%      0.236364   0.115152     0.339394      0.309091  \n",
       "..       ...           ...        ...          ...           ...  \n",
       "145    2.06%      0.175758   0.169697     0.339394      0.315152  \n",
       "146    7.55%      0.278788   0.115152     0.284848      0.321212  \n",
       "147   -0.58%      0.248485   0.096970     0.387879      0.266667  \n",
       "148    3.94%      0.254545   0.133333     0.290909      0.321212  \n",
       "149   -2.25%      0.254545   0.115152     0.254545      0.375758  \n",
       "\n",
       "[150 rows x 17 columns]"
      ]
     },
     "execution_count": 34,
     "metadata": {},
     "output_type": "execute_result"
    }
   ],
   "source": [
    "dfbitcoin"
   ]
  },
  {
   "cell_type": "markdown",
   "id": "dd646e1b-86c3-4344-8498-fb77b4837954",
   "metadata": {},
   "source": [
    "# Transform the data\n",
    "## Get the next day change %"
   ]
  },
  {
   "cell_type": "code",
   "execution_count": 36,
   "id": "5bd74d0e-6998-49db-855a-03d0c817fe60",
   "metadata": {},
   "outputs": [],
   "source": [
    "dfbitcoin[\"Change %\"] = dfbitcoin[\"Change %\"].str.rstrip('%').astype('float') / 100.0"
   ]
  },
  {
   "cell_type": "code",
   "execution_count": 37,
   "id": "976e877b-8ba2-41d4-b548-d8bc5eee610d",
   "metadata": {},
   "outputs": [],
   "source": [
    "dfbitcoin[\"NextDayChange\"] = dfbitcoin[\"Change %\"].shift(-1)"
   ]
  },
  {
   "cell_type": "code",
   "execution_count": 38,
   "id": "11e66fed-a510-45eb-84d8-6603359c2ea9",
   "metadata": {},
   "outputs": [],
   "source": [
    "dfbitcoin = dfbitcoin.dropna().copy()"
   ]
  },
  {
   "cell_type": "markdown",
   "id": "ada01cd1-61a2-4a24-898c-0f548a71d0ea",
   "metadata": {},
   "source": [
    "## Categorize the data base on what the change was"
   ]
  },
  {
   "cell_type": "code",
   "execution_count": 39,
   "id": "7a523016-aaf8-42ee-8881-f925688d292b",
   "metadata": {},
   "outputs": [],
   "source": [
    "conditions = [\n",
    "               (dfbitcoin[\"NextDayChange\"] <= -0.025), \n",
    "               (dfbitcoin[\"NextDayChange\"] > -0.025) & (dfbitcoin[\"NextDayChange\"] < 0.025),\n",
    "               (dfbitcoin[\"NextDayChange\"] >= 0.025)\n",
    "             ]\n",
    "values = [0, 1, 2]\n",
    "dfbitcoin['ChangeGroup'] = np.select(conditions, values)"
   ]
  },
  {
   "cell_type": "markdown",
   "id": "50fd05ae-5251-4eaa-a2a1-6cfbc2cb879f",
   "metadata": {},
   "source": [
    "## Trim it down to just the columns we are interested in"
   ]
  },
  {
   "cell_type": "code",
   "execution_count": 40,
   "id": "205a277a-6d9f-4124-af8c-d0cefecbec77",
   "metadata": {},
   "outputs": [],
   "source": [
    "dfbitcoin = dfbitcoin[[\"CommentCount\", \"PremiumCount\", \"Controversiality\", \"FollowCount\", \"Score\", \"PositivePerc\", \"NegativePerc\", \"ChangeGroup\"]].copy()"
   ]
  },
  {
   "cell_type": "code",
   "execution_count": 41,
   "id": "c5223a7e-538d-460c-8901-bb11569f375a",
   "metadata": {},
   "outputs": [
    {
     "data": {
      "text/html": [
       "<div>\n",
       "<style scoped>\n",
       "    .dataframe tbody tr th:only-of-type {\n",
       "        vertical-align: middle;\n",
       "    }\n",
       "\n",
       "    .dataframe tbody tr th {\n",
       "        vertical-align: top;\n",
       "    }\n",
       "\n",
       "    .dataframe thead th {\n",
       "        text-align: right;\n",
       "    }\n",
       "</style>\n",
       "<table border=\"1\" class=\"dataframe\">\n",
       "  <thead>\n",
       "    <tr style=\"text-align: right;\">\n",
       "      <th></th>\n",
       "      <th>CommentCount</th>\n",
       "      <th>PremiumCount</th>\n",
       "      <th>Controversiality</th>\n",
       "      <th>FollowCount</th>\n",
       "      <th>Score</th>\n",
       "      <th>PositivePerc</th>\n",
       "      <th>NegativePerc</th>\n",
       "      <th>ChangeGroup</th>\n",
       "    </tr>\n",
       "  </thead>\n",
       "  <tbody>\n",
       "    <tr>\n",
       "      <th>0</th>\n",
       "      <td>7078</td>\n",
       "      <td>399</td>\n",
       "      <td>97</td>\n",
       "      <td>5156</td>\n",
       "      <td>3.187482</td>\n",
       "      <td>0.315152</td>\n",
       "      <td>0.242424</td>\n",
       "      <td>2</td>\n",
       "    </tr>\n",
       "    <tr>\n",
       "      <th>1</th>\n",
       "      <td>6805</td>\n",
       "      <td>375</td>\n",
       "      <td>66</td>\n",
       "      <td>4701</td>\n",
       "      <td>3.506392</td>\n",
       "      <td>0.278788</td>\n",
       "      <td>0.272727</td>\n",
       "      <td>2</td>\n",
       "    </tr>\n",
       "    <tr>\n",
       "      <th>2</th>\n",
       "      <td>6960</td>\n",
       "      <td>351</td>\n",
       "      <td>69</td>\n",
       "      <td>4693</td>\n",
       "      <td>3.675287</td>\n",
       "      <td>0.206061</td>\n",
       "      <td>0.296970</td>\n",
       "      <td>1</td>\n",
       "    </tr>\n",
       "    <tr>\n",
       "      <th>3</th>\n",
       "      <td>8392</td>\n",
       "      <td>392</td>\n",
       "      <td>118</td>\n",
       "      <td>5943</td>\n",
       "      <td>4.259414</td>\n",
       "      <td>0.248485</td>\n",
       "      <td>0.315152</td>\n",
       "      <td>2</td>\n",
       "    </tr>\n",
       "    <tr>\n",
       "      <th>4</th>\n",
       "      <td>7534</td>\n",
       "      <td>353</td>\n",
       "      <td>138</td>\n",
       "      <td>5597</td>\n",
       "      <td>2.944518</td>\n",
       "      <td>0.236364</td>\n",
       "      <td>0.309091</td>\n",
       "      <td>2</td>\n",
       "    </tr>\n",
       "    <tr>\n",
       "      <th>...</th>\n",
       "      <td>...</td>\n",
       "      <td>...</td>\n",
       "      <td>...</td>\n",
       "      <td>...</td>\n",
       "      <td>...</td>\n",
       "      <td>...</td>\n",
       "      <td>...</td>\n",
       "      <td>...</td>\n",
       "    </tr>\n",
       "    <tr>\n",
       "      <th>144</th>\n",
       "      <td>7494</td>\n",
       "      <td>295</td>\n",
       "      <td>210</td>\n",
       "      <td>5382</td>\n",
       "      <td>3.987990</td>\n",
       "      <td>0.212121</td>\n",
       "      <td>0.321212</td>\n",
       "      <td>1</td>\n",
       "    </tr>\n",
       "    <tr>\n",
       "      <th>145</th>\n",
       "      <td>6170</td>\n",
       "      <td>250</td>\n",
       "      <td>183</td>\n",
       "      <td>4457</td>\n",
       "      <td>2.897893</td>\n",
       "      <td>0.175758</td>\n",
       "      <td>0.315152</td>\n",
       "      <td>2</td>\n",
       "    </tr>\n",
       "    <tr>\n",
       "      <th>146</th>\n",
       "      <td>5626</td>\n",
       "      <td>269</td>\n",
       "      <td>121</td>\n",
       "      <td>3998</td>\n",
       "      <td>3.302524</td>\n",
       "      <td>0.278788</td>\n",
       "      <td>0.321212</td>\n",
       "      <td>1</td>\n",
       "    </tr>\n",
       "    <tr>\n",
       "      <th>147</th>\n",
       "      <td>5447</td>\n",
       "      <td>315</td>\n",
       "      <td>105</td>\n",
       "      <td>3945</td>\n",
       "      <td>3.651735</td>\n",
       "      <td>0.248485</td>\n",
       "      <td>0.266667</td>\n",
       "      <td>2</td>\n",
       "    </tr>\n",
       "    <tr>\n",
       "      <th>148</th>\n",
       "      <td>6025</td>\n",
       "      <td>334</td>\n",
       "      <td>191</td>\n",
       "      <td>4111</td>\n",
       "      <td>3.398506</td>\n",
       "      <td>0.254545</td>\n",
       "      <td>0.321212</td>\n",
       "      <td>1</td>\n",
       "    </tr>\n",
       "  </tbody>\n",
       "</table>\n",
       "<p>149 rows × 8 columns</p>\n",
       "</div>"
      ],
      "text/plain": [
       "     CommentCount  PremiumCount  Controversiality  FollowCount     Score  \\\n",
       "0            7078           399                97         5156  3.187482   \n",
       "1            6805           375                66         4701  3.506392   \n",
       "2            6960           351                69         4693  3.675287   \n",
       "3            8392           392               118         5943  4.259414   \n",
       "4            7534           353               138         5597  2.944518   \n",
       "..            ...           ...               ...          ...       ...   \n",
       "144          7494           295               210         5382  3.987990   \n",
       "145          6170           250               183         4457  2.897893   \n",
       "146          5626           269               121         3998  3.302524   \n",
       "147          5447           315               105         3945  3.651735   \n",
       "148          6025           334               191         4111  3.398506   \n",
       "\n",
       "     PositivePerc  NegativePerc  ChangeGroup  \n",
       "0        0.315152      0.242424            2  \n",
       "1        0.278788      0.272727            2  \n",
       "2        0.206061      0.296970            1  \n",
       "3        0.248485      0.315152            2  \n",
       "4        0.236364      0.309091            2  \n",
       "..            ...           ...          ...  \n",
       "144      0.212121      0.321212            1  \n",
       "145      0.175758      0.315152            2  \n",
       "146      0.278788      0.321212            1  \n",
       "147      0.248485      0.266667            2  \n",
       "148      0.254545      0.321212            1  \n",
       "\n",
       "[149 rows x 8 columns]"
      ]
     },
     "execution_count": 41,
     "metadata": {},
     "output_type": "execute_result"
    }
   ],
   "source": [
    "dfbitcoin"
   ]
  },
  {
   "cell_type": "markdown",
   "id": "d490dad1-800b-4c02-857e-3ee37adf82ae",
   "metadata": {},
   "source": [
    "## Scale the data"
   ]
  },
  {
   "cell_type": "code",
   "execution_count": 42,
   "id": "9d030b97-e375-4d26-8ba9-e541973b1490",
   "metadata": {},
   "outputs": [],
   "source": [
    "dfbitcoin[\"CommentCount\"] = dfbitcoin[\"CommentCount\"] / 35000"
   ]
  },
  {
   "cell_type": "code",
   "execution_count": 43,
   "id": "68a3f1d3-3c79-46c1-8c13-1d300a9b8238",
   "metadata": {},
   "outputs": [],
   "source": [
    "dfbitcoin[\"PremiumCount\"] = dfbitcoin[\"PremiumCount\"] / 1000"
   ]
  },
  {
   "cell_type": "code",
   "execution_count": 44,
   "id": "b89d24fc-0485-45f0-a2ca-3e49afb706e8",
   "metadata": {},
   "outputs": [],
   "source": [
    "dfbitcoin[\"FollowCount\"] = dfbitcoin[\"FollowCount\"] / 25000"
   ]
  },
  {
   "cell_type": "code",
   "execution_count": 45,
   "id": "34a437ef-0a79-48a2-8578-ccf96ce7f847",
   "metadata": {},
   "outputs": [],
   "source": [
    "dfbitcoin[\"Score\"] = dfbitcoin[\"Score\"] / 6"
   ]
  },
  {
   "cell_type": "markdown",
   "id": "810a7a18-d700-4e7b-9db5-15eb0e4f0e8b",
   "metadata": {},
   "source": [
    "# Create train, test, and validation data sets"
   ]
  },
  {
   "cell_type": "code",
   "execution_count": 46,
   "id": "874cb478-2e27-4111-8693-eef77171808c",
   "metadata": {},
   "outputs": [],
   "source": [
    "bitcoin_train, bitcoin_test = train_test_split(dfbitcoin, test_size=0.4)"
   ]
  },
  {
   "cell_type": "code",
   "execution_count": 47,
   "id": "33720662-9587-4aef-8228-f21a12158e5b",
   "metadata": {},
   "outputs": [],
   "source": [
    "bitcoin_test, bitcoin_valid = train_test_split(bitcoin_test, test_size=0.5)"
   ]
  },
  {
   "cell_type": "code",
   "execution_count": 48,
   "id": "2f91428c-0798-4299-8f6c-dd4550c7317c",
   "metadata": {},
   "outputs": [],
   "source": [
    "X_train = bitcoin_train[[\"CommentCount\", \"PremiumCount\", \"Controversiality\", \"FollowCount\", \"Score\", \"PositivePerc\", \"NegativePerc\"]].to_numpy()"
   ]
  },
  {
   "cell_type": "code",
   "execution_count": 49,
   "id": "9f5a1940-8755-4082-a98a-0f0187975a2b",
   "metadata": {},
   "outputs": [],
   "source": [
    "y_train = bitcoin_train[[\"ChangeGroup\"]].to_numpy()"
   ]
  },
  {
   "cell_type": "code",
   "execution_count": 50,
   "id": "ffe5911f-18d0-47a4-8107-7657e653bb00",
   "metadata": {},
   "outputs": [],
   "source": [
    "X_test = bitcoin_test[[\"CommentCount\", \"PremiumCount\", \"Controversiality\", \"FollowCount\", \"Score\", \"PositivePerc\", \"NegativePerc\"]].to_numpy()"
   ]
  },
  {
   "cell_type": "code",
   "execution_count": 51,
   "id": "a0effb9d-30a8-4ef8-b509-dc754f6da85b",
   "metadata": {},
   "outputs": [],
   "source": [
    "y_test = bitcoin_test[[\"ChangeGroup\"]].to_numpy()"
   ]
  },
  {
   "cell_type": "code",
   "execution_count": 52,
   "id": "56cf19f2-eab9-40e7-9647-aba516f111a9",
   "metadata": {},
   "outputs": [],
   "source": [
    "X_valid = bitcoin_valid[[\"CommentCount\", \"PremiumCount\", \"Controversiality\", \"FollowCount\", \"Score\", \"PositivePerc\", \"NegativePerc\"]].to_numpy()"
   ]
  },
  {
   "cell_type": "code",
   "execution_count": 53,
   "id": "595ace2c-1a0b-4dc0-8e8d-577db2169c2c",
   "metadata": {},
   "outputs": [],
   "source": [
    "y_valid = bitcoin_valid[[\"ChangeGroup\"]].to_numpy()"
   ]
  },
  {
   "cell_type": "markdown",
   "id": "ed01b521-0cb0-4f6b-8693-bb7fe223b643",
   "metadata": {},
   "source": [
    "# Analyze Train Data"
   ]
  },
  {
   "cell_type": "code",
   "execution_count": 54,
   "id": "a8fded4a-dbd8-4b3a-8825-1622b4f2b0d3",
   "metadata": {},
   "outputs": [],
   "source": [
    "cgdf = bitcoin_train[[\"ChangeGroup\"]].copy()"
   ]
  },
  {
   "cell_type": "code",
   "execution_count": 55,
   "id": "c4afe002-0cd8-4ad4-a88d-0626919dcd5d",
   "metadata": {},
   "outputs": [],
   "source": [
    "cgdf[\"Change Group\"] = \"\""
   ]
  },
  {
   "cell_type": "code",
   "execution_count": 56,
   "id": "f440de45-874c-4eb0-9f8a-691f92eacdcb",
   "metadata": {},
   "outputs": [],
   "source": [
    "cgdf.loc[cgdf['ChangeGroup'] == 0, 'Change Group'] = \"Decrease\"\n",
    "cgdf.loc[cgdf['ChangeGroup'] == 1, 'Change Group'] = \"No Change\"\n",
    "cgdf.loc[cgdf['ChangeGroup'] == 2, 'Change Group'] = \"Increase\""
   ]
  },
  {
   "cell_type": "code",
   "execution_count": 57,
   "id": "b536065b-2586-4038-9f25-5b39cc77dcb7",
   "metadata": {},
   "outputs": [
    {
     "data": {
      "text/plain": [
       "Text(0, 0.5, '')"
      ]
     },
     "execution_count": 57,
     "metadata": {},
     "output_type": "execute_result"
    },
    {
     "data": {
      "image/png": "[encoded data removed]",
      "text/plain": [
       "<Figure size 432x288 with 1 Axes>"
      ]
     },
     "metadata": {},
     "output_type": "display_data"
    }
   ],
   "source": [
    "ax = cgdf[\"Change Group\"].value_counts().plot.pie(autopct='%1.0f%%', title=\"Change Group\", legend=False)\n",
    "ax.set_ylabel('')"
   ]
  },
  {
   "cell_type": "code",
   "execution_count": 58,
   "id": "49897cd4-635b-4ec2-b04f-eda5bf87da58",
   "metadata": {},
   "outputs": [
    {
     "data": {
      "image/png": "[encoded data removed]",
      "text/plain": [
       "<Figure size 432x288 with 1 Axes>"
      ]
     },
     "metadata": {
      "needs_background": "light"
     },
     "output_type": "display_data"
    }
   ],
   "source": [
    "ax1 = bitcoin_train.plot.scatter(x='PositivePerc', y='ChangeGroup', c='DarkBlue')"
   ]
  },
  {
   "cell_type": "code",
   "execution_count": 59,
   "id": "f4ad21e2-b4d1-4f5b-bd87-c052a5a66655",
   "metadata": {},
   "outputs": [
    {
     "data": {
      "image/png": "[encoded data removed]",
      "text/plain": [
       "<Figure size 432x288 with 1 Axes>"
      ]
     },
     "metadata": {
      "needs_background": "light"
     },
     "output_type": "display_data"
    }
   ],
   "source": [
    "ax1 = bitcoin_train.plot.scatter(x='NegativePerc', y='ChangeGroup', c='DarkBlue')"
   ]
  },
  {
   "cell_type": "code",
   "execution_count": 60,
   "id": "19069b5a-6bf8-462f-a382-e4a678cc01b6",
   "metadata": {},
   "outputs": [
    {
     "data": {
      "image/png": "[encoded data removed]",
      "text/plain": [
       "<Figure size 432x288 with 1 Axes>"
      ]
     },
     "metadata": {
      "needs_background": "light"
     },
     "output_type": "display_data"
    }
   ],
   "source": [
    "ax1 = bitcoin_train.plot.scatter(x='CommentCount', y='ChangeGroup', c='DarkBlue')"
   ]
  },
  {
   "cell_type": "code",
   "execution_count": 61,
   "id": "49aa5886-09fd-4506-b58f-aa452ef8945f",
   "metadata": {},
   "outputs": [
    {
     "data": {
      "image/png": "[encoded data removed]",
      "text/plain": [
       "<Figure size 432x288 with 1 Axes>"
      ]
     },
     "metadata": {
      "needs_background": "light"
     },
     "output_type": "display_data"
    }
   ],
   "source": [
    "ax1 = bitcoin_train.plot.scatter(x='PremiumCount', y='ChangeGroup', c='DarkBlue')"
   ]
  },
  {
   "cell_type": "code",
   "execution_count": 62,
   "id": "13a45c6a-9297-45d6-b9a8-b81a731006c5",
   "metadata": {},
   "outputs": [
    {
     "data": {
      "image/png": "[encoded data removed]",
      "text/plain": [
       "<Figure size 432x288 with 1 Axes>"
      ]
     },
     "metadata": {
      "needs_background": "light"
     },
     "output_type": "display_data"
    }
   ],
   "source": [
    "ax1 = bitcoin_train.plot.scatter(x='Controversiality', y='ChangeGroup', c='DarkBlue')"
   ]
  },
  {
   "cell_type": "code",
   "execution_count": 63,
   "id": "c2ba8257-569c-4768-b090-2ba592340ef4",
   "metadata": {},
   "outputs": [
    {
     "data": {
      "image/png": "[encoded data removed]",
      "text/plain": [
       "<Figure size 432x288 with 1 Axes>"
      ]
     },
     "metadata": {
      "needs_background": "light"
     },
     "output_type": "display_data"
    }
   ],
   "source": [
    "ax1 = bitcoin_train.plot.scatter(x='FollowCount', y='ChangeGroup', c='DarkBlue')"
   ]
  },
  {
   "cell_type": "code",
   "execution_count": 64,
   "id": "33ad8b4f-692d-4c47-b5d9-d42334e91e66",
   "metadata": {},
   "outputs": [
    {
     "data": {
      "image/png": "[encoded data removed]",
      "text/plain": [
       "<Figure size 432x288 with 1 Axes>"
      ]
     },
     "metadata": {
      "needs_background": "light"
     },
     "output_type": "display_data"
    }
   ],
   "source": [
    "ax1 = bitcoin_train.plot.scatter(x='Score', y='ChangeGroup', c='DarkBlue')"
   ]
  },
  {
   "cell_type": "markdown",
   "id": "eb4139b1-961b-477d-9871-1cd8f027fc46",
   "metadata": {},
   "source": [
    "# Create Model"
   ]
  },
  {
   "cell_type": "code",
   "execution_count": 65,
   "id": "988d7076-eac7-4b32-8709-d949af8641e9",
   "metadata": {},
   "outputs": [],
   "source": [
    "root_logdir = os.path.join(os.curdir, \"tensor_logs\")\n",
    "def get_run_logdir():\n",
    "    run_id = time.strftime(\"run_%Y_%m_%d-%H_%M_%S\")\n",
    "    return os.path.join(root_logdir, run_id)"
   ]
  },
  {
   "cell_type": "code",
   "execution_count": 66,
   "id": "573677a9-cee9-4209-9e21-5b664bb0b85c",
   "metadata": {},
   "outputs": [],
   "source": [
    "model = keras.models.Sequential()\n",
    "model.add(keras.layers.InputLayer(input_shape=[7,]))\n",
    "model.add(keras.layers.Dense(10, activation=\"relu\"))\n",
    "model.add(keras.layers.Dense(3, activation=\"softmax\"))"
   ]
  },
  {
   "cell_type": "code",
   "execution_count": 67,
   "id": "bb2ab6a7-7998-4135-98be-92a8211e5c08",
   "metadata": {},
   "outputs": [
    {
     "name": "stdout",
     "output_type": "stream",
     "text": [
      "Model: \"sequential\"\n",
      "_________________________________________________________________\n",
      "Layer (type)                 Output Shape              Param #   \n",
      "=================================================================\n",
      "dense (Dense)                (None, 10)                80        \n",
      "_________________________________________________________________\n",
      "dense_1 (Dense)              (None, 3)                 33        \n",
      "=================================================================\n",
      "Total params: 113\n",
      "Trainable params: 113\n",
      "Non-trainable params: 0\n",
      "_________________________________________________________________\n"
     ]
    }
   ],
   "source": [
    "model.summary()"
   ]
  },
  {
   "cell_type": "code",
   "execution_count": 68,
   "id": "899d0506-879f-4fe3-a25f-aed645f7fad9",
   "metadata": {},
   "outputs": [],
   "source": [
    "model.compile(loss=\"sparse_categorical_crossentropy\", optimizer=\"sgd\", metrics=[\"accuracy\"])"
   ]
  },
  {
   "cell_type": "code",
   "execution_count": 71,
   "id": "9fe57e28-1f92-4e1e-9fe1-ce79aa609b49",
   "metadata": {},
   "outputs": [
    {
     "name": "stdout",
     "output_type": "stream",
     "text": [
      "Epoch 1/60\n",
      "3/3 [==============================] - 0s 66ms/step - loss: 1.0445 - accuracy: 0.5169 - val_loss: 0.9926 - val_accuracy: 0.6667\n",
      "Epoch 2/60\n",
      "3/3 [==============================] - 0s 15ms/step - loss: 1.0440 - accuracy: 0.5169 - val_loss: 0.9916 - val_accuracy: 0.6667\n",
      "Epoch 3/60\n",
      "3/3 [==============================] - 0s 17ms/step - loss: 1.0436 - accuracy: 0.5169 - val_loss: 0.9906 - val_accuracy: 0.6667\n",
      "Epoch 4/60\n",
      "3/3 [==============================] - 0s 17ms/step - loss: 1.0432 - accuracy: 0.5169 - val_loss: 0.9896 - val_accuracy: 0.6667\n",
      "Epoch 5/60\n",
      "3/3 [==============================] - 0s 17ms/step - loss: 1.0427 - accuracy: 0.5169 - val_loss: 0.9886 - val_accuracy: 0.6667\n",
      "Epoch 6/60\n",
      "3/3 [==============================] - 0s 17ms/step - loss: 1.0424 - accuracy: 0.5169 - val_loss: 0.9877 - val_accuracy: 0.6667\n",
      "Epoch 7/60\n",
      "3/3 [==============================] - 0s 15ms/step - loss: 1.0420 - accuracy: 0.5169 - val_loss: 0.9868 - val_accuracy: 0.6667\n",
      "Epoch 8/60\n",
      "3/3 [==============================] - 0s 19ms/step - loss: 1.0416 - accuracy: 0.5169 - val_loss: 0.9859 - val_accuracy: 0.6667\n",
      "Epoch 9/60\n",
      "3/3 [==============================] - 0s 14ms/step - loss: 1.0412 - accuracy: 0.5169 - val_loss: 0.9850 - val_accuracy: 0.6667\n",
      "Epoch 10/60\n",
      "3/3 [==============================] - 0s 13ms/step - loss: 1.0409 - accuracy: 0.5169 - val_loss: 0.9842 - val_accuracy: 0.6667\n",
      "Epoch 11/60\n",
      "3/3 [==============================] - 0s 15ms/step - loss: 1.0406 - accuracy: 0.5169 - val_loss: 0.9832 - val_accuracy: 0.6667\n",
      "Epoch 12/60\n",
      "3/3 [==============================] - 0s 16ms/step - loss: 1.0403 - accuracy: 0.5169 - val_loss: 0.9824 - val_accuracy: 0.6667\n",
      "Epoch 13/60\n",
      "3/3 [==============================] - 0s 17ms/step - loss: 1.0398 - accuracy: 0.5169 - val_loss: 0.9815 - val_accuracy: 0.6667\n",
      "Epoch 14/60\n",
      "3/3 [==============================] - 0s 19ms/step - loss: 1.0395 - accuracy: 0.5169 - val_loss: 0.9808 - val_accuracy: 0.6667\n",
      "Epoch 15/60\n",
      "3/3 [==============================] - 0s 20ms/step - loss: 1.0392 - accuracy: 0.5169 - val_loss: 0.9799 - val_accuracy: 0.6667\n",
      "Epoch 16/60\n",
      "3/3 [==============================] - 0s 16ms/step - loss: 1.0389 - accuracy: 0.5169 - val_loss: 0.9792 - val_accuracy: 0.6667\n",
      "Epoch 17/60\n",
      "3/3 [==============================] - 0s 17ms/step - loss: 1.0386 - accuracy: 0.5169 - val_loss: 0.9783 - val_accuracy: 0.6667\n",
      "Epoch 18/60\n",
      "3/3 [==============================] - 0s 17ms/step - loss: 1.0382 - accuracy: 0.5169 - val_loss: 0.9775 - val_accuracy: 0.6667\n",
      "Epoch 19/60\n",
      "3/3 [==============================] - 0s 16ms/step - loss: 1.0380 - accuracy: 0.5169 - val_loss: 0.9768 - val_accuracy: 0.6667\n",
      "Epoch 20/60\n",
      "3/3 [==============================] - 0s 16ms/step - loss: 1.0376 - accuracy: 0.5169 - val_loss: 0.9760 - val_accuracy: 0.6667\n",
      "Epoch 21/60\n",
      "3/3 [==============================] - 0s 16ms/step - loss: 1.0374 - accuracy: 0.5169 - val_loss: 0.9753 - val_accuracy: 0.6667\n",
      "Epoch 22/60\n",
      "3/3 [==============================] - 0s 14ms/step - loss: 1.0371 - accuracy: 0.5169 - val_loss: 0.9745 - val_accuracy: 0.6667\n",
      "Epoch 23/60\n",
      "3/3 [==============================] - 0s 15ms/step - loss: 1.0368 - accuracy: 0.5169 - val_loss: 0.9737 - val_accuracy: 0.6667\n",
      "Epoch 24/60\n",
      "3/3 [==============================] - 0s 17ms/step - loss: 1.0365 - accuracy: 0.5169 - val_loss: 0.9731 - val_accuracy: 0.6667\n",
      "Epoch 25/60\n",
      "3/3 [==============================] - 0s 20ms/step - loss: 1.0363 - accuracy: 0.5169 - val_loss: 0.9725 - val_accuracy: 0.6667\n",
      "Epoch 26/60\n",
      "3/3 [==============================] - 0s 17ms/step - loss: 1.0360 - accuracy: 0.5169 - val_loss: 0.9718 - val_accuracy: 0.6667\n",
      "Epoch 27/60\n",
      "3/3 [==============================] - 0s 16ms/step - loss: 1.0358 - accuracy: 0.5169 - val_loss: 0.9710 - val_accuracy: 0.6667\n",
      "Epoch 28/60\n",
      "3/3 [==============================] - 0s 17ms/step - loss: 1.0356 - accuracy: 0.5169 - val_loss: 0.9704 - val_accuracy: 0.6667\n",
      "Epoch 29/60\n",
      "3/3 [==============================] - 0s 17ms/step - loss: 1.0354 - accuracy: 0.5169 - val_loss: 0.9697 - val_accuracy: 0.6667\n",
      "Epoch 30/60\n",
      "3/3 [==============================] - 0s 15ms/step - loss: 1.0350 - accuracy: 0.5169 - val_loss: 0.9690 - val_accuracy: 0.6667\n",
      "Epoch 31/60\n",
      "3/3 [==============================] - 0s 14ms/step - loss: 1.0348 - accuracy: 0.5169 - val_loss: 0.9684 - val_accuracy: 0.6667\n",
      "Epoch 32/60\n",
      "3/3 [==============================] - 0s 19ms/step - loss: 1.0346 - accuracy: 0.5169 - val_loss: 0.9677 - val_accuracy: 0.6667\n",
      "Epoch 33/60\n",
      "3/3 [==============================] - 0s 17ms/step - loss: 1.0344 - accuracy: 0.5169 - val_loss: 0.9671 - val_accuracy: 0.6667\n",
      "Epoch 34/60\n",
      "3/3 [==============================] - 0s 17ms/step - loss: 1.0341 - accuracy: 0.5169 - val_loss: 0.9664 - val_accuracy: 0.6667\n",
      "Epoch 35/60\n",
      "3/3 [==============================] - 0s 18ms/step - loss: 1.0339 - accuracy: 0.5169 - val_loss: 0.9658 - val_accuracy: 0.6667\n",
      "Epoch 36/60\n",
      "3/3 [==============================] - 0s 16ms/step - loss: 1.0337 - accuracy: 0.5169 - val_loss: 0.9653 - val_accuracy: 0.6667\n",
      "Epoch 37/60\n",
      "3/3 [==============================] - 0s 20ms/step - loss: 1.0335 - accuracy: 0.5169 - val_loss: 0.9647 - val_accuracy: 0.6667\n",
      "Epoch 38/60\n",
      "3/3 [==============================] - 0s 18ms/step - loss: 1.0334 - accuracy: 0.5169 - val_loss: 0.9641 - val_accuracy: 0.6667\n",
      "Epoch 39/60\n",
      "3/3 [==============================] - 0s 17ms/step - loss: 1.0332 - accuracy: 0.5169 - val_loss: 0.9635 - val_accuracy: 0.6667\n",
      "Epoch 40/60\n",
      "3/3 [==============================] - 0s 17ms/step - loss: 1.0330 - accuracy: 0.5169 - val_loss: 0.9631 - val_accuracy: 0.6667\n",
      "Epoch 41/60\n",
      "3/3 [==============================] - 0s 15ms/step - loss: 1.0328 - accuracy: 0.5169 - val_loss: 0.9626 - val_accuracy: 0.6667\n",
      "Epoch 42/60\n",
      "3/3 [==============================] - 0s 17ms/step - loss: 1.0326 - accuracy: 0.5169 - val_loss: 0.9620 - val_accuracy: 0.6667\n",
      "Epoch 43/60\n",
      "3/3 [==============================] - 0s 15ms/step - loss: 1.0324 - accuracy: 0.5169 - val_loss: 0.9616 - val_accuracy: 0.6667\n",
      "Epoch 44/60\n",
      "3/3 [==============================] - 0s 14ms/step - loss: 1.0323 - accuracy: 0.5169 - val_loss: 0.9611 - val_accuracy: 0.6667\n",
      "Epoch 45/60\n",
      "3/3 [==============================] - 0s 14ms/step - loss: 1.0322 - accuracy: 0.5169 - val_loss: 0.9605 - val_accuracy: 0.6667\n",
      "Epoch 46/60\n",
      "3/3 [==============================] - 0s 15ms/step - loss: 1.0320 - accuracy: 0.5169 - val_loss: 0.9599 - val_accuracy: 0.6667\n",
      "Epoch 47/60\n",
      "3/3 [==============================] - 0s 15ms/step - loss: 1.0317 - accuracy: 0.5169 - val_loss: 0.9593 - val_accuracy: 0.6667\n",
      "Epoch 48/60\n",
      "3/3 [==============================] - 0s 14ms/step - loss: 1.0316 - accuracy: 0.5169 - val_loss: 0.9588 - val_accuracy: 0.6667\n",
      "Epoch 49/60\n",
      "3/3 [==============================] - 0s 15ms/step - loss: 1.0315 - accuracy: 0.5169 - val_loss: 0.9584 - val_accuracy: 0.6667\n",
      "Epoch 50/60\n",
      "3/3 [==============================] - 0s 14ms/step - loss: 1.0314 - accuracy: 0.5169 - val_loss: 0.9579 - val_accuracy: 0.6667\n",
      "Epoch 51/60\n",
      "3/3 [==============================] - 0s 15ms/step - loss: 1.0311 - accuracy: 0.5169 - val_loss: 0.9574 - val_accuracy: 0.6667\n",
      "Epoch 52/60\n",
      "3/3 [==============================] - 0s 15ms/step - loss: 1.0311 - accuracy: 0.5169 - val_loss: 0.9570 - val_accuracy: 0.6667\n",
      "Epoch 53/60\n",
      "3/3 [==============================] - 0s 13ms/step - loss: 1.0309 - accuracy: 0.5169 - val_loss: 0.9566 - val_accuracy: 0.6667\n",
      "Epoch 54/60\n",
      "3/3 [==============================] - 0s 14ms/step - loss: 1.0307 - accuracy: 0.5169 - val_loss: 0.9561 - val_accuracy: 0.6667\n",
      "Epoch 55/60\n",
      "3/3 [==============================] - 0s 19ms/step - loss: 1.0306 - accuracy: 0.5169 - val_loss: 0.9556 - val_accuracy: 0.6667\n",
      "Epoch 56/60\n",
      "3/3 [==============================] - 0s 17ms/step - loss: 1.0305 - accuracy: 0.5169 - val_loss: 0.9552 - val_accuracy: 0.6667\n",
      "Epoch 57/60\n",
      "3/3 [==============================] - 0s 16ms/step - loss: 1.0303 - accuracy: 0.5169 - val_loss: 0.9548 - val_accuracy: 0.6667\n",
      "Epoch 58/60\n",
      "3/3 [==============================] - 0s 13ms/step - loss: 1.0302 - accuracy: 0.5169 - val_loss: 0.9543 - val_accuracy: 0.6667\n",
      "Epoch 59/60\n",
      "3/3 [==============================] - 0s 15ms/step - loss: 1.0301 - accuracy: 0.5169 - val_loss: 0.9539 - val_accuracy: 0.6667\n",
      "Epoch 60/60\n",
      "3/3 [==============================] - 0s 14ms/step - loss: 1.0300 - accuracy: 0.5169 - val_loss: 0.9535 - val_accuracy: 0.6667\n"
     ]
    }
   ],
   "source": [
    "run_logdir = get_run_logdir()\n",
    "tensorboard_cb = keras.callbacks.TensorBoard(run_logdir)\n",
    "history = model.fit(X_train, y_train, epochs=60, validation_data=(X_valid, y_valid), callbacks=[tensorboard_cb])"
   ]
  },
  {
   "cell_type": "code",
   "execution_count": 72,
   "id": "f6f35736-b9d0-4516-afb7-9a44036b2e08",
   "metadata": {},
   "outputs": [
    {
     "data": {
      "image/png": "[encoded data removed]",
      "text/plain": [
       "<Figure size 576x360 with 1 Axes>"
      ]
     },
     "metadata": {
      "needs_background": "light"
     },
     "output_type": "display_data"
    }
   ],
   "source": [
    "pd.DataFrame(history.history).plot(figsize=(8,5))\n",
    "plt.grid(True)\n",
    "plt.gca().set_ylim(0,1)\n",
    "plt.show()"
   ]
  },
  {
   "cell_type": "code",
   "execution_count": 73,
   "id": "0f4e6115-713b-4919-af99-02f6d68f6fd6",
   "metadata": {},
   "outputs": [
    {
     "name": "stdout",
     "output_type": "stream",
     "text": [
      "1/1 [==============================] - 0s 19ms/step - loss: 1.1447 - accuracy: 0.3000\n"
     ]
    },
    {
     "data": {
      "text/plain": [
       "[1.1447272300720215, 0.30000001192092896]"
      ]
     },
     "execution_count": 73,
     "metadata": {},
     "output_type": "execute_result"
    }
   ],
   "source": [
    "model.evaluate(X_test, y_test)"
   ]
  },
  {
   "cell_type": "code",
   "execution_count": 80,
   "id": "e6f73c0f-c14f-413e-91ac-52cdf3e7f74f",
   "metadata": {},
   "outputs": [
    {
     "data": {
      "text/plain": [
       "<tf.Tensor: shape=(30,), dtype=int64, numpy=\n",
       "array([1, 1, 1, 1, 1, 1, 1, 1, 1, 1, 1, 1, 1, 1, 1, 1, 1, 1, 1, 1, 1, 1,\n",
       "       1, 1, 1, 1, 1, 1, 1, 1], dtype=int64)>"
      ]
     },
     "execution_count": 80,
     "metadata": {},
     "output_type": "execute_result"
    }
   ],
   "source": [
    "y_proba = model.predict(X_test)\n",
    "indexes = tf.argmax(y_proba, axis=1)\n",
    "indexes"
   ]
  },
  {
   "cell_type": "code",
   "execution_count": 81,
   "id": "a18ca7bb-ccf7-4880-9e76-26a8cc37b0d9",
   "metadata": {},
   "outputs": [],
   "source": [
    "resultdf = pd.DataFrame(indexes)\n",
    "resultdf[\"Change Group\"] = \"Unknown\"\n",
    "resultdf.loc[resultdf[0] == 0, 'Change Group'] = \"Decrease\"\n",
    "resultdf.loc[resultdf[0] == 1, 'Change Group'] = \"No Change\"\n",
    "resultdf.loc[resultdf[0] == 2, 'Change Group'] = \"Increase\""
   ]
  },
  {
   "cell_type": "code",
   "execution_count": 82,
   "id": "00ec2d46-5017-42b9-979d-63156c135567",
   "metadata": {},
   "outputs": [
    {
     "data": {
      "text/plain": [
       "Text(0, 0.5, '')"
      ]
     },
     "execution_count": 82,
     "metadata": {},
     "output_type": "execute_result"
    },
    {
     "data": {
      "image/png": "[encoded data removed]",
      "text/plain": [
       "<Figure size 432x288 with 1 Axes>"
      ]
     },
     "metadata": {},
     "output_type": "display_data"
    }
   ],
   "source": [
    "ax = resultdf[\"Change Group\"].value_counts().plot.pie(autopct='%1.0f%%', title=\"Change Group\", legend=False)\n",
    "ax.set_ylabel('')"
   ]
  },
  {
   "cell_type": "code",
   "execution_count": 76,
   "id": "a2268c98-9112-41e2-a007-0192a1161ea4",
   "metadata": {},
   "outputs": [
    {
     "data": {
      "text/plain": [
       "array([[0.25, 0.47, 0.28],\n",
       "       [0.25, 0.47, 0.28],\n",
       "       [0.25, 0.47, 0.28],\n",
       "       [0.25, 0.47, 0.28],\n",
       "       [0.25, 0.47, 0.28],\n",
       "       [0.25, 0.47, 0.28],\n",
       "       [0.25, 0.47, 0.28],\n",
       "       [0.25, 0.47, 0.28],\n",
       "       [0.25, 0.47, 0.28],\n",
       "       [0.25, 0.47, 0.28],\n",
       "       [0.25, 0.47, 0.28],\n",
       "       [0.25, 0.47, 0.28],\n",
       "       [0.25, 0.47, 0.28],\n",
       "       [0.25, 0.47, 0.28],\n",
       "       [0.25, 0.47, 0.28],\n",
       "       [0.25, 0.47, 0.28],\n",
       "       [0.25, 0.47, 0.28],\n",
       "       [0.25, 0.47, 0.28],\n",
       "       [0.25, 0.47, 0.28],\n",
       "       [0.25, 0.47, 0.28],\n",
       "       [0.25, 0.47, 0.28],\n",
       "       [0.25, 0.47, 0.28],\n",
       "       [0.25, 0.47, 0.28],\n",
       "       [0.25, 0.47, 0.28],\n",
       "       [0.25, 0.47, 0.28],\n",
       "       [0.25, 0.47, 0.28],\n",
       "       [0.25, 0.47, 0.28],\n",
       "       [0.25, 0.47, 0.28],\n",
       "       [0.25, 0.47, 0.28],\n",
       "       [0.25, 0.47, 0.28]], dtype=float32)"
      ]
     },
     "execution_count": 76,
     "metadata": {},
     "output_type": "execute_result"
    }
   ],
   "source": [
    "y_proba = model.predict(X_test)\n",
    "y_proba.round(2)"
   ]
  },
  {
   "cell_type": "code",
   "execution_count": 75,
   "id": "c1a1f2b8-4574-427b-9af4-1ccb442bf69a",
   "metadata": {},
   "outputs": [
    {
     "data": {
      "text/plain": [
       "array([[2.15257143e-01, 3.53000000e-01, 1.38000000e+02, 2.23880000e-01,\n",
       "        4.90753031e-01, 2.36363636e-01, 3.09090909e-01],\n",
       "       [4.08771429e-01, 4.99000000e-01, 4.31000000e+02, 4.08200000e-01,\n",
       "        4.91647445e-01, 1.75757576e-01, 3.81818182e-01],\n",
       "       [2.12257143e-01, 3.24000000e-01, 1.95000000e+02, 2.07800000e-01,\n",
       "        9.17866918e-01, 2.42424242e-01, 3.51515152e-01],\n",
       "       [1.94428571e-01, 3.75000000e-01, 6.60000000e+01, 1.88040000e-01,\n",
       "        5.84398726e-01, 2.78787879e-01, 2.72727273e-01],\n",
       "       [2.18085714e-01, 3.80000000e-01, 1.49000000e+02, 2.16480000e-01,\n",
       "        5.61924101e-01, 1.81818182e-01, 3.81818182e-01],\n",
       "       [2.61428571e-01, 4.09000000e-01, 1.74000000e+02, 2.47760000e-01,\n",
       "        6.20491803e-01, 2.54545455e-01, 3.15151515e-01],\n",
       "       [1.61085714e-01, 3.21000000e-01, 1.29000000e+02, 1.62120000e-01,\n",
       "        5.20160814e-01, 2.66666667e-01, 3.57575758e-01],\n",
       "       [1.96285714e-01, 2.78000000e-01, 1.67000000e+02, 1.94680000e-01,\n",
       "        4.95220767e-01, 2.78787879e-01, 2.90909091e-01],\n",
       "       [1.95828571e-01, 2.64000000e-01, 1.79000000e+02, 1.87800000e-01,\n",
       "        5.96610252e-01, 2.06060606e-01, 3.63636364e-01],\n",
       "       [2.32257143e-01, 3.61000000e-01, 1.01000000e+02, 2.11000000e-01,\n",
       "        5.74650429e-01, 2.42424242e-01, 2.90909091e-01],\n",
       "       [2.88542857e-01, 4.27000000e-01, 1.88000000e+02, 2.92440000e-01,\n",
       "        5.96082120e-01, 2.18181818e-01, 2.84848485e-01],\n",
       "       [3.37914286e-01, 5.99000000e-01, 1.32000000e+02, 3.20760000e-01,\n",
       "        5.98869818e-01, 2.00000000e-01, 2.36363636e-01],\n",
       "       [3.79914286e-01, 5.42000000e-01, 2.87000000e+02, 2.76520000e-01,\n",
       "        6.26720313e-01, 2.12121212e-01, 3.39393939e-01],\n",
       "       [1.55628571e-01, 3.15000000e-01, 1.05000000e+02, 1.57800000e-01,\n",
       "        6.08622483e-01, 2.48484848e-01, 2.66666667e-01],\n",
       "       [2.07657143e-01, 3.10000000e-01, 2.33000000e+02, 2.12360000e-01,\n",
       "        5.35475142e-01, 2.12121212e-01, 2.90909091e-01],\n",
       "       [1.84000000e-01, 3.29000000e-01, 6.90000000e+01, 1.79000000e-01,\n",
       "        5.90967909e-01, 2.96969697e-01, 2.36363636e-01],\n",
       "       [2.50828571e-01, 3.76000000e-01, 2.25000000e+02, 2.58560000e-01,\n",
       "        5.21262862e-01, 1.87878788e-01, 3.39393939e-01],\n",
       "       [2.51257143e-01, 4.28000000e-01, 2.38000000e+02, 2.37480000e-01,\n",
       "        5.65480252e-01, 2.12121212e-01, 2.90909091e-01],\n",
       "       [2.39771429e-01, 3.92000000e-01, 1.18000000e+02, 2.37720000e-01,\n",
       "        7.09902288e-01, 2.48484848e-01, 3.15151515e-01],\n",
       "       [4.19485714e-01, 7.23000000e-01, 1.82000000e+02, 3.94520000e-01,\n",
       "        6.57414975e-01, 1.93939394e-01, 3.27272727e-01],\n",
       "       [1.70600000e-01, 2.59000000e-01, 8.80000000e+01, 1.71560000e-01,\n",
       "        6.48523419e-01, 2.06060606e-01, 3.27272727e-01],\n",
       "       [1.63514286e-01, 2.89000000e-01, 1.36000000e+02, 1.43240000e-01,\n",
       "        7.26949735e-01, 2.66666667e-01, 3.21212121e-01],\n",
       "       [1.85857143e-01, 2.62000000e-01, 1.40000000e+02, 1.78520000e-01,\n",
       "        5.94722009e-01, 2.42424242e-01, 2.90909091e-01],\n",
       "       [3.35542857e-01, 5.21000000e-01, 3.25000000e+02, 3.35240000e-01,\n",
       "        5.11410082e-01, 2.24242424e-01, 2.96969697e-01],\n",
       "       [1.38714286e-01, 2.39000000e-01, 7.90000000e+01, 1.34800000e-01,\n",
       "        6.47682801e-01, 1.81818182e-01, 3.27272727e-01],\n",
       "       [2.97857143e-01, 3.66000000e-01, 2.31000000e+02, 2.92840000e-01,\n",
       "        5.82525979e-01, 2.48484848e-01, 3.03030303e-01],\n",
       "       [2.44914286e-01, 2.83000000e-01, 2.93000000e+02, 2.53720000e-01,\n",
       "        5.18723752e-01, 2.00000000e-01, 3.15151515e-01],\n",
       "       [1.76285714e-01, 2.50000000e-01, 1.83000000e+02, 1.78280000e-01,\n",
       "        4.82982172e-01, 1.75757576e-01, 3.15151515e-01],\n",
       "       [2.35942857e-01, 4.33000000e-01, 1.71000000e+02, 2.34600000e-01,\n",
       "        5.02078792e-01, 2.00000000e-01, 2.90909091e-01],\n",
       "       [1.82342857e-01, 2.67000000e-01, 1.07000000e+02, 1.79200000e-01,\n",
       "        5.48260733e-01, 2.36363636e-01, 3.45454545e-01]])"
      ]
     },
     "execution_count": 75,
     "metadata": {},
     "output_type": "execute_result"
    }
   ],
   "source": [
    "X_test"
   ]
  },
  {
   "cell_type": "code",
   "execution_count": null,
   "id": "e64cdffa-cc33-4804-ae28-d8556cd7af08",
   "metadata": {},
   "outputs": [],
   "source": []
  }
 ],
 "metadata": {
  "kernelspec": {
   "display_name": "Python 3",
   "language": "python",
   "name": "python3"
  },
  "language_info": {
   "codemirror_mode": {
    "name": "ipython",
    "version": 3
   },
   "file_extension": ".py",
   "mimetype": "text/x-python",
   "name": "python",
   "nbconvert_exporter": "python",
   "pygments_lexer": "ipython3",
   "version": "3.9.5"
  }
 },
 "nbformat": 4,
 "nbformat_minor": 5
}
