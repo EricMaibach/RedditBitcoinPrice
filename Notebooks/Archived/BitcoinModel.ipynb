{
 "cells": [
  {
   "cell_type": "code",
   "execution_count": 1,
   "id": "442ce0de-1b47-42bd-a8cb-5d57eefab6eb",
   "metadata": {},
   "outputs": [],
   "source": [
    "import tensorflow as tf\n",
    "from tensorflow import keras\n",
    "import pandas as pd\n",
    "import matplotlib.pyplot as plt\n",
    "import numpy as np\n",
    "from sklearn.model_selection import train_test_split\n",
    "import os\n",
    "import time"
   ]
  },
  {
   "cell_type": "markdown",
   "id": "25d6d9ae-d080-47da-9ece-b4f73db4cb35",
   "metadata": {},
   "source": [
    "# Read in the Bitcoin data"
   ]
  },
  {
   "cell_type": "code",
   "execution_count": 2,
   "id": "359b071b-d737-48e9-a7b0-257046b4934c",
   "metadata": {},
   "outputs": [],
   "source": [
    "bitcoindf = pd.read_csv(\"dfbitcoin.csv\")"
   ]
  },
  {
   "cell_type": "markdown",
   "id": "7f363af1-0386-42e2-8834-ec12b65d9cdb",
   "metadata": {},
   "source": [
    "# Transform the data\n",
    "## Get the next day change %"
   ]
  },
  {
   "cell_type": "code",
   "execution_count": 3,
   "id": "7ee36e89-4d0f-47fe-acd2-a727788b9412",
   "metadata": {},
   "outputs": [],
   "source": [
    "bitcoindf[\"Change %\"] = bitcoindf[\"Change %\"].str.rstrip('%').astype('float') / 100.0"
   ]
  },
  {
   "cell_type": "code",
   "execution_count": 4,
   "id": "b5c5d291-0aca-41e2-ba10-637db75156ef",
   "metadata": {},
   "outputs": [],
   "source": [
    "bitcoindf[\"NextDayChange\"] = bitcoindf[\"Change %\"].shift(-1)"
   ]
  },
  {
   "cell_type": "code",
   "execution_count": 5,
   "id": "049f03e1-380e-4d88-b9a8-f7f00ec3b4f0",
   "metadata": {},
   "outputs": [],
   "source": [
    "bitcoindf = bitcoindf.dropna()"
   ]
  },
  {
   "cell_type": "markdown",
   "id": "890aac9d-b0f1-4297-81ef-97723faa0d32",
   "metadata": {},
   "source": [
    "## Categorize the data base on what the change was"
   ]
  },
  {
   "cell_type": "code",
   "execution_count": 6,
   "id": "2625c7ef-06b1-4f37-90ea-df9e9a0ba69d",
   "metadata": {},
   "outputs": [],
   "source": [
    "conditions = [\n",
    "               (bitcoindf[\"NextDayChange\"] <= -0.025), \n",
    "               (bitcoindf[\"NextDayChange\"] > -0.025) & (bitcoindf[\"NextDayChange\"] < 0.025),\n",
    "               (bitcoindf[\"NextDayChange\"] >= 0.025)\n",
    "             ]\n",
    "values = [0, 1, 2]\n",
    "bitcoindf['ChangeGroup'] = np.select(conditions, values)"
   ]
  },
  {
   "cell_type": "markdown",
   "id": "d384074e-74e1-48ae-adb5-b7b05e3fd82f",
   "metadata": {},
   "source": [
    "## Trim it down to just the columns we are interested in"
   ]
  },
  {
   "cell_type": "code",
   "execution_count": 7,
   "id": "a28823dd-3a5a-4567-8ee7-a9154b82a040",
   "metadata": {},
   "outputs": [],
   "source": [
    "bitcoindf = bitcoindf[[\"CommentCount\", \"PremiumCount\", \"Controversiality\", \"FollowCount\", \"Score\", \"PositivePerc\", \"NegativePerc\", \"ChangeGroup\"]].copy()"
   ]
  },
  {
   "cell_type": "code",
   "execution_count": 8,
   "id": "ba5122a2-d776-4336-8c39-5d3194b5933b",
   "metadata": {},
   "outputs": [
    {
     "data": {
      "text/html": [
       "<div>\n",
       "<style scoped>\n",
       "    .dataframe tbody tr th:only-of-type {\n",
       "        vertical-align: middle;\n",
       "    }\n",
       "\n",
       "    .dataframe tbody tr th {\n",
       "        vertical-align: top;\n",
       "    }\n",
       "\n",
       "    .dataframe thead th {\n",
       "        text-align: right;\n",
       "    }\n",
       "</style>\n",
       "<table border=\"1\" class=\"dataframe\">\n",
       "  <thead>\n",
       "    <tr style=\"text-align: right;\">\n",
       "      <th></th>\n",
       "      <th>CommentCount</th>\n",
       "      <th>PremiumCount</th>\n",
       "      <th>Controversiality</th>\n",
       "      <th>FollowCount</th>\n",
       "      <th>Score</th>\n",
       "      <th>PositivePerc</th>\n",
       "      <th>NegativePerc</th>\n",
       "      <th>ChangeGroup</th>\n",
       "    </tr>\n",
       "  </thead>\n",
       "  <tbody>\n",
       "    <tr>\n",
       "      <th>count</th>\n",
       "      <td>149.000000</td>\n",
       "      <td>149.000000</td>\n",
       "      <td>149.000000</td>\n",
       "      <td>149.000000</td>\n",
       "      <td>149.000000</td>\n",
       "      <td>149.000000</td>\n",
       "      <td>149.000000</td>\n",
       "      <td>149.000000</td>\n",
       "    </tr>\n",
       "    <tr>\n",
       "      <th>mean</th>\n",
       "      <td>8664.140940</td>\n",
       "      <td>389.275168</td>\n",
       "      <td>174.134228</td>\n",
       "      <td>5990.127517</td>\n",
       "      <td>3.654199</td>\n",
       "      <td>0.233842</td>\n",
       "      <td>0.299085</td>\n",
       "      <td>1.053691</td>\n",
       "    </tr>\n",
       "    <tr>\n",
       "      <th>std</th>\n",
       "      <td>3248.810023</td>\n",
       "      <td>130.416944</td>\n",
       "      <td>80.273490</td>\n",
       "      <td>2316.985044</td>\n",
       "      <td>0.501808</td>\n",
       "      <td>0.038705</td>\n",
       "      <td>0.040959</td>\n",
       "      <td>0.705052</td>\n",
       "    </tr>\n",
       "    <tr>\n",
       "      <th>min</th>\n",
       "      <td>4598.000000</td>\n",
       "      <td>186.000000</td>\n",
       "      <td>64.000000</td>\n",
       "      <td>2626.000000</td>\n",
       "      <td>2.762252</td>\n",
       "      <td>0.139394</td>\n",
       "      <td>0.200000</td>\n",
       "      <td>0.000000</td>\n",
       "    </tr>\n",
       "    <tr>\n",
       "      <th>25%</th>\n",
       "      <td>6440.000000</td>\n",
       "      <td>290.000000</td>\n",
       "      <td>121.000000</td>\n",
       "      <td>4463.000000</td>\n",
       "      <td>3.319198</td>\n",
       "      <td>0.206061</td>\n",
       "      <td>0.278788</td>\n",
       "      <td>1.000000</td>\n",
       "    </tr>\n",
       "    <tr>\n",
       "      <th>50%</th>\n",
       "      <td>8129.000000</td>\n",
       "      <td>371.000000</td>\n",
       "      <td>157.000000</td>\n",
       "      <td>5461.000000</td>\n",
       "      <td>3.610241</td>\n",
       "      <td>0.230303</td>\n",
       "      <td>0.296970</td>\n",
       "      <td>1.000000</td>\n",
       "    </tr>\n",
       "    <tr>\n",
       "      <th>75%</th>\n",
       "      <td>9837.000000</td>\n",
       "      <td>446.000000</td>\n",
       "      <td>203.000000</td>\n",
       "      <td>6831.000000</td>\n",
       "      <td>3.924452</td>\n",
       "      <td>0.260606</td>\n",
       "      <td>0.321212</td>\n",
       "      <td>2.000000</td>\n",
       "    </tr>\n",
       "    <tr>\n",
       "      <th>max</th>\n",
       "      <td>27282.000000</td>\n",
       "      <td>931.000000</td>\n",
       "      <td>600.000000</td>\n",
       "      <td>19345.000000</td>\n",
       "      <td>5.507202</td>\n",
       "      <td>0.321212</td>\n",
       "      <td>0.418182</td>\n",
       "      <td>2.000000</td>\n",
       "    </tr>\n",
       "  </tbody>\n",
       "</table>\n",
       "</div>"
      ],
      "text/plain": [
       "       CommentCount  PremiumCount  Controversiality   FollowCount       Score  \\\n",
       "count    149.000000    149.000000        149.000000    149.000000  149.000000   \n",
       "mean    8664.140940    389.275168        174.134228   5990.127517    3.654199   \n",
       "std     3248.810023    130.416944         80.273490   2316.985044    0.501808   \n",
       "min     4598.000000    186.000000         64.000000   2626.000000    2.762252   \n",
       "25%     6440.000000    290.000000        121.000000   4463.000000    3.319198   \n",
       "50%     8129.000000    371.000000        157.000000   5461.000000    3.610241   \n",
       "75%     9837.000000    446.000000        203.000000   6831.000000    3.924452   \n",
       "max    27282.000000    931.000000        600.000000  19345.000000    5.507202   \n",
       "\n",
       "       PositivePerc  NegativePerc  ChangeGroup  \n",
       "count    149.000000    149.000000   149.000000  \n",
       "mean       0.233842      0.299085     1.053691  \n",
       "std        0.038705      0.040959     0.705052  \n",
       "min        0.139394      0.200000     0.000000  \n",
       "25%        0.206061      0.278788     1.000000  \n",
       "50%        0.230303      0.296970     1.000000  \n",
       "75%        0.260606      0.321212     2.000000  \n",
       "max        0.321212      0.418182     2.000000  "
      ]
     },
     "execution_count": 8,
     "metadata": {},
     "output_type": "execute_result"
    }
   ],
   "source": [
    "bitcoindf.describe()"
   ]
  },
  {
   "cell_type": "markdown",
   "id": "d9568bad-e6bb-4c23-96dc-bce5d64b9537",
   "metadata": {},
   "source": [
    "## Scale the data"
   ]
  },
  {
   "cell_type": "code",
   "execution_count": 9,
   "id": "b110316e-e646-4798-acdb-ac7edad88fa0",
   "metadata": {},
   "outputs": [],
   "source": [
    "bitcoindf[\"CommentCount\"] = bitcoindf[\"CommentCount\"] / 35000"
   ]
  },
  {
   "cell_type": "code",
   "execution_count": 10,
   "id": "35bfe730-c5f1-41bf-9682-36e12a282eee",
   "metadata": {},
   "outputs": [],
   "source": [
    "bitcoindf[\"PremiumCount\"] = bitcoindf[\"PremiumCount\"] / 1000"
   ]
  },
  {
   "cell_type": "code",
   "execution_count": 11,
   "id": "e2cdcbc4-8b12-4568-9cb4-ad4cf6331273",
   "metadata": {},
   "outputs": [],
   "source": [
    "bitcoindf[\"FollowCount\"] = bitcoindf[\"FollowCount\"] / 25000"
   ]
  },
  {
   "cell_type": "code",
   "execution_count": 12,
   "id": "d1ed9e9c-b2b1-41a0-bf59-1b80acb1449d",
   "metadata": {},
   "outputs": [],
   "source": [
    "bitcoindf[\"Score\"] = bitcoindf[\"Score\"] / 6"
   ]
  },
  {
   "cell_type": "markdown",
   "id": "9a605b99-bb8c-4c6c-ad5d-cbc74cebdd6f",
   "metadata": {},
   "source": [
    "# Create train, test, and validation data sets"
   ]
  },
  {
   "cell_type": "code",
   "execution_count": 13,
   "id": "a06477a6-5521-4435-b6d4-83ab9d5cdc34",
   "metadata": {},
   "outputs": [],
   "source": [
    "bitcoin_train, bitcoin_test = train_test_split(bitcoindf, test_size=0.4)"
   ]
  },
  {
   "cell_type": "code",
   "execution_count": 14,
   "id": "9add4951-361b-43c3-95a4-1a407514ed09",
   "metadata": {},
   "outputs": [],
   "source": [
    "bitcoin_test, bitcoin_valid = train_test_split(bitcoin_test, test_size=0.5)"
   ]
  },
  {
   "cell_type": "code",
   "execution_count": 15,
   "id": "ccd4665f-0a40-4646-9de1-e14e99827647",
   "metadata": {},
   "outputs": [],
   "source": [
    "X_train = bitcoin_train[[\"CommentCount\", \"PremiumCount\", \"Controversiality\", \"FollowCount\", \"Score\", \"PositivePerc\", \"NegativePerc\"]].to_numpy()"
   ]
  },
  {
   "cell_type": "code",
   "execution_count": 16,
   "id": "25feea20-a2af-4363-83b1-ed6e80c5d004",
   "metadata": {},
   "outputs": [],
   "source": [
    "y_train = bitcoin_train[[\"ChangeGroup\"]].to_numpy()"
   ]
  },
  {
   "cell_type": "code",
   "execution_count": 17,
   "id": "93955940-3a94-4e22-8329-c5c145ef5be7",
   "metadata": {},
   "outputs": [],
   "source": [
    "X_test = bitcoin_test[[\"CommentCount\", \"PremiumCount\", \"Controversiality\", \"FollowCount\", \"Score\", \"PositivePerc\", \"NegativePerc\"]].to_numpy()"
   ]
  },
  {
   "cell_type": "code",
   "execution_count": 18,
   "id": "c3c9d681-ff97-40e6-adc1-de2bbec50114",
   "metadata": {},
   "outputs": [],
   "source": [
    "y_test = bitcoin_test[[\"ChangeGroup\"]].to_numpy()"
   ]
  },
  {
   "cell_type": "code",
   "execution_count": 19,
   "id": "2f3ea061-447c-4e18-a41b-c958f33a0208",
   "metadata": {},
   "outputs": [],
   "source": [
    "X_valid = bitcoin_valid[[\"CommentCount\", \"PremiumCount\", \"Controversiality\", \"FollowCount\", \"Score\", \"PositivePerc\", \"NegativePerc\"]].to_numpy()"
   ]
  },
  {
   "cell_type": "code",
   "execution_count": 20,
   "id": "841f9a4c-de3a-406a-995b-197afd95635d",
   "metadata": {},
   "outputs": [],
   "source": [
    "y_valid = bitcoin_valid[[\"ChangeGroup\"]].to_numpy()"
   ]
  },
  {
   "cell_type": "code",
   "execution_count": 21,
   "id": "c64a4d18-79e9-49ed-938a-5774e7ce2ad4",
   "metadata": {},
   "outputs": [
    {
     "data": {
      "text/html": [
       "<div>\n",
       "<style scoped>\n",
       "    .dataframe tbody tr th:only-of-type {\n",
       "        vertical-align: middle;\n",
       "    }\n",
       "\n",
       "    .dataframe tbody tr th {\n",
       "        vertical-align: top;\n",
       "    }\n",
       "\n",
       "    .dataframe thead th {\n",
       "        text-align: right;\n",
       "    }\n",
       "</style>\n",
       "<table border=\"1\" class=\"dataframe\">\n",
       "  <thead>\n",
       "    <tr style=\"text-align: right;\">\n",
       "      <th></th>\n",
       "      <th>ChangeGroup</th>\n",
       "    </tr>\n",
       "  </thead>\n",
       "  <tbody>\n",
       "    <tr>\n",
       "      <th>count</th>\n",
       "      <td>89.000000</td>\n",
       "    </tr>\n",
       "    <tr>\n",
       "      <th>mean</th>\n",
       "      <td>1.067416</td>\n",
       "    </tr>\n",
       "    <tr>\n",
       "      <th>std</th>\n",
       "      <td>0.687515</td>\n",
       "    </tr>\n",
       "    <tr>\n",
       "      <th>min</th>\n",
       "      <td>0.000000</td>\n",
       "    </tr>\n",
       "    <tr>\n",
       "      <th>25%</th>\n",
       "      <td>1.000000</td>\n",
       "    </tr>\n",
       "    <tr>\n",
       "      <th>50%</th>\n",
       "      <td>1.000000</td>\n",
       "    </tr>\n",
       "    <tr>\n",
       "      <th>75%</th>\n",
       "      <td>2.000000</td>\n",
       "    </tr>\n",
       "    <tr>\n",
       "      <th>max</th>\n",
       "      <td>2.000000</td>\n",
       "    </tr>\n",
       "  </tbody>\n",
       "</table>\n",
       "</div>"
      ],
      "text/plain": [
       "       ChangeGroup\n",
       "count    89.000000\n",
       "mean      1.067416\n",
       "std       0.687515\n",
       "min       0.000000\n",
       "25%       1.000000\n",
       "50%       1.000000\n",
       "75%       2.000000\n",
       "max       2.000000"
      ]
     },
     "execution_count": 21,
     "metadata": {},
     "output_type": "execute_result"
    }
   ],
   "source": [
    "bitcoin_train[[\"ChangeGroup\"]].describe()"
   ]
  },
  {
   "cell_type": "code",
   "execution_count": 22,
   "id": "a03c9513-214e-4381-ae04-d0070587e82c",
   "metadata": {},
   "outputs": [
    {
     "data": {
      "text/html": [
       "<div>\n",
       "<style scoped>\n",
       "    .dataframe tbody tr th:only-of-type {\n",
       "        vertical-align: middle;\n",
       "    }\n",
       "\n",
       "    .dataframe tbody tr th {\n",
       "        vertical-align: top;\n",
       "    }\n",
       "\n",
       "    .dataframe thead th {\n",
       "        text-align: right;\n",
       "    }\n",
       "</style>\n",
       "<table border=\"1\" class=\"dataframe\">\n",
       "  <thead>\n",
       "    <tr style=\"text-align: right;\">\n",
       "      <th></th>\n",
       "      <th>ChangeGroup</th>\n",
       "    </tr>\n",
       "  </thead>\n",
       "  <tbody>\n",
       "    <tr>\n",
       "      <th>count</th>\n",
       "      <td>47.0</td>\n",
       "    </tr>\n",
       "    <tr>\n",
       "      <th>mean</th>\n",
       "      <td>1.0</td>\n",
       "    </tr>\n",
       "    <tr>\n",
       "      <th>std</th>\n",
       "      <td>0.0</td>\n",
       "    </tr>\n",
       "    <tr>\n",
       "      <th>min</th>\n",
       "      <td>1.0</td>\n",
       "    </tr>\n",
       "    <tr>\n",
       "      <th>25%</th>\n",
       "      <td>1.0</td>\n",
       "    </tr>\n",
       "    <tr>\n",
       "      <th>50%</th>\n",
       "      <td>1.0</td>\n",
       "    </tr>\n",
       "    <tr>\n",
       "      <th>75%</th>\n",
       "      <td>1.0</td>\n",
       "    </tr>\n",
       "    <tr>\n",
       "      <th>max</th>\n",
       "      <td>1.0</td>\n",
       "    </tr>\n",
       "  </tbody>\n",
       "</table>\n",
       "</div>"
      ],
      "text/plain": [
       "       ChangeGroup\n",
       "count         47.0\n",
       "mean           1.0\n",
       "std            0.0\n",
       "min            1.0\n",
       "25%            1.0\n",
       "50%            1.0\n",
       "75%            1.0\n",
       "max            1.0"
      ]
     },
     "execution_count": 22,
     "metadata": {},
     "output_type": "execute_result"
    }
   ],
   "source": [
    "bitcoin_train[bitcoin_train[\"ChangeGroup\"] == 1][[\"ChangeGroup\"]].describe()"
   ]
  },
  {
   "cell_type": "markdown",
   "id": "a63b324e-4260-4b52-bb41-99236effdbd2",
   "metadata": {},
   "source": [
    "# Build neural network model"
   ]
  },
  {
   "cell_type": "code",
   "execution_count": 23,
   "id": "f8065063-8c54-4a26-bf8d-194aa2b895f5",
   "metadata": {},
   "outputs": [],
   "source": [
    "root_logdir = os.path.join(os.curdir, \"tensor_logs\")\n",
    "def get_run_logdir():\n",
    "    run_id = time.strftime(\"run_%Y_%m_%d-%H_%M_%S\")\n",
    "    return os.path.join(root_logdir, run_id)"
   ]
  },
  {
   "cell_type": "code",
   "execution_count": 24,
   "id": "0fbb1108-cbef-49c8-b1c3-e98735521345",
   "metadata": {},
   "outputs": [],
   "source": [
    "model = keras.models.Sequential()\n",
    "model.add(keras.layers.InputLayer(input_shape=[7,]))\n",
    "model.add(keras.layers.Dense(10, activation=\"relu\"))\n",
    "model.add(keras.layers.Dense(3, activation=\"softmax\"))"
   ]
  },
  {
   "cell_type": "code",
   "execution_count": 25,
   "id": "6d4811c4-28b1-41bc-b47f-41364ec478e1",
   "metadata": {},
   "outputs": [
    {
     "name": "stdout",
     "output_type": "stream",
     "text": [
      "Model: \"sequential\"\n",
      "_________________________________________________________________\n",
      "Layer (type)                 Output Shape              Param #   \n",
      "=================================================================\n",
      "dense (Dense)                (None, 10)                80        \n",
      "_________________________________________________________________\n",
      "dense_1 (Dense)              (None, 3)                 33        \n",
      "=================================================================\n",
      "Total params: 113\n",
      "Trainable params: 113\n",
      "Non-trainable params: 0\n",
      "_________________________________________________________________\n"
     ]
    }
   ],
   "source": [
    "model.summary()"
   ]
  },
  {
   "cell_type": "code",
   "execution_count": 26,
   "id": "44b0084f-e371-40f2-a990-683e3b95b25f",
   "metadata": {},
   "outputs": [],
   "source": [
    "model.compile(loss=\"sparse_categorical_crossentropy\", optimizer=\"sgd\", metrics=[\"accuracy\"])"
   ]
  },
  {
   "cell_type": "code",
   "execution_count": 27,
   "id": "80496964-1b88-45bd-996d-5004ae3a6154",
   "metadata": {},
   "outputs": [
    {
     "name": "stdout",
     "output_type": "stream",
     "text": [
      "Epoch 1/60\n",
      "3/3 [==============================] - 1s 287ms/step - loss: 22.8428 - accuracy: 0.3820 - val_loss: 1.0981 - val_accuracy: 0.3333\n",
      "Epoch 2/60\n",
      "3/3 [==============================] - 0s 17ms/step - loss: 1.0976 - accuracy: 0.4045 - val_loss: 1.0976 - val_accuracy: 0.4000\n",
      "Epoch 3/60\n",
      "3/3 [==============================] - 0s 17ms/step - loss: 1.0959 - accuracy: 0.5281 - val_loss: 1.0971 - val_accuracy: 0.4000\n",
      "Epoch 4/60\n",
      "3/3 [==============================] - 0s 13ms/step - loss: 1.0942 - accuracy: 0.5281 - val_loss: 1.0966 - val_accuracy: 0.4000\n",
      "Epoch 5/60\n",
      "3/3 [==============================] - 0s 17ms/step - loss: 1.0924 - accuracy: 0.5281 - val_loss: 1.0962 - val_accuracy: 0.4000\n",
      "Epoch 6/60\n",
      "3/3 [==============================] - 0s 13ms/step - loss: 1.0908 - accuracy: 0.5281 - val_loss: 1.0958 - val_accuracy: 0.4000\n",
      "Epoch 7/60\n",
      "3/3 [==============================] - 0s 13ms/step - loss: 1.0892 - accuracy: 0.5281 - val_loss: 1.0954 - val_accuracy: 0.4000\n",
      "Epoch 8/60\n",
      "3/3 [==============================] - 0s 13ms/step - loss: 1.0877 - accuracy: 0.5281 - val_loss: 1.0951 - val_accuracy: 0.4000\n",
      "Epoch 9/60\n",
      "3/3 [==============================] - 0s 13ms/step - loss: 1.0860 - accuracy: 0.5281 - val_loss: 1.0947 - val_accuracy: 0.4000\n",
      "Epoch 10/60\n",
      "3/3 [==============================] - 0s 14ms/step - loss: 1.0845 - accuracy: 0.5281 - val_loss: 1.0944 - val_accuracy: 0.4000\n",
      "Epoch 11/60\n",
      "3/3 [==============================] - 0s 13ms/step - loss: 1.0830 - accuracy: 0.5281 - val_loss: 1.0941 - val_accuracy: 0.4000\n",
      "Epoch 12/60\n",
      "3/3 [==============================] - 0s 13ms/step - loss: 1.0816 - accuracy: 0.5281 - val_loss: 1.0938 - val_accuracy: 0.4000\n",
      "Epoch 13/60\n",
      "3/3 [==============================] - 0s 14ms/step - loss: 1.0802 - accuracy: 0.5281 - val_loss: 1.0935 - val_accuracy: 0.4000\n",
      "Epoch 14/60\n",
      "3/3 [==============================] - 0s 13ms/step - loss: 1.0788 - accuracy: 0.5281 - val_loss: 1.0932 - val_accuracy: 0.4000\n",
      "Epoch 15/60\n",
      "3/3 [==============================] - 0s 14ms/step - loss: 1.0774 - accuracy: 0.5281 - val_loss: 1.0930 - val_accuracy: 0.4000\n",
      "Epoch 16/60\n",
      "3/3 [==============================] - 0s 16ms/step - loss: 1.0761 - accuracy: 0.5281 - val_loss: 1.0927 - val_accuracy: 0.4000\n",
      "Epoch 17/60\n",
      "3/3 [==============================] - 0s 16ms/step - loss: 1.0747 - accuracy: 0.5281 - val_loss: 1.0925 - val_accuracy: 0.4000\n",
      "Epoch 18/60\n",
      "3/3 [==============================] - 0s 12ms/step - loss: 1.0735 - accuracy: 0.5281 - val_loss: 1.0923 - val_accuracy: 0.4000\n",
      "Epoch 19/60\n",
      "3/3 [==============================] - 0s 19ms/step - loss: 1.0723 - accuracy: 0.5281 - val_loss: 1.0921 - val_accuracy: 0.4000\n",
      "Epoch 20/60\n",
      "3/3 [==============================] - 0s 15ms/step - loss: 1.0711 - accuracy: 0.5281 - val_loss: 1.0920 - val_accuracy: 0.4000\n",
      "Epoch 21/60\n",
      "3/3 [==============================] - 0s 15ms/step - loss: 1.0699 - accuracy: 0.5281 - val_loss: 1.0918 - val_accuracy: 0.4000\n",
      "Epoch 22/60\n",
      "3/3 [==============================] - 0s 19ms/step - loss: 1.0687 - accuracy: 0.5281 - val_loss: 1.0917 - val_accuracy: 0.4000\n",
      "Epoch 23/60\n",
      "3/3 [==============================] - 0s 15ms/step - loss: 1.0675 - accuracy: 0.5281 - val_loss: 1.0916 - val_accuracy: 0.4000\n",
      "Epoch 24/60\n",
      "3/3 [==============================] - 0s 14ms/step - loss: 1.0664 - accuracy: 0.5281 - val_loss: 1.0914 - val_accuracy: 0.4000\n",
      "Epoch 25/60\n",
      "3/3 [==============================] - 0s 14ms/step - loss: 1.0652 - accuracy: 0.5281 - val_loss: 1.0913 - val_accuracy: 0.4000\n",
      "Epoch 26/60\n",
      "3/3 [==============================] - 0s 14ms/step - loss: 1.0641 - accuracy: 0.5281 - val_loss: 1.0912 - val_accuracy: 0.4000\n",
      "Epoch 27/60\n",
      "3/3 [==============================] - 0s 12ms/step - loss: 1.0630 - accuracy: 0.5281 - val_loss: 1.0912 - val_accuracy: 0.4000\n",
      "Epoch 28/60\n",
      "3/3 [==============================] - 0s 12ms/step - loss: 1.0620 - accuracy: 0.5281 - val_loss: 1.0911 - val_accuracy: 0.4000\n",
      "Epoch 29/60\n",
      "3/3 [==============================] - 0s 14ms/step - loss: 1.0610 - accuracy: 0.5281 - val_loss: 1.0911 - val_accuracy: 0.4000\n",
      "Epoch 30/60\n",
      "3/3 [==============================] - 0s 18ms/step - loss: 1.0600 - accuracy: 0.5281 - val_loss: 1.0910 - val_accuracy: 0.4000\n",
      "Epoch 31/60\n",
      "3/3 [==============================] - 0s 16ms/step - loss: 1.0590 - accuracy: 0.5281 - val_loss: 1.0910 - val_accuracy: 0.4000\n",
      "Epoch 32/60\n",
      "3/3 [==============================] - 0s 18ms/step - loss: 1.0579 - accuracy: 0.5281 - val_loss: 1.0910 - val_accuracy: 0.4000\n",
      "Epoch 33/60\n",
      "3/3 [==============================] - 0s 14ms/step - loss: 1.0570 - accuracy: 0.5281 - val_loss: 1.0910 - val_accuracy: 0.4000\n",
      "Epoch 34/60\n",
      "3/3 [==============================] - 0s 13ms/step - loss: 1.0560 - accuracy: 0.5281 - val_loss: 1.0910 - val_accuracy: 0.4000\n",
      "Epoch 35/60\n",
      "3/3 [==============================] - 0s 14ms/step - loss: 1.0552 - accuracy: 0.5281 - val_loss: 1.0910 - val_accuracy: 0.4000\n",
      "Epoch 36/60\n",
      "3/3 [==============================] - 0s 14ms/step - loss: 1.0544 - accuracy: 0.5281 - val_loss: 1.0910 - val_accuracy: 0.4000\n",
      "Epoch 37/60\n",
      "3/3 [==============================] - 0s 14ms/step - loss: 1.0534 - accuracy: 0.5281 - val_loss: 1.0910 - val_accuracy: 0.4000\n",
      "Epoch 38/60\n",
      "3/3 [==============================] - 0s 14ms/step - loss: 1.0526 - accuracy: 0.5281 - val_loss: 1.0911 - val_accuracy: 0.4000\n",
      "Epoch 39/60\n",
      "3/3 [==============================] - 0s 13ms/step - loss: 1.0517 - accuracy: 0.5281 - val_loss: 1.0911 - val_accuracy: 0.4000\n",
      "Epoch 40/60\n",
      "3/3 [==============================] - 0s 13ms/step - loss: 1.0509 - accuracy: 0.5281 - val_loss: 1.0912 - val_accuracy: 0.4000\n",
      "Epoch 41/60\n",
      "3/3 [==============================] - 0s 15ms/step - loss: 1.0504 - accuracy: 0.5281 - val_loss: 1.0913 - val_accuracy: 0.4000\n",
      "Epoch 42/60\n",
      "3/3 [==============================] - 0s 13ms/step - loss: 1.0493 - accuracy: 0.5281 - val_loss: 1.0913 - val_accuracy: 0.4000\n",
      "Epoch 43/60\n",
      "3/3 [==============================] - 0s 14ms/step - loss: 1.0486 - accuracy: 0.5281 - val_loss: 1.0914 - val_accuracy: 0.4000\n",
      "Epoch 44/60\n",
      "3/3 [==============================] - 0s 14ms/step - loss: 1.0478 - accuracy: 0.5281 - val_loss: 1.0915 - val_accuracy: 0.4000\n",
      "Epoch 45/60\n",
      "3/3 [==============================] - 0s 15ms/step - loss: 1.0471 - accuracy: 0.5281 - val_loss: 1.0916 - val_accuracy: 0.4000\n",
      "Epoch 46/60\n",
      "3/3 [==============================] - 0s 14ms/step - loss: 1.0464 - accuracy: 0.5281 - val_loss: 1.0917 - val_accuracy: 0.4000\n",
      "Epoch 47/60\n",
      "3/3 [==============================] - 0s 14ms/step - loss: 1.0457 - accuracy: 0.5281 - val_loss: 1.0918 - val_accuracy: 0.4000\n",
      "Epoch 48/60\n",
      "3/3 [==============================] - 0s 14ms/step - loss: 1.0451 - accuracy: 0.5281 - val_loss: 1.0919 - val_accuracy: 0.4000\n",
      "Epoch 49/60\n",
      "3/3 [==============================] - 0s 13ms/step - loss: 1.0444 - accuracy: 0.5281 - val_loss: 1.0921 - val_accuracy: 0.4000\n",
      "Epoch 50/60\n",
      "3/3 [==============================] - 0s 14ms/step - loss: 1.0437 - accuracy: 0.5281 - val_loss: 1.0922 - val_accuracy: 0.4000\n",
      "Epoch 51/60\n",
      "3/3 [==============================] - 0s 14ms/step - loss: 1.0431 - accuracy: 0.5281 - val_loss: 1.0923 - val_accuracy: 0.4000\n",
      "Epoch 52/60\n",
      "3/3 [==============================] - 0s 13ms/step - loss: 1.0425 - accuracy: 0.5281 - val_loss: 1.0924 - val_accuracy: 0.4000\n",
      "Epoch 53/60\n",
      "3/3 [==============================] - 0s 14ms/step - loss: 1.0419 - accuracy: 0.5281 - val_loss: 1.0926 - val_accuracy: 0.4000\n",
      "Epoch 54/60\n",
      "3/3 [==============================] - 0s 14ms/step - loss: 1.0412 - accuracy: 0.5281 - val_loss: 1.0927 - val_accuracy: 0.4000\n",
      "Epoch 55/60\n",
      "3/3 [==============================] - 0s 15ms/step - loss: 1.0407 - accuracy: 0.5281 - val_loss: 1.0928 - val_accuracy: 0.4000\n",
      "Epoch 56/60\n",
      "3/3 [==============================] - 0s 17ms/step - loss: 1.0402 - accuracy: 0.5281 - val_loss: 1.0930 - val_accuracy: 0.4000\n",
      "Epoch 57/60\n",
      "3/3 [==============================] - 0s 15ms/step - loss: 1.0396 - accuracy: 0.5281 - val_loss: 1.0932 - val_accuracy: 0.4000\n",
      "Epoch 58/60\n",
      "3/3 [==============================] - 0s 14ms/step - loss: 1.0390 - accuracy: 0.5281 - val_loss: 1.0933 - val_accuracy: 0.4000\n",
      "Epoch 59/60\n",
      "3/3 [==============================] - 0s 17ms/step - loss: 1.0385 - accuracy: 0.5281 - val_loss: 1.0935 - val_accuracy: 0.4000\n",
      "Epoch 60/60\n",
      "3/3 [==============================] - 0s 13ms/step - loss: 1.0379 - accuracy: 0.5281 - val_loss: 1.0937 - val_accuracy: 0.4000\n"
     ]
    }
   ],
   "source": [
    "run_logdir = get_run_logdir()\n",
    "tensorboard_cb = keras.callbacks.TensorBoard(run_logdir)\n",
    "history = model.fit(X_train, y_train, epochs=60, validation_data=(X_valid, y_valid), callbacks=[tensorboard_cb])"
   ]
  },
  {
   "cell_type": "code",
   "execution_count": 28,
   "id": "636bfbb9-f3d5-4243-bad9-48480063f4da",
   "metadata": {},
   "outputs": [
    {
     "data": {
      "image/png": "[encoded data removed]",
      "text/plain": [
       "<Figure size 576x360 with 1 Axes>"
      ]
     },
     "metadata": {
      "needs_background": "light"
     },
     "output_type": "display_data"
    }
   ],
   "source": [
    "pd.DataFrame(history.history).plot(figsize=(8,5))\n",
    "plt.grid(True)\n",
    "plt.gca().set_ylim(0,1)\n",
    "plt.show()"
   ]
  },
  {
   "cell_type": "code",
   "execution_count": 27,
   "id": "24985068-6c38-49ca-ae58-5aabece16ae0",
   "metadata": {},
   "outputs": [
    {
     "name": "stdout",
     "output_type": "stream",
     "text": [
      "3/3 [==============================] - 0s 1ms/step - loss: 1.0439 - accuracy: 0.5135\n"
     ]
    },
    {
     "data": {
      "text/plain": [
       "[1.0438989400863647, 0.5135135054588318]"
      ]
     },
     "execution_count": 27,
     "metadata": {},
     "output_type": "execute_result"
    }
   ],
   "source": [
    "model.evaluate(X_test, y_test)"
   ]
  },
  {
   "cell_type": "code",
   "execution_count": 28,
   "id": "cd78dab2-67ef-4aea-9e9a-b552dd60e2e3",
   "metadata": {},
   "outputs": [
    {
     "data": {
      "text/plain": [
       "array([[0.26, 0.42, 0.32],\n",
       "       [0.26, 0.42, 0.32],\n",
       "       [0.26, 0.42, 0.31],\n",
       "       [0.26, 0.42, 0.33],\n",
       "       [0.26, 0.42, 0.32],\n",
       "       [0.27, 0.43, 0.3 ],\n",
       "       [0.26, 0.42, 0.32],\n",
       "       [0.26, 0.43, 0.31],\n",
       "       [0.26, 0.43, 0.31],\n",
       "       [0.26, 0.41, 0.33],\n",
       "       [0.26, 0.42, 0.32],\n",
       "       [0.26, 0.42, 0.32],\n",
       "       [0.25, 0.41, 0.33],\n",
       "       [0.26, 0.42, 0.32],\n",
       "       [0.26, 0.42, 0.32],\n",
       "       [0.27, 0.43, 0.3 ],\n",
       "       [0.26, 0.41, 0.33],\n",
       "       [0.26, 0.42, 0.32],\n",
       "       [0.27, 0.43, 0.31],\n",
       "       [0.25, 0.41, 0.33],\n",
       "       [0.26, 0.42, 0.31],\n",
       "       [0.26, 0.42, 0.32],\n",
       "       [0.25, 0.42, 0.33],\n",
       "       [0.27, 0.43, 0.3 ],\n",
       "       [0.25, 0.42, 0.33],\n",
       "       [0.26, 0.42, 0.31],\n",
       "       [0.29, 0.43, 0.28],\n",
       "       [0.26, 0.42, 0.32],\n",
       "       [0.26, 0.42, 0.32],\n",
       "       [0.26, 0.42, 0.33],\n",
       "       [0.26, 0.42, 0.31],\n",
       "       [0.26, 0.42, 0.32],\n",
       "       [0.27, 0.43, 0.3 ],\n",
       "       [0.26, 0.42, 0.32],\n",
       "       [0.26, 0.42, 0.32],\n",
       "       [0.26, 0.42, 0.32],\n",
       "       [0.26, 0.42, 0.32],\n",
       "       [0.26, 0.42, 0.32],\n",
       "       [0.26, 0.42, 0.32],\n",
       "       [0.27, 0.42, 0.31],\n",
       "       [0.26, 0.42, 0.32],\n",
       "       [0.26, 0.42, 0.31],\n",
       "       [0.27, 0.42, 0.31],\n",
       "       [0.26, 0.42, 0.32],\n",
       "       [0.26, 0.42, 0.32],\n",
       "       [0.26, 0.42, 0.32],\n",
       "       [0.26, 0.43, 0.32],\n",
       "       [0.26, 0.42, 0.32],\n",
       "       [0.27, 0.43, 0.3 ],\n",
       "       [0.26, 0.42, 0.33],\n",
       "       [0.25, 0.42, 0.33],\n",
       "       [0.28, 0.43, 0.29],\n",
       "       [0.26, 0.42, 0.33],\n",
       "       [0.26, 0.42, 0.32],\n",
       "       [0.28, 0.43, 0.29],\n",
       "       [0.27, 0.43, 0.31],\n",
       "       [0.28, 0.44, 0.28],\n",
       "       [0.26, 0.42, 0.32],\n",
       "       [0.26, 0.42, 0.32],\n",
       "       [0.26, 0.42, 0.32],\n",
       "       [0.26, 0.42, 0.32],\n",
       "       [0.27, 0.43, 0.31],\n",
       "       [0.26, 0.42, 0.32],\n",
       "       [0.27, 0.43, 0.3 ],\n",
       "       [0.27, 0.42, 0.31],\n",
       "       [0.26, 0.42, 0.32],\n",
       "       [0.3 , 0.44, 0.27],\n",
       "       [0.26, 0.42, 0.31],\n",
       "       [0.26, 0.43, 0.31],\n",
       "       [0.26, 0.42, 0.32],\n",
       "       [0.26, 0.42, 0.32],\n",
       "       [0.26, 0.42, 0.32],\n",
       "       [0.26, 0.42, 0.32],\n",
       "       [0.28, 0.43, 0.28]], dtype=float32)"
      ]
     },
     "execution_count": 28,
     "metadata": {},
     "output_type": "execute_result"
    }
   ],
   "source": [
    "y_proba = model.predict(X_test)\n",
    "y_proba.round(2)"
   ]
  },
  {
   "cell_type": "code",
   "execution_count": 219,
   "id": "7b7224d8-ef60-4a1e-8b12-b71ddf1bdd43",
   "metadata": {},
   "outputs": [
    {
     "data": {
      "text/plain": [
       "array([[0.3 , 0.38, 0.32],\n",
       "       [0.29, 0.38, 0.33],\n",
       "       [0.31, 0.37, 0.32]], dtype=float32)"
      ]
     },
     "execution_count": 219,
     "metadata": {},
     "output_type": "execute_result"
    }
   ],
   "source": [
    "X_new = X_test[:3]\n",
    "y_proba = model.predict(X_new)\n",
    "y_proba.round(2)"
   ]
  },
  {
   "cell_type": "code",
   "execution_count": 220,
   "id": "77d67c15-faaa-4f2f-96c4-a4694dafe11b",
   "metadata": {},
   "outputs": [
    {
     "data": {
      "text/plain": [
       "array([[2],\n",
       "       [1],\n",
       "       [1]])"
      ]
     },
     "execution_count": 220,
     "metadata": {},
     "output_type": "execute_result"
    }
   ],
   "source": [
    "y_test[:3]"
   ]
  },
  {
   "cell_type": "code",
   "execution_count": null,
   "id": "ebc5525f-4608-4495-a97e-11716818d92a",
   "metadata": {},
   "outputs": [],
   "source": []
  },
  {
   "cell_type": "code",
   "execution_count": null,
   "id": "94bb6867-3822-492a-a22d-b2c14f2faf0b",
   "metadata": {},
   "outputs": [],
   "source": []
  },
  {
   "cell_type": "code",
   "execution_count": null,
   "id": "c7d7dc2a-97e3-4632-ac85-02a819145674",
   "metadata": {},
   "outputs": [],
   "source": []
  },
  {
   "cell_type": "code",
   "execution_count": null,
   "id": "4c883225-7fa7-4c67-8fcd-5066f5cbdf4a",
   "metadata": {},
   "outputs": [],
   "source": []
  },
  {
   "cell_type": "code",
   "execution_count": null,
   "id": "322af66c-ca0c-48b1-bf51-2bfc89c87989",
   "metadata": {},
   "outputs": [],
   "source": []
  },
  {
   "cell_type": "code",
   "execution_count": null,
   "id": "f58eaee7-e877-4a9c-82ae-54182d8c8b34",
   "metadata": {},
   "outputs": [],
   "source": []
  },
  {
   "cell_type": "code",
   "execution_count": 221,
   "id": "a4fc772a-e05d-48e6-8c53-98fc3b807fdf",
   "metadata": {},
   "outputs": [],
   "source": [
    "model2 = keras.models.Sequential()\n",
    "model2.add(keras.layers.InputLayer(input_shape=[7,]))\n",
    "model2.add(keras.layers.Dense(300, activation=\"relu\"))\n",
    "model2.add(keras.layers.Dense(600, activation=\"relu\"))\n",
    "model2.add(keras.layers.Dense(300, activation=\"relu\"))\n",
    "model2.add(keras.layers.Dense(100, activation=\"relu\"))\n",
    "model2.add(keras.layers.Dense(3, activation=\"softmax\"))"
   ]
  },
  {
   "cell_type": "code",
   "execution_count": 222,
   "id": "793f4f42-a7e8-48a2-8c0f-de23bf4e0e19",
   "metadata": {},
   "outputs": [],
   "source": [
    "model2.compile(loss=\"sparse_categorical_crossentropy\", optimizer=\"sgd\", metrics=[\"accuracy\"])"
   ]
  },
  {
   "cell_type": "code",
   "execution_count": 223,
   "id": "a7be6190-3714-4800-b453-60fa9c55fc04",
   "metadata": {},
   "outputs": [
    {
     "name": "stdout",
     "output_type": "stream",
     "text": [
      "Epoch 1/30\n",
      "3/3 [==============================] - 0s 60ms/step - loss: 1.0997 - accuracy: 0.2809 - val_loss: 1.0945 - val_accuracy: 0.5467\n",
      "Epoch 2/30\n",
      "3/3 [==============================] - 0s 14ms/step - loss: 1.0931 - accuracy: 0.5281 - val_loss: 1.0879 - val_accuracy: 0.5467\n",
      "Epoch 3/30\n",
      "3/3 [==============================] - 0s 18ms/step - loss: 1.0869 - accuracy: 0.5281 - val_loss: 1.0821 - val_accuracy: 0.5467\n",
      "Epoch 4/30\n",
      "3/3 [==============================] - 0s 14ms/step - loss: 1.0815 - accuracy: 0.5281 - val_loss: 1.0769 - val_accuracy: 0.5467\n",
      "Epoch 5/30\n",
      "3/3 [==============================] - 0s 12ms/step - loss: 1.0771 - accuracy: 0.5281 - val_loss: 1.0717 - val_accuracy: 0.5467\n",
      "Epoch 6/30\n",
      "3/3 [==============================] - 0s 13ms/step - loss: 1.0729 - accuracy: 0.5281 - val_loss: 1.0680 - val_accuracy: 0.5467\n",
      "Epoch 7/30\n",
      "3/3 [==============================] - 0s 13ms/step - loss: 1.0688 - accuracy: 0.5281 - val_loss: 1.0641 - val_accuracy: 0.5467\n",
      "Epoch 8/30\n",
      "3/3 [==============================] - 0s 13ms/step - loss: 1.0652 - accuracy: 0.5281 - val_loss: 1.0608 - val_accuracy: 0.5467\n",
      "Epoch 9/30\n",
      "3/3 [==============================] - 0s 12ms/step - loss: 1.0624 - accuracy: 0.5281 - val_loss: 1.0579 - val_accuracy: 0.5467\n",
      "Epoch 10/30\n",
      "3/3 [==============================] - 0s 13ms/step - loss: 1.0594 - accuracy: 0.5281 - val_loss: 1.0549 - val_accuracy: 0.5467\n",
      "Epoch 11/30\n",
      "3/3 [==============================] - 0s 13ms/step - loss: 1.0568 - accuracy: 0.5281 - val_loss: 1.0519 - val_accuracy: 0.5467\n",
      "Epoch 12/30\n",
      "3/3 [==============================] - 0s 13ms/step - loss: 1.0540 - accuracy: 0.5281 - val_loss: 1.0494 - val_accuracy: 0.5467\n",
      "Epoch 13/30\n",
      "3/3 [==============================] - 0s 14ms/step - loss: 1.0517 - accuracy: 0.5281 - val_loss: 1.0469 - val_accuracy: 0.5467\n",
      "Epoch 14/30\n",
      "3/3 [==============================] - 0s 12ms/step - loss: 1.0495 - accuracy: 0.5281 - val_loss: 1.0445 - val_accuracy: 0.5467\n",
      "Epoch 15/30\n",
      "3/3 [==============================] - 0s 12ms/step - loss: 1.0475 - accuracy: 0.5281 - val_loss: 1.0425 - val_accuracy: 0.5467\n",
      "Epoch 16/30\n",
      "3/3 [==============================] - 0s 13ms/step - loss: 1.0453 - accuracy: 0.5281 - val_loss: 1.0405 - val_accuracy: 0.5467\n",
      "Epoch 17/30\n",
      "3/3 [==============================] - 0s 13ms/step - loss: 1.0436 - accuracy: 0.5281 - val_loss: 1.0387 - val_accuracy: 0.5467\n",
      "Epoch 18/30\n",
      "3/3 [==============================] - 0s 13ms/step - loss: 1.0415 - accuracy: 0.5281 - val_loss: 1.0368 - val_accuracy: 0.5467\n",
      "Epoch 19/30\n",
      "3/3 [==============================] - 0s 13ms/step - loss: 1.0399 - accuracy: 0.5281 - val_loss: 1.0350 - val_accuracy: 0.5467\n",
      "Epoch 20/30\n",
      "3/3 [==============================] - 0s 13ms/step - loss: 1.0381 - accuracy: 0.5281 - val_loss: 1.0331 - val_accuracy: 0.5467\n",
      "Epoch 21/30\n",
      "3/3 [==============================] - 0s 12ms/step - loss: 1.0365 - accuracy: 0.5281 - val_loss: 1.0314 - val_accuracy: 0.5467\n",
      "Epoch 22/30\n",
      "3/3 [==============================] - 0s 12ms/step - loss: 1.0356 - accuracy: 0.5281 - val_loss: 1.0298 - val_accuracy: 0.5467\n",
      "Epoch 23/30\n",
      "3/3 [==============================] - 0s 13ms/step - loss: 1.0335 - accuracy: 0.5281 - val_loss: 1.0281 - val_accuracy: 0.5467\n",
      "Epoch 24/30\n",
      "3/3 [==============================] - 0s 14ms/step - loss: 1.0318 - accuracy: 0.5281 - val_loss: 1.0264 - val_accuracy: 0.5467\n",
      "Epoch 25/30\n",
      "3/3 [==============================] - 0s 13ms/step - loss: 1.0303 - accuracy: 0.5281 - val_loss: 1.0251 - val_accuracy: 0.5467\n",
      "Epoch 26/30\n",
      "3/3 [==============================] - 0s 12ms/step - loss: 1.0289 - accuracy: 0.5281 - val_loss: 1.0238 - val_accuracy: 0.5467\n",
      "Epoch 27/30\n",
      "3/3 [==============================] - 0s 12ms/step - loss: 1.0275 - accuracy: 0.5281 - val_loss: 1.0225 - val_accuracy: 0.5467\n",
      "Epoch 28/30\n",
      "3/3 [==============================] - 0s 14ms/step - loss: 1.0264 - accuracy: 0.5281 - val_loss: 1.0213 - val_accuracy: 0.5467\n",
      "Epoch 29/30\n",
      "3/3 [==============================] - 0s 13ms/step - loss: 1.0254 - accuracy: 0.5281 - val_loss: 1.0203 - val_accuracy: 0.5467\n",
      "Epoch 30/30\n",
      "3/3 [==============================] - 0s 14ms/step - loss: 1.0245 - accuracy: 0.5281 - val_loss: 1.0192 - val_accuracy: 0.5467\n"
     ]
    }
   ],
   "source": [
    "history2 = model2.fit(X_train, y_train, epochs=30, validation_data=(X_valid, y_valid))"
   ]
  },
  {
   "cell_type": "code",
   "execution_count": 224,
   "id": "ee5964b6-24b6-4511-8e93-5b5d7d4e5222",
   "metadata": {},
   "outputs": [
    {
     "name": "stdout",
     "output_type": "stream",
     "text": [
      "3/3 [==============================] - 0s 2ms/step - loss: 1.0621 - accuracy: 0.4595\n"
     ]
    },
    {
     "data": {
      "text/plain": [
       "[1.0620810985565186, 0.45945945382118225]"
      ]
     },
     "execution_count": 224,
     "metadata": {},
     "output_type": "execute_result"
    }
   ],
   "source": [
    "model2.evaluate(X_test, y_test)"
   ]
  },
  {
   "cell_type": "code",
   "execution_count": 225,
   "id": "723c574b-3e51-4b6f-a0d0-f145f32dc925",
   "metadata": {},
   "outputs": [
    {
     "data": {
      "text/plain": [
       "array([[0.26, 0.44, 0.3 ],\n",
       "       [0.25, 0.45, 0.3 ],\n",
       "       [0.26, 0.44, 0.3 ]], dtype=float32)"
      ]
     },
     "execution_count": 225,
     "metadata": {},
     "output_type": "execute_result"
    }
   ],
   "source": [
    "X_new = X_test[:3]\n",
    "y_proba = model2.predict(X_new)\n",
    "y_proba.round(2)"
   ]
  },
  {
   "cell_type": "code",
   "execution_count": 226,
   "id": "58c618d9-8c2b-4796-97dd-66d6d8c92d28",
   "metadata": {},
   "outputs": [
    {
     "data": {
      "image/png": "[encoded data removed]",
      "text/plain": [
       "<Figure size 576x360 with 1 Axes>"
      ]
     },
     "metadata": {
      "needs_background": "light"
     },
     "output_type": "display_data"
    }
   ],
   "source": [
    "pd.DataFrame(history2.history).plot(figsize=(8,5))\n",
    "plt.grid(True)\n",
    "plt.gca().set_ylim(0,1)\n",
    "plt.show()"
   ]
  },
  {
   "cell_type": "code",
   "execution_count": null,
   "id": "90c265da-d657-46a2-9713-58804bf2dfa3",
   "metadata": {},
   "outputs": [],
   "source": []
  }
 ],
 "metadata": {
  "kernelspec": {
   "display_name": "Python 3",
   "language": "python",
   "name": "python3"
  },
  "language_info": {
   "codemirror_mode": {
    "name": "ipython",
    "version": 3
   },
   "file_extension": ".py",
   "mimetype": "text/x-python",
   "name": "python",
   "nbconvert_exporter": "python",
   "pygments_lexer": "ipython3",
   "version": "3.9.5"
  }
 },
 "nbformat": 4,
 "nbformat_minor": 5
}
