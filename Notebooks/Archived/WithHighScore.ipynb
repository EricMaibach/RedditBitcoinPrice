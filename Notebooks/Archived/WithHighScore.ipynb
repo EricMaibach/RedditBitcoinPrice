{
 "cells": [
  {
   "cell_type": "code",
   "execution_count": 1,
   "id": "78c1c7d2-5627-4624-a659-cf1ccc0d3fcd",
   "metadata": {},
   "outputs": [],
   "source": [
    "import pandas as pd\n",
    "import numpy as np\n",
    "import datetime\n",
    "from sklearn.feature_extraction.text import CountVectorizer\n",
    "from sklearn.model_selection import train_test_split\n",
    "from sklearn.feature_selection import SelectKBest\n",
    "import os\n",
    "from tensorflow import keras\n",
    "import time\n",
    "import matplotlib.pyplot as plt\n",
    "from sklearn.preprocessing import MinMaxScaler\n",
    "import tensorflow as tf"
   ]
  },
  {
   "cell_type": "markdown",
   "id": "0037cedb-3c99-48a6-9111-9665deca4e40",
   "metadata": {},
   "source": [
    "# Load Reddit comments"
   ]
  },
  {
   "cell_type": "code",
   "execution_count": 2,
   "id": "f5dc7f1a-4162-4a51-b8c0-254ca8370d03",
   "metadata": {},
   "outputs": [
    {
     "name": "stderr",
     "output_type": "stream",
     "text": [
      "c:\\users\\emaibach\\appdata\\local\\programs\\python\\python39\\lib\\site-packages\\IPython\\core\\interactiveshell.py:3169: DtypeWarning: Columns (10) have mixed types.Specify dtype option on import or set low_memory=False.\n",
      "  has_raised = await self.run_ast_nodes(code_ast.body, cell_name,\n"
     ]
    }
   ],
   "source": [
    "li = []\n",
    "df1 = pd.read_csv('bitcoin2020-01.csv')\n",
    "li.append(df1)\n",
    "df2 = pd.read_csv('bitcoin2020-02.csv')\n",
    "li.append(df2)\n",
    "df3 = pd.read_csv('bitcoin2020-03.csv')\n",
    "li.append(df3)\n",
    "df4 = pd.read_csv('bitcoin2020-04.csv')\n",
    "li.append(df4)\n",
    "df5 = pd.read_csv('bitcoin2020-05.csv')\n",
    "li.append(df5)\n",
    "df6 = pd.read_csv('bitcoin2020-06.csv')\n",
    "li.append(df6)\n",
    "df7 = pd.read_csv('bitcoin2020-07.csv')\n",
    "li.append(df7)\n",
    "df8 = pd.read_csv('bitcoin2020-08.csv')\n",
    "li.append(df8)\n",
    "df9 = pd.read_csv('bitcoin2020-09.csv')\n",
    "li.append(df9)\n",
    "df10 = pd.read_csv('bitcoin2020-10.csv')\n",
    "li.append(df10)\n",
    "df11 = pd.read_csv('bitcoin2020-11.csv')\n",
    "li.append(df11)\n",
    "df12 = pd.read_csv('bitcoin2020-12.csv')\n",
    "li.append(df12)\n",
    "df13 = pd.read_csv('bitcoin2021-01.csv')\n",
    "li.append(df13)\n",
    "df14 = pd.read_csv('bitcoin2021-02.csv')\n",
    "li.append(df14)\n",
    "df15 = pd.read_csv('bitcoin2021-03.csv')\n",
    "li.append(df15)\n",
    "df16 = pd.read_csv('bitcoin2021-04.csv')\n",
    "li.append(df16)\n",
    "df17 = pd.read_csv('bitcoin2021-05.csv')\n",
    "li.append(df17)\n",
    "df18 = pd.read_csv('bitcoin2021-06.csv')\n",
    "li.append(df18)\n",
    "\n",
    "df = pd.concat(li, axis=0, ignore_index=True)"
   ]
  },
  {
   "cell_type": "code",
   "execution_count": 3,
   "id": "a47f9d88-9201-4ac7-8600-91b70993500d",
   "metadata": {},
   "outputs": [],
   "source": [
    "df = df[df[\"score\"] > 3].copy()"
   ]
  },
  {
   "cell_type": "code",
   "execution_count": 4,
   "id": "c585fcad-1374-4c2a-919d-6ae1954c9668",
   "metadata": {},
   "outputs": [
    {
     "data": {
      "text/html": [
       "<div>\n",
       "<style scoped>\n",
       "    .dataframe tbody tr th:only-of-type {\n",
       "        vertical-align: middle;\n",
       "    }\n",
       "\n",
       "    .dataframe tbody tr th {\n",
       "        vertical-align: top;\n",
       "    }\n",
       "\n",
       "    .dataframe thead th {\n",
       "        text-align: right;\n",
       "    }\n",
       "</style>\n",
       "<table border=\"1\" class=\"dataframe\">\n",
       "  <thead>\n",
       "    <tr style=\"text-align: right;\">\n",
       "      <th></th>\n",
       "      <th>author_premium</th>\n",
       "      <th>body</th>\n",
       "      <th>controversiality</th>\n",
       "      <th>created_utc</th>\n",
       "      <th>distinguished</th>\n",
       "      <th>id</th>\n",
       "      <th>locked</th>\n",
       "      <th>no_follow</th>\n",
       "      <th>parent_id</th>\n",
       "      <th>quarantined</th>\n",
       "      <th>removal_reason</th>\n",
       "      <th>retrieved_on</th>\n",
       "      <th>score</th>\n",
       "      <th>subreddit</th>\n",
       "    </tr>\n",
       "  </thead>\n",
       "  <tbody>\n",
       "    <tr>\n",
       "      <th>2</th>\n",
       "      <td>False</td>\n",
       "      <td>I'm going to be straight up. Bitcoin is not fo...</td>\n",
       "      <td>0</td>\n",
       "      <td>1577836840</td>\n",
       "      <td>NaN</td>\n",
       "      <td>fconqr1</td>\n",
       "      <td>False</td>\n",
       "      <td>True</td>\n",
       "      <td>t1_fcon879</td>\n",
       "      <td>False</td>\n",
       "      <td>NaN</td>\n",
       "      <td>1586450311</td>\n",
       "      <td>6</td>\n",
       "      <td>Bitcoin</td>\n",
       "    </tr>\n",
       "    <tr>\n",
       "      <th>4</th>\n",
       "      <td>False</td>\n",
       "      <td>Those people calling the eth ecosystem a scam ...</td>\n",
       "      <td>0</td>\n",
       "      <td>1577836857</td>\n",
       "      <td>NaN</td>\n",
       "      <td>fconrjz</td>\n",
       "      <td>False</td>\n",
       "      <td>True</td>\n",
       "      <td>t1_fcocflo</td>\n",
       "      <td>False</td>\n",
       "      <td>NaN</td>\n",
       "      <td>1586450321</td>\n",
       "      <td>9</td>\n",
       "      <td>omise_go</td>\n",
       "    </tr>\n",
       "    <tr>\n",
       "      <th>6</th>\n",
       "      <td>False</td>\n",
       "      <td>\"Dave, This is not gonna work. Look I just exp...</td>\n",
       "      <td>0</td>\n",
       "      <td>1577836880</td>\n",
       "      <td>NaN</td>\n",
       "      <td>fconsqr</td>\n",
       "      <td>False</td>\n",
       "      <td>False</td>\n",
       "      <td>t3_ei481h</td>\n",
       "      <td>False</td>\n",
       "      <td>NaN</td>\n",
       "      <td>1586450339</td>\n",
       "      <td>4</td>\n",
       "      <td>Bitcoin</td>\n",
       "    </tr>\n",
       "    <tr>\n",
       "      <th>11</th>\n",
       "      <td>False</td>\n",
       "      <td>Ctrl+C Ctrl+V\\n\\n[https://www.tradingview.com/...</td>\n",
       "      <td>0</td>\n",
       "      <td>1577836907</td>\n",
       "      <td>NaN</td>\n",
       "      <td>fconu23</td>\n",
       "      <td>False</td>\n",
       "      <td>False</td>\n",
       "      <td>t3_ehxjr0</td>\n",
       "      <td>False</td>\n",
       "      <td>NaN</td>\n",
       "      <td>1586450358</td>\n",
       "      <td>5</td>\n",
       "      <td>BitcoinMarkets</td>\n",
       "    </tr>\n",
       "    <tr>\n",
       "      <th>12</th>\n",
       "      <td>False</td>\n",
       "      <td>Nice how do you like the size? I can’t decide ...</td>\n",
       "      <td>0</td>\n",
       "      <td>1577836915</td>\n",
       "      <td>NaN</td>\n",
       "      <td>fconuf9</td>\n",
       "      <td>False</td>\n",
       "      <td>True</td>\n",
       "      <td>t1_fcoloeq</td>\n",
       "      <td>False</td>\n",
       "      <td>NaN</td>\n",
       "      <td>1586450363</td>\n",
       "      <td>9</td>\n",
       "      <td>ipad</td>\n",
       "    </tr>\n",
       "    <tr>\n",
       "      <th>...</th>\n",
       "      <td>...</td>\n",
       "      <td>...</td>\n",
       "      <td>...</td>\n",
       "      <td>...</td>\n",
       "      <td>...</td>\n",
       "      <td>...</td>\n",
       "      <td>...</td>\n",
       "      <td>...</td>\n",
       "      <td>...</td>\n",
       "      <td>...</td>\n",
       "      <td>...</td>\n",
       "      <td>...</td>\n",
       "      <td>...</td>\n",
       "      <td>...</td>\n",
       "    </tr>\n",
       "    <tr>\n",
       "      <th>6536938</th>\n",
       "      <td>False</td>\n",
       "      <td>Yes it is</td>\n",
       "      <td>0</td>\n",
       "      <td>1625097507</td>\n",
       "      <td>NaN</td>\n",
       "      <td>h3mfplc</td>\n",
       "      <td>False</td>\n",
       "      <td>False</td>\n",
       "      <td>t1_h3mamum</td>\n",
       "      <td>False</td>\n",
       "      <td>NaN</td>\n",
       "      <td>0</td>\n",
       "      <td>7</td>\n",
       "      <td>CryptoCurrency</td>\n",
       "    </tr>\n",
       "    <tr>\n",
       "      <th>6536940</th>\n",
       "      <td>False</td>\n",
       "      <td>&amp;gt;so what stops any wallet provider from doi...</td>\n",
       "      <td>0</td>\n",
       "      <td>1625097513</td>\n",
       "      <td>NaN</td>\n",
       "      <td>h3mfq1a</td>\n",
       "      <td>False</td>\n",
       "      <td>False</td>\n",
       "      <td>t3_ob7xhi</td>\n",
       "      <td>False</td>\n",
       "      <td>NaN</td>\n",
       "      <td>0</td>\n",
       "      <td>4</td>\n",
       "      <td>lightningnetwork</td>\n",
       "    </tr>\n",
       "    <tr>\n",
       "      <th>6536941</th>\n",
       "      <td>False</td>\n",
       "      <td>No it’s not</td>\n",
       "      <td>0</td>\n",
       "      <td>1625097514</td>\n",
       "      <td>NaN</td>\n",
       "      <td>h3mfq41</td>\n",
       "      <td>False</td>\n",
       "      <td>False</td>\n",
       "      <td>t1_h3mane6</td>\n",
       "      <td>False</td>\n",
       "      <td>NaN</td>\n",
       "      <td>0</td>\n",
       "      <td>6</td>\n",
       "      <td>CryptoCurrency</td>\n",
       "    </tr>\n",
       "    <tr>\n",
       "      <th>6536951</th>\n",
       "      <td>False</td>\n",
       "      <td>I could maybe see it reach .25 - .33, depends ...</td>\n",
       "      <td>0</td>\n",
       "      <td>1625097559</td>\n",
       "      <td>NaN</td>\n",
       "      <td>h3mft8y</td>\n",
       "      <td>False</td>\n",
       "      <td>True</td>\n",
       "      <td>t3_ob64x6</td>\n",
       "      <td>False</td>\n",
       "      <td>NaN</td>\n",
       "      <td>0</td>\n",
       "      <td>6</td>\n",
       "      <td>Ankrofficial</td>\n",
       "    </tr>\n",
       "    <tr>\n",
       "      <th>6536952</th>\n",
       "      <td>False</td>\n",
       "      <td>I am satoshi</td>\n",
       "      <td>0</td>\n",
       "      <td>1625097563</td>\n",
       "      <td>NaN</td>\n",
       "      <td>h3mftl2</td>\n",
       "      <td>False</td>\n",
       "      <td>False</td>\n",
       "      <td>t3_ob6p01</td>\n",
       "      <td>False</td>\n",
       "      <td>NaN</td>\n",
       "      <td>0</td>\n",
       "      <td>14</td>\n",
       "      <td>Bitcoin</td>\n",
       "    </tr>\n",
       "  </tbody>\n",
       "</table>\n",
       "<p>1358871 rows × 14 columns</p>\n",
       "</div>"
      ],
      "text/plain": [
       "         author_premium                                               body  \\\n",
       "2                 False  I'm going to be straight up. Bitcoin is not fo...   \n",
       "4                 False  Those people calling the eth ecosystem a scam ...   \n",
       "6                 False  \"Dave, This is not gonna work. Look I just exp...   \n",
       "11                False  Ctrl+C Ctrl+V\\n\\n[https://www.tradingview.com/...   \n",
       "12                False  Nice how do you like the size? I can’t decide ...   \n",
       "...                 ...                                                ...   \n",
       "6536938           False                                          Yes it is   \n",
       "6536940           False  &gt;so what stops any wallet provider from doi...   \n",
       "6536941           False                                        No it’s not   \n",
       "6536951           False  I could maybe see it reach .25 - .33, depends ...   \n",
       "6536952           False                                       I am satoshi   \n",
       "\n",
       "         controversiality  created_utc distinguished       id  locked  \\\n",
       "2                       0   1577836840           NaN  fconqr1   False   \n",
       "4                       0   1577836857           NaN  fconrjz   False   \n",
       "6                       0   1577836880           NaN  fconsqr   False   \n",
       "11                      0   1577836907           NaN  fconu23   False   \n",
       "12                      0   1577836915           NaN  fconuf9   False   \n",
       "...                   ...          ...           ...      ...     ...   \n",
       "6536938                 0   1625097507           NaN  h3mfplc   False   \n",
       "6536940                 0   1625097513           NaN  h3mfq1a   False   \n",
       "6536941                 0   1625097514           NaN  h3mfq41   False   \n",
       "6536951                 0   1625097559           NaN  h3mft8y   False   \n",
       "6536952                 0   1625097563           NaN  h3mftl2   False   \n",
       "\n",
       "         no_follow   parent_id  quarantined removal_reason  retrieved_on  \\\n",
       "2             True  t1_fcon879        False            NaN    1586450311   \n",
       "4             True  t1_fcocflo        False            NaN    1586450321   \n",
       "6            False   t3_ei481h        False            NaN    1586450339   \n",
       "11           False   t3_ehxjr0        False            NaN    1586450358   \n",
       "12            True  t1_fcoloeq        False            NaN    1586450363   \n",
       "...            ...         ...          ...            ...           ...   \n",
       "6536938      False  t1_h3mamum        False            NaN             0   \n",
       "6536940      False   t3_ob7xhi        False            NaN             0   \n",
       "6536941      False  t1_h3mane6        False            NaN             0   \n",
       "6536951       True   t3_ob64x6        False            NaN             0   \n",
       "6536952      False   t3_ob6p01        False            NaN             0   \n",
       "\n",
       "         score         subreddit  \n",
       "2            6           Bitcoin  \n",
       "4            9          omise_go  \n",
       "6            4           Bitcoin  \n",
       "11           5    BitcoinMarkets  \n",
       "12           9              ipad  \n",
       "...        ...               ...  \n",
       "6536938      7    CryptoCurrency  \n",
       "6536940      4  lightningnetwork  \n",
       "6536941      6    CryptoCurrency  \n",
       "6536951      6      Ankrofficial  \n",
       "6536952     14           Bitcoin  \n",
       "\n",
       "[1358871 rows x 14 columns]"
      ]
     },
     "execution_count": 4,
     "metadata": {},
     "output_type": "execute_result"
    }
   ],
   "source": [
    "df"
   ]
  },
  {
   "cell_type": "code",
   "execution_count": 5,
   "id": "e2b625e9-fa8a-4daf-a8e2-833948625d16",
   "metadata": {},
   "outputs": [],
   "source": [
    "df[\"created_utc\"] = pd.to_datetime(df[\"created_utc\"],unit='s')"
   ]
  },
  {
   "cell_type": "code",
   "execution_count": 6,
   "id": "25f59e12-2e21-4ddc-bde1-bf1b8927e127",
   "metadata": {},
   "outputs": [],
   "source": [
    "df[\"retrieved_on\"] = pd.to_datetime(df[\"retrieved_on\"],unit='s')"
   ]
  },
  {
   "cell_type": "code",
   "execution_count": 7,
   "id": "608a93c1-a4f5-4bc7-85f9-179851e1f7de",
   "metadata": {},
   "outputs": [],
   "source": [
    "df = df[df['body'] != \"[removed]\"]"
   ]
  },
  {
   "cell_type": "code",
   "execution_count": 8,
   "id": "e8169350-1625-49df-a98b-ec8d3038c576",
   "metadata": {},
   "outputs": [],
   "source": [
    "df = df[df['body'] != \"[deleted]\"]"
   ]
  },
  {
   "cell_type": "code",
   "execution_count": 9,
   "id": "38b9c6a6-8609-4812-9773-c1b70bafa3f1",
   "metadata": {},
   "outputs": [],
   "source": [
    "df[\"created_utc\"] = pd.to_datetime(df[\"created_utc\"].dt.date)"
   ]
  },
  {
   "cell_type": "code",
   "execution_count": 10,
   "id": "be537032-7d47-4d59-be94-90d535367088",
   "metadata": {},
   "outputs": [],
   "source": [
    "df[\"body\"] = df[\"body\"].astype(str)"
   ]
  },
  {
   "cell_type": "code",
   "execution_count": 11,
   "id": "4e25febb-9357-4cfa-ad8f-cb93a4d905a0",
   "metadata": {},
   "outputs": [],
   "source": [
    "df = df[df['body'].isna() == False]"
   ]
  },
  {
   "cell_type": "code",
   "execution_count": 12,
   "id": "6d774db1-7955-4119-8342-b202265f8d03",
   "metadata": {},
   "outputs": [],
   "source": [
    "df['body'] = df['body'].str.lower()"
   ]
  },
  {
   "cell_type": "markdown",
   "id": "44e4ca0b-716d-4076-a8a4-fd2f7c73ee97",
   "metadata": {},
   "source": [
    "# Group Comments By Day And Do Bag Of Words Counts"
   ]
  },
  {
   "cell_type": "code",
   "execution_count": 13,
   "id": "843826c2-9296-4ecc-82c1-a58ba745bf5a",
   "metadata": {},
   "outputs": [],
   "source": [
    "dfbyday = df[[\"created_utc\",\"id\",\"author_premium\",\"controversiality\", \"locked\", \"no_follow\", \"score\", \"body\"]].groupby([\"created_utc\"]).agg({\"id\": [\"count\"], \"author_premium\": [\"sum\"], \"controversiality\": [\"sum\"], \"locked\" : [\"sum\"], \"no_follow\" : [\"sum\"], \"score\" : [np.mean], \"body\": ' '.join})"
   ]
  },
  {
   "cell_type": "code",
   "execution_count": 14,
   "id": "6e77d7fb-927a-4df9-8fee-e816dc6b35df",
   "metadata": {},
   "outputs": [],
   "source": [
    "dfbyday = dfbyday.droplevel(axis=1, level=0).reset_index().set_axis([\"Date\", \"CommentCount\", \"PremiumCount\", \"Controversiality\", \"LockedCount\", \"FollowCount\", \"Score\", \"Body\"], axis=1, inplace=False)"
   ]
  },
  {
   "cell_type": "code",
   "execution_count": 15,
   "id": "357f3841-9d1c-40a6-9a19-024d5a54e830",
   "metadata": {},
   "outputs": [],
   "source": [
    "vectorizer = CountVectorizer(min_df=0.10, max_df=0.90, ngram_range=(1,3))"
   ]
  },
  {
   "cell_type": "code",
   "execution_count": 16,
   "id": "34b970da-c42c-4d8b-bf8e-2d9621531e36",
   "metadata": {},
   "outputs": [],
   "source": [
    "wordvector = vectorizer.fit_transform(dfbyday['Body'])"
   ]
  },
  {
   "cell_type": "code",
   "execution_count": 17,
   "id": "1b07864b-ba10-49bd-b5e4-0c796a50762b",
   "metadata": {},
   "outputs": [],
   "source": [
    "wordvectordf = pd.DataFrame(wordvector.todense(), columns=vectorizer.get_feature_names_out())"
   ]
  },
  {
   "cell_type": "code",
   "execution_count": 18,
   "id": "2fb68ac2-2c85-4554-937f-99bfc80d8bad",
   "metadata": {},
   "outputs": [],
   "source": [
    "dfbydayvector = pd.concat([dfbyday[[\"Date\"]], wordvectordf], axis=1)"
   ]
  },
  {
   "cell_type": "markdown",
   "id": "9fe80263-89cd-4b3e-9a6f-4454484913e2",
   "metadata": {},
   "source": [
    "# Load BitCoin price history"
   ]
  },
  {
   "cell_type": "code",
   "execution_count": 19,
   "id": "b4afd436-562b-4711-b65a-180195d7c1c5",
   "metadata": {},
   "outputs": [],
   "source": [
    "dfprice = pd.read_csv('bitcoinprice2020-21.csv')"
   ]
  },
  {
   "cell_type": "code",
   "execution_count": 20,
   "id": "55abf6a9-da9d-48de-b9ef-10fbaf54b703",
   "metadata": {},
   "outputs": [],
   "source": [
    "dfprice[\"Date\"] = pd.to_datetime(dfprice[\"Date\"], infer_datetime_format=True)  "
   ]
  },
  {
   "cell_type": "code",
   "execution_count": 21,
   "id": "f3f4396e-b965-406a-852c-6ae502b9bcd6",
   "metadata": {},
   "outputs": [],
   "source": [
    "dfprice[\"Change %\"] = dfprice[\"Change %\"].str.rstrip('%').astype('float') / 100.0"
   ]
  },
  {
   "cell_type": "code",
   "execution_count": 22,
   "id": "6cdf03ce-15f2-4810-8dfb-481fb54efa69",
   "metadata": {},
   "outputs": [],
   "source": [
    "dfprice[\"NextDayChange\"] = dfprice[\"Change %\"].shift(-1)"
   ]
  },
  {
   "cell_type": "code",
   "execution_count": 23,
   "id": "7d20a0d0-7e51-4254-ac37-09fb5ff074dd",
   "metadata": {},
   "outputs": [],
   "source": [
    "dfvectorprice = pd.merge(dfbydayvector, dfprice[[\"Date\", \"NextDayChange\"]], left_on=\"Date\", right_on=\"Date\", how=\"outer\")"
   ]
  },
  {
   "cell_type": "code",
   "execution_count": 24,
   "id": "4a26767e-6aba-423b-851e-21748f61fb78",
   "metadata": {},
   "outputs": [],
   "source": [
    "dfvectorprice = dfvectorprice[dfvectorprice['00'].isna() == False].copy()"
   ]
  },
  {
   "cell_type": "code",
   "execution_count": 25,
   "id": "8e2bf54b-7719-42cf-b45e-77d41695103d",
   "metadata": {},
   "outputs": [],
   "source": [
    "conditions = [\n",
    "               (dfvectorprice[\"NextDayChange\"] <= -0.025), \n",
    "               (dfvectorprice[\"NextDayChange\"] > -0.025) & (dfvectorprice[\"NextDayChange\"] < 0.025),\n",
    "               (dfvectorprice[\"NextDayChange\"] >= 0.025)\n",
    "             ]\n",
    "values = [0, 1, 2]\n",
    "dfvectorprice['ChangeGroup'] = np.select(conditions, values)"
   ]
  },
  {
   "cell_type": "code",
   "execution_count": 26,
   "id": "0cd1c04e-c73c-4b76-9c9b-e463f0ec4fdb",
   "metadata": {},
   "outputs": [],
   "source": [
    "dfvectorprice = dfvectorprice.drop(['NextDayChange', 'Date'], axis=1)"
   ]
  },
  {
   "cell_type": "markdown",
   "id": "a754713a-b52c-4737-88b7-9b3f3afb21de",
   "metadata": {},
   "source": [
    "# Scale The Data"
   ]
  },
  {
   "cell_type": "code",
   "execution_count": 27,
   "id": "479540a4-d031-4f7a-a991-625ad13bcf93",
   "metadata": {},
   "outputs": [],
   "source": [
    "scaler = MinMaxScaler()"
   ]
  },
  {
   "cell_type": "code",
   "execution_count": 28,
   "id": "f24c5ca0-ca46-4dc6-8988-915365e29727",
   "metadata": {},
   "outputs": [],
   "source": [
    "dfvectorprice.loc[:, dfvectorprice.columns != 'ChangeGroup'] = scaler.fit_transform(dfvectorprice.loc[:, dfvectorprice.columns != 'ChangeGroup'] )"
   ]
  },
  {
   "cell_type": "markdown",
   "id": "5ae41159-75e8-4d23-8cba-0fd7b15d462c",
   "metadata": {},
   "source": [
    "# Create Train, Test, and Validation data sets"
   ]
  },
  {
   "cell_type": "code",
   "execution_count": 29,
   "id": "c6d332ae-5585-4e90-ac50-b0bb7932c232",
   "metadata": {},
   "outputs": [],
   "source": [
    "dfvectorprice_train, dfvectorprice_test = train_test_split(dfvectorprice, test_size=0.4)"
   ]
  },
  {
   "cell_type": "code",
   "execution_count": 30,
   "id": "d17347c5-23d3-4cc0-a308-67c0207ab2dc",
   "metadata": {},
   "outputs": [],
   "source": [
    "dfvectorprice_test, dfvectorprice_valid = train_test_split(dfvectorprice_test, test_size=0.5)"
   ]
  },
  {
   "cell_type": "code",
   "execution_count": 31,
   "id": "067fc027-ad8e-4d9b-af10-3983a957d546",
   "metadata": {},
   "outputs": [],
   "source": [
    "X_train = dfvectorprice_train.drop(['ChangeGroup'], axis=1).to_numpy()"
   ]
  },
  {
   "cell_type": "code",
   "execution_count": 32,
   "id": "0a5d33eb-7abb-43b8-9ea0-d95781013778",
   "metadata": {},
   "outputs": [],
   "source": [
    "y_train = dfvectorprice_train[[\"ChangeGroup\"]].to_numpy()"
   ]
  },
  {
   "cell_type": "code",
   "execution_count": 33,
   "id": "853b729a-bb5d-4f33-b704-520bb679127f",
   "metadata": {},
   "outputs": [],
   "source": [
    "X_test = dfvectorprice_test.drop(['ChangeGroup'], axis=1).to_numpy()"
   ]
  },
  {
   "cell_type": "code",
   "execution_count": 34,
   "id": "862c0d16-13b8-47c5-a1a0-9f1ea5c69ce7",
   "metadata": {},
   "outputs": [],
   "source": [
    "y_test = dfvectorprice_test[[\"ChangeGroup\"]].to_numpy()"
   ]
  },
  {
   "cell_type": "code",
   "execution_count": 35,
   "id": "36c15913-99c6-4922-b8bb-c47fc6ada4f2",
   "metadata": {},
   "outputs": [],
   "source": [
    "X_valid = dfvectorprice_valid.drop(['ChangeGroup'], axis=1).to_numpy()"
   ]
  },
  {
   "cell_type": "code",
   "execution_count": 36,
   "id": "bcb1aab6-eeeb-4671-85b6-16a0a443fa68",
   "metadata": {},
   "outputs": [],
   "source": [
    "y_valid = dfvectorprice_valid[[\"ChangeGroup\"]].to_numpy()"
   ]
  },
  {
   "cell_type": "markdown",
   "id": "3adaeb1b-3dd2-4539-8696-5065259bc398",
   "metadata": {},
   "source": [
    "# Analyze"
   ]
  },
  {
   "cell_type": "code",
   "execution_count": 37,
   "id": "67554833-0e07-4af1-b980-cf139006bea8",
   "metadata": {},
   "outputs": [],
   "source": [
    "cgdf = dfvectorprice_train[[\"ChangeGroup\"]].copy()"
   ]
  },
  {
   "cell_type": "code",
   "execution_count": 38,
   "id": "6b4c4714-76cb-4137-b1d5-d7afa13644d1",
   "metadata": {},
   "outputs": [],
   "source": [
    "cgdf[\"Change Group\"] = \"\""
   ]
  },
  {
   "cell_type": "code",
   "execution_count": 39,
   "id": "b29ffa28-8468-4086-b329-2e6cf993bd1f",
   "metadata": {},
   "outputs": [],
   "source": [
    "cgdf.loc[cgdf['ChangeGroup'] == 0, 'Change Group'] = \"Decrease\"\n",
    "cgdf.loc[cgdf['ChangeGroup'] == 1, 'Change Group'] = \"No Change\"\n",
    "cgdf.loc[cgdf['ChangeGroup'] == 2, 'Change Group'] = \"Increase\""
   ]
  },
  {
   "cell_type": "code",
   "execution_count": 40,
   "id": "4933c8ca-50c3-4550-8aef-579bd13a0bfd",
   "metadata": {},
   "outputs": [
    {
     "data": {
      "text/plain": [
       "Text(0, 0.5, '')"
      ]
     },
     "execution_count": 40,
     "metadata": {},
     "output_type": "execute_result"
    },
    {
     "data": {
      "image/png": "[encoded data removed]",
      "text/plain": [
       "<Figure size 432x288 with 1 Axes>"
      ]
     },
     "metadata": {},
     "output_type": "display_data"
    }
   ],
   "source": [
    "ax = cgdf[\"Change Group\"].value_counts().plot.pie(autopct='%1.0f%%', title=\"Change Group\", legend=False)\n",
    "ax.set_ylabel('')"
   ]
  },
  {
   "cell_type": "markdown",
   "id": "3d3edade-e04e-452b-846f-2363689f231d",
   "metadata": {},
   "source": [
    "# Find 20 Best Words For Predicting Price"
   ]
  },
  {
   "cell_type": "code",
   "execution_count": 41,
   "id": "24481bee-14ec-48e5-a2ea-d45e3011f65a",
   "metadata": {},
   "outputs": [],
   "source": [
    "seletbest = SelectKBest(k=20).fit(X_train, y_train.ravel())"
   ]
  },
  {
   "cell_type": "code",
   "execution_count": 42,
   "id": "1cc452a7-f34a-41f7-b15c-4a830d94e7df",
   "metadata": {},
   "outputs": [],
   "source": [
    "X_trainnew = seletbest.transform(X_train)"
   ]
  },
  {
   "cell_type": "code",
   "execution_count": 43,
   "id": "b02439dd-69c2-4029-9941-93bc90b6383b",
   "metadata": {},
   "outputs": [],
   "source": [
    "X_testnew = seletbest.transform(X_test)"
   ]
  },
  {
   "cell_type": "code",
   "execution_count": 44,
   "id": "0b5776fe-0eff-4b92-85fb-1f4db8c25212",
   "metadata": {},
   "outputs": [],
   "source": [
    "X_validnew = seletbest.transform(X_valid)"
   ]
  },
  {
   "cell_type": "markdown",
   "id": "49925237-344a-41e8-a402-dfae04a81fbf",
   "metadata": {},
   "source": [
    "# Build Neural Network"
   ]
  },
  {
   "cell_type": "code",
   "execution_count": 45,
   "id": "f60c31ff-624e-4c85-8bac-8f26dcba6485",
   "metadata": {},
   "outputs": [],
   "source": [
    "root_logdir = os.path.join(os.curdir, \"tensor_logs\")\n",
    "def get_run_logdir():\n",
    "    run_id = time.strftime(\"run_%Y_%m_%d-%H_%M_%S\")\n",
    "    return os.path.join(root_logdir, run_id)"
   ]
  },
  {
   "cell_type": "code",
   "execution_count": 46,
   "id": "26cbb851-c189-4c95-9cfe-fa548d53df60",
   "metadata": {},
   "outputs": [],
   "source": [
    "model = keras.models.Sequential()\n",
    "model.add(keras.layers.InputLayer(input_shape=[20,]))\n",
    "model.add(keras.layers.Dense(300, activation=\"relu\"))\n",
    "model.add(keras.layers.Dense(100, activation=\"relu\"))\n",
    "model.add(keras.layers.Dense(3, activation=\"softmax\"))"
   ]
  },
  {
   "cell_type": "code",
   "execution_count": 47,
   "id": "dda58d9f-41bf-463a-a97b-ab898436e795",
   "metadata": {},
   "outputs": [],
   "source": [
    "model.compile(loss=\"sparse_categorical_crossentropy\", optimizer=\"sgd\", metrics=[\"accuracy\"])"
   ]
  },
  {
   "cell_type": "code",
   "execution_count": 48,
   "id": "7233d749-1469-4020-a28f-352e701d1dac",
   "metadata": {},
   "outputs": [
    {
     "name": "stdout",
     "output_type": "stream",
     "text": [
      "Epoch 1/30\n",
      "11/11 [==============================] - 1s 41ms/step - loss: 1.0949 - accuracy: 0.3445 - val_loss: 1.0912 - val_accuracy: 0.4818\n",
      "Epoch 2/30\n",
      "11/11 [==============================] - 0s 5ms/step - loss: 1.0771 - accuracy: 0.5305 - val_loss: 1.0649 - val_accuracy: 0.6909\n",
      "Epoch 3/30\n",
      "11/11 [==============================] - 0s 5ms/step - loss: 1.0606 - accuracy: 0.5976 - val_loss: 1.0432 - val_accuracy: 0.7000\n",
      "Epoch 4/30\n",
      "11/11 [==============================] - 0s 5ms/step - loss: 1.0470 - accuracy: 0.5884 - val_loss: 1.0236 - val_accuracy: 0.7091\n",
      "Epoch 5/30\n",
      "11/11 [==============================] - 0s 7ms/step - loss: 1.0353 - accuracy: 0.5732 - val_loss: 1.0013 - val_accuracy: 0.7091\n",
      "Epoch 6/30\n",
      "11/11 [==============================] - 0s 4ms/step - loss: 1.0230 - accuracy: 0.5640 - val_loss: 0.9832 - val_accuracy: 0.7182\n",
      "Epoch 7/30\n",
      "11/11 [==============================] - 0s 4ms/step - loss: 1.0125 - accuracy: 0.5610 - val_loss: 0.9662 - val_accuracy: 0.7182\n",
      "Epoch 8/30\n",
      "11/11 [==============================] - 0s 4ms/step - loss: 1.0033 - accuracy: 0.5610 - val_loss: 0.9492 - val_accuracy: 0.7091\n",
      "Epoch 9/30\n",
      "11/11 [==============================] - 0s 4ms/step - loss: 0.9949 - accuracy: 0.5610 - val_loss: 0.9384 - val_accuracy: 0.7091\n",
      "Epoch 10/30\n",
      "11/11 [==============================] - 0s 4ms/step - loss: 0.9886 - accuracy: 0.5610 - val_loss: 0.9279 - val_accuracy: 0.7091\n",
      "Epoch 11/30\n",
      "11/11 [==============================] - 0s 4ms/step - loss: 0.9827 - accuracy: 0.5610 - val_loss: 0.9176 - val_accuracy: 0.7091\n",
      "Epoch 12/30\n",
      "11/11 [==============================] - 0s 4ms/step - loss: 0.9768 - accuracy: 0.5610 - val_loss: 0.9082 - val_accuracy: 0.7091\n",
      "Epoch 13/30\n",
      "11/11 [==============================] - 0s 5ms/step - loss: 0.9717 - accuracy: 0.5610 - val_loss: 0.9002 - val_accuracy: 0.7091\n",
      "Epoch 14/30\n",
      "11/11 [==============================] - 0s 4ms/step - loss: 0.9672 - accuracy: 0.5610 - val_loss: 0.8929 - val_accuracy: 0.7091\n",
      "Epoch 15/30\n",
      "11/11 [==============================] - 0s 5ms/step - loss: 0.9631 - accuracy: 0.5610 - val_loss: 0.8846 - val_accuracy: 0.7091\n",
      "Epoch 16/30\n",
      "11/11 [==============================] - 0s 5ms/step - loss: 0.9588 - accuracy: 0.5610 - val_loss: 0.8791 - val_accuracy: 0.7091\n",
      "Epoch 17/30\n",
      "11/11 [==============================] - 0s 4ms/step - loss: 0.9554 - accuracy: 0.5610 - val_loss: 0.8752 - val_accuracy: 0.7091\n",
      "Epoch 18/30\n",
      "11/11 [==============================] - 0s 4ms/step - loss: 0.9522 - accuracy: 0.5610 - val_loss: 0.8715 - val_accuracy: 0.7091\n",
      "Epoch 19/30\n",
      "11/11 [==============================] - 0s 4ms/step - loss: 0.9488 - accuracy: 0.5610 - val_loss: 0.8670 - val_accuracy: 0.7091\n",
      "Epoch 20/30\n",
      "11/11 [==============================] - 0s 4ms/step - loss: 0.9455 - accuracy: 0.5610 - val_loss: 0.8648 - val_accuracy: 0.7091\n",
      "Epoch 21/30\n",
      "11/11 [==============================] - 0s 4ms/step - loss: 0.9427 - accuracy: 0.5610 - val_loss: 0.8606 - val_accuracy: 0.7091\n",
      "Epoch 22/30\n",
      "11/11 [==============================] - 0s 5ms/step - loss: 0.9399 - accuracy: 0.5610 - val_loss: 0.8559 - val_accuracy: 0.7091\n",
      "Epoch 23/30\n",
      "11/11 [==============================] - 0s 4ms/step - loss: 0.9370 - accuracy: 0.5610 - val_loss: 0.8552 - val_accuracy: 0.7091\n",
      "Epoch 24/30\n",
      "11/11 [==============================] - 0s 4ms/step - loss: 0.9347 - accuracy: 0.5610 - val_loss: 0.8499 - val_accuracy: 0.7091\n",
      "Epoch 25/30\n",
      "11/11 [==============================] - 0s 4ms/step - loss: 0.9319 - accuracy: 0.5610 - val_loss: 0.8474 - val_accuracy: 0.7091\n",
      "Epoch 26/30\n",
      "11/11 [==============================] - 0s 5ms/step - loss: 0.9293 - accuracy: 0.5610 - val_loss: 0.8451 - val_accuracy: 0.7091\n",
      "Epoch 27/30\n",
      "11/11 [==============================] - 0s 4ms/step - loss: 0.9264 - accuracy: 0.5610 - val_loss: 0.8427 - val_accuracy: 0.7000\n",
      "Epoch 28/30\n",
      "11/11 [==============================] - 0s 4ms/step - loss: 0.9238 - accuracy: 0.5610 - val_loss: 0.8421 - val_accuracy: 0.7000\n",
      "Epoch 29/30\n",
      "11/11 [==============================] - 0s 4ms/step - loss: 0.9214 - accuracy: 0.5610 - val_loss: 0.8388 - val_accuracy: 0.7000\n",
      "Epoch 30/30\n",
      "11/11 [==============================] - 0s 5ms/step - loss: 0.9187 - accuracy: 0.5610 - val_loss: 0.8378 - val_accuracy: 0.7000\n"
     ]
    }
   ],
   "source": [
    "run_logdir = get_run_logdir()\n",
    "tensorboard_cb = keras.callbacks.TensorBoard(run_logdir)\n",
    "history = model.fit(X_trainnew, y_train, epochs=30, validation_data=(X_validnew, y_valid), callbacks=[tensorboard_cb])"
   ]
  },
  {
   "cell_type": "code",
   "execution_count": 49,
   "id": "cc2ff93d-b56d-4002-b7a1-5a0b8d54e4c9",
   "metadata": {},
   "outputs": [
    {
     "data": {
      "image/png": "[encoded data removed]",
      "text/plain": [
       "<Figure size 576x360 with 1 Axes>"
      ]
     },
     "metadata": {
      "needs_background": "light"
     },
     "output_type": "display_data"
    }
   ],
   "source": [
    "pd.DataFrame(history.history).plot(figsize=(8,5))\n",
    "plt.grid(True)\n",
    "plt.gca().set_ylim(0,1)\n",
    "plt.show()"
   ]
  },
  {
   "cell_type": "code",
   "execution_count": 50,
   "id": "2b6be09e-e29a-4e74-8a12-ca4827ef9d7d",
   "metadata": {},
   "outputs": [
    {
     "name": "stdout",
     "output_type": "stream",
     "text": [
      "4/4 [==============================] - 0s 2ms/step - loss: 0.8831 - accuracy: 0.6697\n"
     ]
    },
    {
     "data": {
      "text/plain": [
       "[0.8831192255020142, 0.6697247624397278]"
      ]
     },
     "execution_count": 50,
     "metadata": {},
     "output_type": "execute_result"
    }
   ],
   "source": [
    "model.evaluate(X_testnew, y_test)"
   ]
  },
  {
   "cell_type": "code",
   "execution_count": 51,
   "id": "46b58bfc-c9f4-48b4-8b57-68c72b9ad803",
   "metadata": {},
   "outputs": [
    {
     "data": {
      "text/plain": [
       "<tf.Tensor: shape=(109,), dtype=int64, numpy=\n",
       "array([1, 1, 1, 1, 1, 1, 1, 1, 1, 1, 1, 1, 1, 1, 1, 1, 1, 1, 1, 1, 1, 1,\n",
       "       1, 1, 1, 1, 1, 1, 1, 1, 1, 1, 1, 1, 1, 1, 1, 1, 1, 1, 1, 1, 1, 1,\n",
       "       1, 1, 1, 1, 1, 1, 1, 1, 1, 1, 1, 1, 1, 1, 1, 1, 1, 1, 1, 1, 1, 1,\n",
       "       1, 1, 1, 1, 1, 1, 1, 2, 1, 1, 1, 1, 1, 1, 1, 1, 1, 1, 1, 1, 1, 1,\n",
       "       1, 1, 1, 1, 1, 1, 1, 1, 1, 1, 1, 1, 1, 1, 1, 1, 1, 1, 1, 1, 1],\n",
       "      dtype=int64)>"
      ]
     },
     "execution_count": 51,
     "metadata": {},
     "output_type": "execute_result"
    }
   ],
   "source": [
    "y_proba = model.predict(X_testnew)\n",
    "indexes = tf.argmax(y_proba, axis=1)\n",
    "indexes"
   ]
  },
  {
   "cell_type": "code",
   "execution_count": 52,
   "id": "7b19f2d8-fd31-404a-becb-d28d48ea15e7",
   "metadata": {},
   "outputs": [],
   "source": [
    "resultdf = pd.DataFrame(indexes)\n",
    "resultdf[\"Change Group\"] = \"Unknown\"\n",
    "resultdf.loc[resultdf[0] == 0, 'Change Group'] = \"Decrease\"\n",
    "resultdf.loc[resultdf[0] == 1, 'Change Group'] = \"No Change\"\n",
    "resultdf.loc[resultdf[0] == 2, 'Change Group'] = \"Increase\""
   ]
  },
  {
   "cell_type": "code",
   "execution_count": 53,
   "id": "c8cd8fb6-487b-4be9-ba58-03b63e9019ab",
   "metadata": {},
   "outputs": [
    {
     "data": {
      "text/plain": [
       "Text(0, 0.5, '')"
      ]
     },
     "execution_count": 53,
     "metadata": {},
     "output_type": "execute_result"
    },
    {
     "data": {
      "image/png": "[encoded data removed]",
      "text/plain": [
       "<Figure size 432x288 with 1 Axes>"
      ]
     },
     "metadata": {},
     "output_type": "display_data"
    }
   ],
   "source": [
    "ax = resultdf[\"Change Group\"].value_counts().plot.pie(autopct='%1.0f%%', title=\"Change Group\", legend=False)\n",
    "ax.set_ylabel('')"
   ]
  },
  {
   "cell_type": "code",
   "execution_count": null,
   "id": "737df464-8718-47c5-9a76-986d6000e5f6",
   "metadata": {},
   "outputs": [],
   "source": []
  },
  {
   "cell_type": "code",
   "execution_count": null,
   "id": "687f97b4-6089-48b5-a961-ca285f3889cf",
   "metadata": {},
   "outputs": [],
   "source": []
  },
  {
   "cell_type": "code",
   "execution_count": null,
   "id": "b8b10538-f5eb-4274-87a0-c21144c2559a",
   "metadata": {},
   "outputs": [],
   "source": []
  },
  {
   "cell_type": "code",
   "execution_count": 99,
   "id": "a3ddf50c-f00a-43f0-a61c-5c1fbea7d77c",
   "metadata": {},
   "outputs": [
    {
     "name": "stderr",
     "output_type": "stream",
     "text": [
      "c:\\users\\emaibach\\appdata\\local\\programs\\python\\python39\\lib\\site-packages\\sklearn\\feature_selection\\_univariate_selection.py:112: UserWarning: Features [    14     26     29 ... 762260 762291 762302] are constant.\n",
      "  warnings.warn(\"Features %s are constant.\" % constant_features_idx, UserWarning)\n",
      "c:\\users\\emaibach\\appdata\\local\\programs\\python\\python39\\lib\\site-packages\\sklearn\\feature_selection\\_univariate_selection.py:113: RuntimeWarning: invalid value encountered in true_divide\n",
      "  f = msb / msw\n"
     ]
    }
   ],
   "source": [
    "seletbest = SelectKBest(k=5).fit(X_train, y_train.ravel())"
   ]
  },
  {
   "cell_type": "code",
   "execution_count": 100,
   "id": "84df2589-62c4-4790-a3fc-6197f1ffdf80",
   "metadata": {},
   "outputs": [],
   "source": [
    "X_trainnew = seletbest.transform(X_train)"
   ]
  },
  {
   "cell_type": "code",
   "execution_count": 101,
   "id": "e8c65b38-7989-4d30-b038-8277670eb6db",
   "metadata": {},
   "outputs": [],
   "source": [
    "X_testnew = seletbest.transform(X_test)"
   ]
  },
  {
   "cell_type": "code",
   "execution_count": 102,
   "id": "87a179ca-1a40-4d7a-a7eb-3f78c157bd8b",
   "metadata": {},
   "outputs": [],
   "source": [
    "X_validnew = seletbest.transform(X_valid)"
   ]
  },
  {
   "cell_type": "code",
   "execution_count": 106,
   "id": "2a0b2d1a-2b12-41f0-9241-9bda03fdd541",
   "metadata": {},
   "outputs": [],
   "source": [
    "model = keras.models.Sequential()\n",
    "model.add(keras.layers.InputLayer(input_shape=[5,]))\n",
    "model.add(keras.layers.Dense(300, activation=\"relu\"))\n",
    "model.add(keras.layers.Dense(100, activation=\"relu\"))\n",
    "model.add(keras.layers.Dense(3, activation=\"softmax\"))"
   ]
  },
  {
   "cell_type": "code",
   "execution_count": 107,
   "id": "c6d6a2af-0473-458b-a5fd-7de8c445b91f",
   "metadata": {},
   "outputs": [],
   "source": [
    "model.compile(loss=\"sparse_categorical_crossentropy\", optimizer=\"sgd\", metrics=[\"accuracy\"])"
   ]
  },
  {
   "cell_type": "code",
   "execution_count": 108,
   "id": "70bf430e-0c80-437f-bb5e-0ae3f1884c03",
   "metadata": {},
   "outputs": [
    {
     "name": "stdout",
     "output_type": "stream",
     "text": [
      "Epoch 1/30\n",
      "4/4 [==============================] - 1s 183ms/step - loss: 1.0756 - accuracy: 0.3333 - val_loss: 1.0866 - val_accuracy: 0.3784\n",
      "Epoch 2/30\n",
      "4/4 [==============================] - 0s 9ms/step - loss: 1.0638 - accuracy: 0.3333 - val_loss: 1.0839 - val_accuracy: 0.4054\n",
      "Epoch 3/30\n",
      "4/4 [==============================] - 0s 10ms/step - loss: 1.0543 - accuracy: 0.4167 - val_loss: 1.0806 - val_accuracy: 0.4595\n",
      "Epoch 4/30\n",
      "4/4 [==============================] - 0s 10ms/step - loss: 1.0453 - accuracy: 0.5000 - val_loss: 1.0788 - val_accuracy: 0.4595\n",
      "Epoch 5/30\n",
      "4/4 [==============================] - 0s 9ms/step - loss: 1.0371 - accuracy: 0.5185 - val_loss: 1.0778 - val_accuracy: 0.3784\n",
      "Epoch 6/30\n",
      "4/4 [==============================] - 0s 9ms/step - loss: 1.0306 - accuracy: 0.5278 - val_loss: 1.0772 - val_accuracy: 0.3784\n",
      "Epoch 7/30\n",
      "4/4 [==============================] - 0s 9ms/step - loss: 1.0235 - accuracy: 0.5278 - val_loss: 1.0758 - val_accuracy: 0.3514\n",
      "Epoch 8/30\n",
      "4/4 [==============================] - 0s 9ms/step - loss: 1.0174 - accuracy: 0.5278 - val_loss: 1.0760 - val_accuracy: 0.3243\n",
      "Epoch 9/30\n",
      "4/4 [==============================] - 0s 12ms/step - loss: 1.0111 - accuracy: 0.5741 - val_loss: 1.0756 - val_accuracy: 0.3243\n",
      "Epoch 10/30\n",
      "4/4 [==============================] - 0s 11ms/step - loss: 1.0061 - accuracy: 0.5833 - val_loss: 1.0740 - val_accuracy: 0.4054\n",
      "Epoch 11/30\n",
      "4/4 [==============================] - 0s 9ms/step - loss: 1.0004 - accuracy: 0.6019 - val_loss: 1.0748 - val_accuracy: 0.3784\n",
      "Epoch 12/30\n",
      "4/4 [==============================] - 0s 9ms/step - loss: 0.9950 - accuracy: 0.6019 - val_loss: 1.0741 - val_accuracy: 0.4054\n",
      "Epoch 13/30\n",
      "4/4 [==============================] - 0s 9ms/step - loss: 0.9906 - accuracy: 0.5926 - val_loss: 1.0739 - val_accuracy: 0.4054\n",
      "Epoch 14/30\n",
      "4/4 [==============================] - 0s 9ms/step - loss: 0.9862 - accuracy: 0.6019 - val_loss: 1.0737 - val_accuracy: 0.4054\n",
      "Epoch 15/30\n",
      "4/4 [==============================] - 0s 9ms/step - loss: 0.9826 - accuracy: 0.6019 - val_loss: 1.0744 - val_accuracy: 0.4054\n",
      "Epoch 16/30\n",
      "4/4 [==============================] - 0s 9ms/step - loss: 0.9782 - accuracy: 0.6019 - val_loss: 1.0741 - val_accuracy: 0.4054\n",
      "Epoch 17/30\n",
      "4/4 [==============================] - 0s 10ms/step - loss: 0.9732 - accuracy: 0.6019 - val_loss: 1.0741 - val_accuracy: 0.4054\n",
      "Epoch 18/30\n",
      "4/4 [==============================] - 0s 9ms/step - loss: 0.9692 - accuracy: 0.6111 - val_loss: 1.0735 - val_accuracy: 0.4324\n",
      "Epoch 19/30\n",
      "4/4 [==============================] - 0s 9ms/step - loss: 0.9653 - accuracy: 0.6019 - val_loss: 1.0741 - val_accuracy: 0.4324\n",
      "Epoch 20/30\n",
      "4/4 [==============================] - 0s 9ms/step - loss: 0.9623 - accuracy: 0.5926 - val_loss: 1.0747 - val_accuracy: 0.4595\n",
      "Epoch 21/30\n",
      "4/4 [==============================] - 0s 10ms/step - loss: 0.9585 - accuracy: 0.5926 - val_loss: 1.0743 - val_accuracy: 0.4595\n",
      "Epoch 22/30\n",
      "4/4 [==============================] - 0s 9ms/step - loss: 0.9548 - accuracy: 0.6019 - val_loss: 1.0744 - val_accuracy: 0.4324\n",
      "Epoch 23/30\n",
      "4/4 [==============================] - 0s 9ms/step - loss: 0.9517 - accuracy: 0.6111 - val_loss: 1.0746 - val_accuracy: 0.4324\n",
      "Epoch 24/30\n",
      "4/4 [==============================] - 0s 10ms/step - loss: 0.9489 - accuracy: 0.6204 - val_loss: 1.0753 - val_accuracy: 0.4324\n",
      "Epoch 25/30\n",
      "4/4 [==============================] - 0s 10ms/step - loss: 0.9440 - accuracy: 0.6204 - val_loss: 1.0762 - val_accuracy: 0.4324\n",
      "Epoch 26/30\n",
      "4/4 [==============================] - 0s 10ms/step - loss: 0.9409 - accuracy: 0.6111 - val_loss: 1.0782 - val_accuracy: 0.4324\n",
      "Epoch 27/30\n",
      "4/4 [==============================] - 0s 9ms/step - loss: 0.9382 - accuracy: 0.5926 - val_loss: 1.0786 - val_accuracy: 0.4324\n",
      "Epoch 28/30\n",
      "4/4 [==============================] - 0s 10ms/step - loss: 0.9342 - accuracy: 0.6111 - val_loss: 1.0803 - val_accuracy: 0.4324\n",
      "Epoch 29/30\n",
      "4/4 [==============================] - 0s 11ms/step - loss: 0.9312 - accuracy: 0.6111 - val_loss: 1.0821 - val_accuracy: 0.4324\n",
      "Epoch 30/30\n",
      "4/4 [==============================] - 0s 9ms/step - loss: 0.9283 - accuracy: 0.6111 - val_loss: 1.0822 - val_accuracy: 0.4324\n"
     ]
    }
   ],
   "source": [
    "run_logdir = get_run_logdir()\n",
    "tensorboard_cb = keras.callbacks.TensorBoard(run_logdir)\n",
    "history = model.fit(X_trainnew, y_train, epochs=30, validation_data=(X_validnew, y_valid), callbacks=[tensorboard_cb])"
   ]
  },
  {
   "cell_type": "code",
   "execution_count": 98,
   "id": "440502c1-2bde-4417-a672-79484b5d2b32",
   "metadata": {},
   "outputs": [
    {
     "name": "stdout",
     "output_type": "stream",
     "text": [
      "2/2 [==============================] - 0s 2ms/step - loss: 1.0000 - accuracy: 0.5000\n"
     ]
    },
    {
     "data": {
      "text/plain": [
       "[0.999980628490448, 0.5]"
      ]
     },
     "execution_count": 98,
     "metadata": {},
     "output_type": "execute_result"
    }
   ],
   "source": [
    "model.evaluate(X_testnew, y_test)"
   ]
  },
  {
   "cell_type": "code",
   "execution_count": null,
   "id": "fb54af61-751c-4084-99a6-74de0f41a6d8",
   "metadata": {},
   "outputs": [],
   "source": []
  }
 ],
 "metadata": {
  "kernelspec": {
   "display_name": "Python 3",
   "language": "python",
   "name": "python3"
  },
  "language_info": {
   "codemirror_mode": {
    "name": "ipython",
    "version": 3
   },
   "file_extension": ".py",
   "mimetype": "text/x-python",
   "name": "python",
   "nbconvert_exporter": "python",
   "pygments_lexer": "ipython3",
   "version": "3.9.5"
  }
 },
 "nbformat": 4,
 "nbformat_minor": 5
}
